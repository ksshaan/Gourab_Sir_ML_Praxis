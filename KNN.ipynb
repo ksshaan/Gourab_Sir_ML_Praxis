{
 "cells": [
  {
   "cell_type": "code",
   "execution_count": 33,
   "metadata": {},
   "outputs": [],
   "source": [
    "import numpy as np\n",
    "import pandas as pd\n",
    "import time as t\n",
    "import math\n",
    "from sklearn.metrics import mean_squared_error\n",
    "from sklearn.metrics import r2_score\n",
    "from sklearn import preprocessing\n",
    "\n",
    "\n",
    "from sklearn.model_selection import train_test_split"
   ]
  },
  {
   "cell_type": "code",
   "execution_count": 51,
   "metadata": {},
   "outputs": [],
   "source": [
    "iris = pd.read_csv(r'C:\\Users\\hp\\Documents\\Praxis_Docs\\GOURAB_SIR_PYTHON_ML\\ML\\iris.csv')"
   ]
  },
  {
   "cell_type": "code",
   "execution_count": 52,
   "metadata": {},
   "outputs": [
    {
     "data": {
      "text/html": [
       "<div>\n",
       "<style scoped>\n",
       "    .dataframe tbody tr th:only-of-type {\n",
       "        vertical-align: middle;\n",
       "    }\n",
       "\n",
       "    .dataframe tbody tr th {\n",
       "        vertical-align: top;\n",
       "    }\n",
       "\n",
       "    .dataframe thead th {\n",
       "        text-align: right;\n",
       "    }\n",
       "</style>\n",
       "<table border=\"1\" class=\"dataframe\">\n",
       "  <thead>\n",
       "    <tr style=\"text-align: right;\">\n",
       "      <th></th>\n",
       "      <th>Unnamed: 0</th>\n",
       "      <th>Sepal.Length</th>\n",
       "      <th>Sepal.Width</th>\n",
       "      <th>Petal.Length</th>\n",
       "      <th>Petal.Width</th>\n",
       "      <th>Species</th>\n",
       "    </tr>\n",
       "  </thead>\n",
       "  <tbody>\n",
       "    <tr>\n",
       "      <td>145</td>\n",
       "      <td>146</td>\n",
       "      <td>6.7</td>\n",
       "      <td>3.0</td>\n",
       "      <td>5.2</td>\n",
       "      <td>2.3</td>\n",
       "      <td>virginica</td>\n",
       "    </tr>\n",
       "    <tr>\n",
       "      <td>146</td>\n",
       "      <td>147</td>\n",
       "      <td>6.3</td>\n",
       "      <td>2.5</td>\n",
       "      <td>5.0</td>\n",
       "      <td>1.9</td>\n",
       "      <td>virginica</td>\n",
       "    </tr>\n",
       "    <tr>\n",
       "      <td>147</td>\n",
       "      <td>148</td>\n",
       "      <td>6.5</td>\n",
       "      <td>3.0</td>\n",
       "      <td>5.2</td>\n",
       "      <td>2.0</td>\n",
       "      <td>virginica</td>\n",
       "    </tr>\n",
       "    <tr>\n",
       "      <td>148</td>\n",
       "      <td>149</td>\n",
       "      <td>6.2</td>\n",
       "      <td>3.4</td>\n",
       "      <td>5.4</td>\n",
       "      <td>2.3</td>\n",
       "      <td>virginica</td>\n",
       "    </tr>\n",
       "    <tr>\n",
       "      <td>149</td>\n",
       "      <td>150</td>\n",
       "      <td>5.9</td>\n",
       "      <td>3.0</td>\n",
       "      <td>5.1</td>\n",
       "      <td>1.8</td>\n",
       "      <td>virginica</td>\n",
       "    </tr>\n",
       "  </tbody>\n",
       "</table>\n",
       "</div>"
      ],
      "text/plain": [
       "     Unnamed: 0  Sepal.Length  Sepal.Width  Petal.Length  Petal.Width  \\\n",
       "145         146           6.7          3.0           5.2          2.3   \n",
       "146         147           6.3          2.5           5.0          1.9   \n",
       "147         148           6.5          3.0           5.2          2.0   \n",
       "148         149           6.2          3.4           5.4          2.3   \n",
       "149         150           5.9          3.0           5.1          1.8   \n",
       "\n",
       "       Species  \n",
       "145  virginica  \n",
       "146  virginica  \n",
       "147  virginica  \n",
       "148  virginica  \n",
       "149  virginica  "
      ]
     },
     "execution_count": 52,
     "metadata": {},
     "output_type": "execute_result"
    }
   ],
   "source": [
    "iris.tail()"
   ]
  },
  {
   "cell_type": "code",
   "execution_count": null,
   "metadata": {},
   "outputs": [],
   "source": [
    "desc = iris.describe()\n",
    "np.transpose(desc)"
   ]
  },
  {
   "cell_type": "code",
   "execution_count": null,
   "metadata": {},
   "outputs": [],
   "source": [
    "X = iris[['Sepal.Length','Sepal.Width','Petal.Length','Petal.Width']]\n",
    "y=iris[['Species']]"
   ]
  },
  {
   "cell_type": "code",
   "execution_count": null,
   "metadata": {},
   "outputs": [],
   "source": [
    "X_train,X_test,y_train,y_test=train_test_split(X,y,test_size=0.3,stratify=y,random_state =100)"
   ]
  },
  {
   "cell_type": "code",
   "execution_count": null,
   "metadata": {},
   "outputs": [],
   "source": [
    "test =X_test.iloc[0,]\n",
    "test"
   ]
  },
  {
   "cell_type": "code",
   "execution_count": null,
   "metadata": {},
   "outputs": [],
   "source": [
    "dist=[]\n",
    "for i in range (len(X_train)):\n",
    "    test =X_test.iloc[0,]\n",
    "    #np.sum((test-X_train.iloc[i,]**2))\n",
    "    \n",
    "    distance = np.sqrt(np.sum((test-X_train.iloc[i,])**2))\n",
    "    dist.append((distance,i))\n",
    "\n",
    "dist.sort()    \n",
    "dist[:10]       \n",
    "  "
   ]
  },
  {
   "cell_type": "code",
   "execution_count": null,
   "metadata": {},
   "outputs": [],
   "source": [
    "dist.sort()\n",
    "dist[0][1]"
   ]
  },
  {
   "cell_type": "code",
   "execution_count": null,
   "metadata": {},
   "outputs": [],
   "source": [
    "X_train.iloc[87,]"
   ]
  },
  {
   "cell_type": "code",
   "execution_count": null,
   "metadata": {},
   "outputs": [],
   "source": [
    "test"
   ]
  },
  {
   "cell_type": "code",
   "execution_count": null,
   "metadata": {},
   "outputs": [],
   "source": [
    "y_train.iloc[87,]"
   ]
  },
  {
   "cell_type": "code",
   "execution_count": null,
   "metadata": {},
   "outputs": [],
   "source": [
    "y_test.iloc[0]"
   ]
  },
  {
   "cell_type": "code",
   "execution_count": null,
   "metadata": {},
   "outputs": [],
   "source": [
    "\n",
    "#TUPLE : \n",
    "s='abc'\n",
    "t=(1,2,3)\n",
    "#t[1]=20#like strings we cant do this\n"
   ]
  },
  {
   "cell_type": "code",
   "execution_count": null,
   "metadata": {},
   "outputs": [],
   "source": [
    "s[1]+ 'e'+s[2]\n",
    "#"
   ]
  },
  {
   "cell_type": "code",
   "execution_count": null,
   "metadata": {},
   "outputs": [],
   "source": [
    "t[:1]+(20,)+t[2:]"
   ]
  },
  {
   "cell_type": "code",
   "execution_count": null,
   "metadata": {},
   "outputs": [],
   "source": [
    "def euclid_dist(X_train,test):\n",
    "    dist=[]\n",
    "    for i in range (len(X_train)):\n",
    "        #test =X_test.iloc[0,]\n",
    "        #np.sum((test-X_train.iloc[i,]**2))\n",
    "    \n",
    "        distance = np.sqrt(np.sum((test-X_train.iloc[i,])**2))\n",
    "        dist.append((distance,i))\n",
    "    \n",
    "    dist.sort()\n",
    "    neighbor=dist[0][1]\n",
    "    return neighbor\n"
   ]
  },
  {
   "cell_type": "code",
   "execution_count": null,
   "metadata": {},
   "outputs": [],
   "source": [
    "#Finding Neighbors for all of the X_test \n",
    "knn = []\n",
    "for i in range (len(X_test)):\n",
    "    test =X_test.iloc[i,]\n",
    "    k=euclid_dist(X_train,test)\n",
    "    knn.append((k,i))\n",
    "\n",
    "\n",
    "pred = []    \n",
    "for j in range(len(knn)):\n",
    "    value = y_train.iloc[knn[j][0]]\n",
    "    pred.append(value)\n",
    "actual = np.array(y_test).reshape(45,)\n",
    "predicted =np.array(pred).reshape(45,)\n",
    "   \n",
    "df = pd.DataFrame({\"Actual\":actual,\"Predicted\":predicted})\n",
    "df"
   ]
  },
  {
   "cell_type": "code",
   "execution_count": null,
   "metadata": {},
   "outputs": [],
   "source": []
  },
  {
   "cell_type": "code",
   "execution_count": null,
   "metadata": {},
   "outputs": [],
   "source": [
    "#Method : dist = sqrt((x11-x12)^2 + (x21-x22)^2 +...)\n",
    "\n",
    "dist=[]\n",
    "for i in range (len(X_train)):\n",
    "    test =X_test.iloc[0,]\n",
    "    distance = 0\n",
    "    for j in range(X_train.shape[1]):\n",
    "        distance+=(X_train.iloc[i][j]-test[j])**2\n",
    "    #np.sum((test-X_train.iloc[i,]**2))\n",
    "    \n",
    "    #distance = np.sqrt(np.sum((test-X_train.iloc[i,])**2))\n",
    "    dist.append((np.sqrt(distance),i))\n",
    "\n",
    "dist.sort()\n",
    "dist[0:10]\n",
    "  "
   ]
  },
  {
   "cell_type": "code",
   "execution_count": null,
   "metadata": {},
   "outputs": [],
   "source": [
    "# DOT Product method diff*diffT\n",
    "start_time = t.time()\n",
    "dist=[]\n",
    "for i in range (len(X_train)):\n",
    "    test =X_test.iloc[0,]\n",
    "    \n",
    "    diff = X_train.iloc[i] - test\n",
    "    difft =np.transpose(diff)\n",
    "    distance = np.dot(diff,difft)\n",
    "    dist.append((np.sqrt(distance),i))\n",
    "\n",
    "dist.sort()\n",
    "\n",
    "#import time as t\n",
    "end_time = t.time()\n",
    "print(dist[0:10],'time is',end_time-start_time)        \n",
    "  "
   ]
  },
  {
   "cell_type": "code",
   "execution_count": null,
   "metadata": {},
   "outputs": [],
   "source": [
    "\n"
   ]
  },
  {
   "cell_type": "code",
   "execution_count": null,
   "metadata": {},
   "outputs": [],
   "source": [
    "import math\n",
    "min_dist=math.inf\n",
    "for i in range(len(X_train)):\n",
    "    distance=np.sqrt(np.sum((test-X_train.iloc[i,])**2))\n",
    "    if distance<min_dist:\n",
    "        min_dist=distance\n",
    "        index =i\n",
    "        \n",
    "index"
   ]
  },
  {
   "cell_type": "code",
   "execution_count": null,
   "metadata": {},
   "outputs": [],
   "source": [
    "#Method not using TUPLE\n",
    "import time as t\n",
    "start_time = t.time()\n",
    "dist1=[]\n",
    "for i in range(len(X_train)):\n",
    "    distance=np.sqrt(np.sum((test-X_train.iloc[i,])**2))\n",
    "    dist1.append(distance)\n",
    "#dist1=np.array(dist1)\n",
    "min_dist=min(dist1)\n",
    "end_time= t.time() \n",
    "print(min_dist,end_time-start_time)"
   ]
  },
  {
   "cell_type": "code",
   "execution_count": null,
   "metadata": {},
   "outputs": [],
   "source": [
    "dist1.index(min_dist)"
   ]
  },
  {
   "cell_type": "code",
   "execution_count": 116,
   "metadata": {},
   "outputs": [],
   "source": [
    "def NormaliZ(X):\n",
    "    mm_scaler = preprocessing.MinMaxScaler()\n",
    "    X = mm_scaler.fit_transform(X)\n",
    "    return X\n"
   ]
  },
  {
   "cell_type": "code",
   "execution_count": 53,
   "metadata": {},
   "outputs": [],
   "source": [
    "def normalize(X):\n",
    "    for i in range (len(X)):\n",
    "        for j in range(X.shape[1]):\n",
    "            X.iloc[i][j]=(X.iloc[i][j]-min(X.iloc[:,j]))/(max(X.iloc[:,j])-min(X.iloc[:,j]))\n",
    "    return X\n"
   ]
  },
  {
   "cell_type": "code",
   "execution_count": 6,
   "metadata": {},
   "outputs": [],
   "source": [
    "def euclidean_distance(X_train,test):\n",
    "    \n",
    "    diff = X_train - test\n",
    "    difft =np.transpose(diff)\n",
    "    distance = np.dot(diff,difft)\n",
    "    \n",
    "    return distance"
   ]
  },
  {
   "cell_type": "code",
   "execution_count": 7,
   "metadata": {},
   "outputs": [],
   "source": [
    "def nn(X_train,test):\n",
    "    #Finding the nearest index i \n",
    "    min_dist=math.inf\n",
    "    for i in range(len(X_train)):\n",
    "        d=euclidean_distance(X_train.iloc[i],test)\n",
    "        if d<min_dist:\n",
    "            min_dist=d\n",
    "            index =i\n",
    "        \n",
    "    return index\n",
    "    "
   ]
  },
  {
   "cell_type": "code",
   "execution_count": 11,
   "metadata": {},
   "outputs": [],
   "source": [
    "#Finding Neighbors for all of the X_test \n",
    "def oneNN(X_train,X_test,y_train,y_test):\n",
    "    knn = []\n",
    "    for i in range (len(X_test)):\n",
    "        test =X_test.iloc[i,]\n",
    "        k=nn(X_train,test)#Finding the neighbor\n",
    "        knn.append((k,i))\n",
    "    #Creating dataframe for the Predicted Vs Actual    \n",
    "    pred = []    \n",
    "    for j in range(len(knn)):\n",
    "        value = y_train.iloc[knn[j][0]]\n",
    "        pred.append(value)\n",
    "    actual = np.array(y_test).reshape(y_test.shape[0],)\n",
    "    predicted =np.array(pred).reshape(y_test.shape[0],)\n",
    "   \n",
    "    df = pd.DataFrame({\"Actual\":actual,\"Predicted\":predicted})\n",
    "    return df\n"
   ]
  },
  {
   "cell_type": "code",
   "execution_count": 127,
   "metadata": {},
   "outputs": [
    {
     "name": "stdout",
     "output_type": "stream",
     "text": [
      "        Actual   Predicted\n",
      "0       setosa      setosa\n",
      "1   versicolor  versicolor\n",
      "2    virginica   virginica\n",
      "3   versicolor  versicolor\n",
      "4    virginica   virginica\n",
      "5       setosa      setosa\n",
      "6   versicolor  versicolor\n",
      "7       setosa      setosa\n",
      "8       setosa      setosa\n",
      "9       setosa      setosa\n",
      "10  versicolor  versicolor\n",
      "11  versicolor  versicolor\n",
      "12  versicolor  versicolor\n",
      "13      setosa      setosa\n",
      "14  versicolor  versicolor\n",
      "15   virginica   virginica\n",
      "16   virginica   virginica\n",
      "17   virginica   virginica\n",
      "18  versicolor  versicolor\n",
      "19  versicolor  versicolor\n",
      "20   virginica   virginica\n",
      "21  versicolor  versicolor\n",
      "22  versicolor  versicolor\n",
      "23   virginica   virginica\n",
      "24  versicolor  versicolor\n",
      "25      setosa      setosa\n",
      "26   virginica  versicolor\n",
      "27  versicolor  versicolor\n",
      "28      setosa      setosa\n",
      "29   virginica   virginica\n",
      "30   virginica   virginica\n",
      "31   virginica   virginica\n",
      "32   virginica  versicolor\n",
      "33      setosa      setosa\n",
      "34   virginica  versicolor\n",
      "35   virginica   virginica\n",
      "36      setosa      setosa\n",
      "37      setosa      setosa\n",
      "38      setosa      setosa\n",
      "39  versicolor  versicolor\n",
      "40      setosa      setosa\n",
      "41      setosa      setosa\n",
      "42      setosa      setosa\n",
      "43  versicolor  versicolor\n",
      "44   virginica   virginica \n",
      "Execution Time =  3.356055974960327 Accuracy =  0.9333333333333333\n"
     ]
    }
   ],
   "source": [
    "start_time=t.time()\n",
    "X = iris[['Sepal.Length','Sepal.Width','Petal.Length','Petal.Width']]\n",
    "y=iris[['Species']]\n",
    "X_train,X_test,y_train,y_test=train_test_split(X,y,test_size=0.3,stratify=y,random_state =100)\n",
    "X_train_scaled = NormaliZ(X_train)\n",
    "X_train = pd.DataFrame(X_train_scaled, index=X_train.index, columns=X_train.columns)\n",
    "X_test_scaled  = NormaliZ(X_test)\n",
    "X_test = pd.DataFrame(X_test_scaled, index=X_test.index, columns=X_test.columns)\n",
    "result=oneNN(X_train,X_test,y_train,y_test)\n",
    "end_time= t.time() \n",
    "accuracy = (result.Actual == result.Predicted)\n",
    "print(result,\"\\nExecution Time = \",end_time-start_time,\"Accuracy = \",accuracy.sum()/result.shape[0])\n"
   ]
  },
  {
   "cell_type": "code",
   "execution_count": 129,
   "metadata": {},
   "outputs": [
    {
     "name": "stdout",
     "output_type": "stream",
     "text": [
      "       Actual  Predicted\n",
      "0    290000.0   314500.0\n",
      "1    699800.0   500000.0\n",
      "2    437500.0  1000000.0\n",
      "3    511000.0   595000.0\n",
      "4    543115.0   650000.0\n",
      "5    470000.0   254000.0\n",
      "6    802541.0   488000.0\n",
      "7    571000.0   470000.0\n",
      "8    452000.0   264000.0\n",
      "9    425000.0   500000.0\n",
      "10   310000.0   235000.0\n",
      "11   730000.0   785000.0\n",
      "12  2900000.0  2400000.0\n",
      "13   258000.0   452000.0\n",
      "14   460000.0   605000.0\n",
      "15  1550000.0  1390000.0\n",
      "16   545000.0   304900.0\n",
      "17   565000.0   250000.0\n",
      "18   268750.0   180250.0\n",
      "19   740000.0  1000000.0\n",
      "20   430000.0   581000.0\n",
      "21  1480000.0  1030000.0\n",
      "22   320000.0   365000.0\n",
      "23   699000.0   250000.0\n",
      "24   500000.0   691100.0\n",
      "25   431000.0   400000.0\n",
      "26   480000.0   500000.0\n",
      "27   316500.0   324500.0\n",
      "28   799000.0   348000.0\n",
      "29   205000.0   349500.0\n",
      "30   365000.0   314500.0\n",
      "31   664000.0   691100.0\n",
      "32   442000.0   265000.0\n",
      "33   260000.0   254000.0\n",
      "34   405600.0   655000.0\n",
      "35   550000.0   650000.0\n",
      "36   435500.0   290000.0\n",
      "37   400000.0   270000.0\n",
      "38   795000.0   990000.0\n",
      "39   470000.0   365000.0\n",
      "40   730000.0   700000.0\n",
      "41   288400.0   254000.0\n",
      "42   258000.0   254000.0\n",
      "43    80000.0   140000.0\n",
      "44   328000.0   252350.0\n",
      "45   320000.0   322500.0\n",
      "46   597500.0   470000.0\n",
      "47   800000.0   660000.0\n",
      "48   720000.0   700000.0\n",
      "49   475000.0   891000.0 \n",
      "Execution Time =  11.352494239807129\n",
      "RMSE : 212285.12695928558\n",
      "R^2 test:  0.7519606057945613\n"
     ]
    }
   ],
   "source": [
    "combined = pd.read_csv(\"trimmed_house.csv\")\n",
    "feature_cols = ['sqft_living', 'zipcode', 'view', 'grade', 'waterfront', 'sqft_above', 'floors', 'sqft_lot']\n",
    "X=combined[feature_cols]\n",
    "y=combined.price\n",
    "# instantiate and fit\n",
    "\n",
    "\n",
    "start_time=t.time()\n",
    "X_train,X_test,y_train,y_test = train_test_split(X,y,test_size=0.1,random_state=1)\n",
    "X_train_scaled = NormaliZ(X_train)\n",
    "X_train = pd.DataFrame(X_train_scaled, index=X_train.index, columns=X_train.columns)\n",
    "X_test_scaled  = NormaliZ(X_test)\n",
    "X_test = pd.DataFrame(X_test_scaled, index=X_test.index, columns=X_test.columns)\n",
    "result=oneNN(X_train,X_test,y_train,y_test)\n",
    "end_time= t.time() \n",
    "\n",
    "print(result,\"\\nExecution Time = \",end_time-start_time)\n",
    "print(\"RMSE :\", np.sqrt(mean_squared_error(result.Actual, result.Predicted)))\n",
    "print(\"R^2 test: \", r2_score(result.Actual, result.Predicted))\n"
   ]
  },
  {
   "cell_type": "code",
   "execution_count": null,
   "metadata": {},
   "outputs": [],
   "source": []
  },
  {
   "cell_type": "code",
   "execution_count": null,
   "metadata": {},
   "outputs": [],
   "source": []
  },
  {
   "cell_type": "code",
   "execution_count": 83,
   "metadata": {},
   "outputs": [
    {
     "name": "stdout",
     "output_type": "stream",
     "text": [
      "    Actual  Predicted\n",
      "0     23.0       21.1\n",
      "1     29.0       28.0\n",
      "2     32.4       24.0\n",
      "3     19.0       24.0\n",
      "4     38.0       31.0\n",
      "5     33.5       30.0\n",
      "6     26.0       33.0\n",
      "7     14.0       14.0\n",
      "8     28.0       20.0\n",
      "9     32.4       26.0\n",
      "10    21.5       22.0\n",
      "11    41.5       34.5\n",
      "12    17.0       18.2\n",
      "13    33.5       31.0\n",
      "14    29.0       21.1\n",
      "15    17.0       18.0\n",
      "16    36.0       24.0\n",
      "17    43.4       19.0\n",
      "18    14.0       11.0\n",
      "19    20.0       23.0\n",
      "20    26.0       34.0\n",
      "21    16.0       19.0\n",
      "22    15.0       16.2\n",
      "23    15.5       14.0\n",
      "24    15.0       15.5\n",
      "25    18.5       13.0\n",
      "26    31.5       34.4\n",
      "27    20.0       18.5\n",
      "28    21.0       18.0\n",
      "29    30.0       22.0\n",
      "30    19.2       16.0\n",
      "31    24.5       27.0\n",
      "32    13.0       16.0\n",
      "33    22.0       20.3\n",
      "34    20.5       20.5\n",
      "35    17.5       14.5\n",
      "36    18.0       16.0\n",
      "37    19.2       18.5\n",
      "38    38.0       32.0\n",
      "39    27.0       27.0 \n",
      " EXECUTION TIME = 9.528536796569824\n",
      "RMSE : 6.045266743494451\n",
      "R^2 test:  0.45270567762495806\n"
     ]
    }
   ],
   "source": [
    "cars = pd.read_csv(\"cars.csv\")\n",
    "cars2 = cars.loc[(cars.MPG != 0) & (cars.Horsepower != 0), ]\n",
    "feature_cols = ['Weight',\"Acceleration\",\"Horsepower\"]\n",
    "X=cars2[feature_cols]\n",
    "y=cars2.MPG\n",
    "# instantiate and fit\n",
    "X_train,X_test,y_train,y_test = train_test_split(X,y,test_size=0.1,random_state=1)\n",
    "start_time=t.time()\n",
    "\n",
    "result=oneNN(X_train,X_test,y_train,y_test)\n",
    "end_time= t.time() \n",
    "print(result,\"\\n EXECUTION TIME =\", end_time-start_time)\n",
    "print(\"RMSE :\", np.sqrt(mean_squared_error(result.Actual, result.Predicted)))\n",
    "print(\"R^2 test: \", r2_score(result.Actual, result.Predicted))"
   ]
  },
  {
   "cell_type": "code",
   "execution_count": 28,
   "metadata": {},
   "outputs": [
    {
     "data": {
      "text/html": [
       "<div>\n",
       "<style scoped>\n",
       "    .dataframe tbody tr th:only-of-type {\n",
       "        vertical-align: middle;\n",
       "    }\n",
       "\n",
       "    .dataframe tbody tr th {\n",
       "        vertical-align: top;\n",
       "    }\n",
       "\n",
       "    .dataframe thead th {\n",
       "        text-align: right;\n",
       "    }\n",
       "</style>\n",
       "<table border=\"1\" class=\"dataframe\">\n",
       "  <thead>\n",
       "    <tr style=\"text-align: right;\">\n",
       "      <th></th>\n",
       "      <th>fixed acidity</th>\n",
       "      <th>volatile acidity</th>\n",
       "      <th>citric acid</th>\n",
       "      <th>residual sugar</th>\n",
       "      <th>chlorides</th>\n",
       "      <th>free sulfur dioxide</th>\n",
       "      <th>total sulfur dioxide</th>\n",
       "      <th>density</th>\n",
       "      <th>pH</th>\n",
       "      <th>sulphates</th>\n",
       "      <th>alcohol</th>\n",
       "      <th>quality</th>\n",
       "    </tr>\n",
       "  </thead>\n",
       "  <tbody>\n",
       "    <tr>\n",
       "      <td>0</td>\n",
       "      <td>7.0</td>\n",
       "      <td>0.27</td>\n",
       "      <td>0.36</td>\n",
       "      <td>20.7</td>\n",
       "      <td>0.045</td>\n",
       "      <td>45.0</td>\n",
       "      <td>170.0</td>\n",
       "      <td>1.0010</td>\n",
       "      <td>3.00</td>\n",
       "      <td>0.45</td>\n",
       "      <td>8.8</td>\n",
       "      <td>6</td>\n",
       "    </tr>\n",
       "    <tr>\n",
       "      <td>1</td>\n",
       "      <td>6.3</td>\n",
       "      <td>0.30</td>\n",
       "      <td>0.34</td>\n",
       "      <td>1.6</td>\n",
       "      <td>0.049</td>\n",
       "      <td>14.0</td>\n",
       "      <td>132.0</td>\n",
       "      <td>0.9940</td>\n",
       "      <td>3.30</td>\n",
       "      <td>0.49</td>\n",
       "      <td>9.5</td>\n",
       "      <td>6</td>\n",
       "    </tr>\n",
       "    <tr>\n",
       "      <td>2</td>\n",
       "      <td>8.1</td>\n",
       "      <td>0.28</td>\n",
       "      <td>0.40</td>\n",
       "      <td>6.9</td>\n",
       "      <td>0.050</td>\n",
       "      <td>30.0</td>\n",
       "      <td>97.0</td>\n",
       "      <td>0.9951</td>\n",
       "      <td>3.26</td>\n",
       "      <td>0.44</td>\n",
       "      <td>10.1</td>\n",
       "      <td>6</td>\n",
       "    </tr>\n",
       "    <tr>\n",
       "      <td>3</td>\n",
       "      <td>7.2</td>\n",
       "      <td>0.23</td>\n",
       "      <td>0.32</td>\n",
       "      <td>8.5</td>\n",
       "      <td>0.058</td>\n",
       "      <td>47.0</td>\n",
       "      <td>186.0</td>\n",
       "      <td>0.9956</td>\n",
       "      <td>3.19</td>\n",
       "      <td>0.40</td>\n",
       "      <td>9.9</td>\n",
       "      <td>6</td>\n",
       "    </tr>\n",
       "    <tr>\n",
       "      <td>4</td>\n",
       "      <td>7.2</td>\n",
       "      <td>0.23</td>\n",
       "      <td>0.32</td>\n",
       "      <td>8.5</td>\n",
       "      <td>0.058</td>\n",
       "      <td>47.0</td>\n",
       "      <td>186.0</td>\n",
       "      <td>0.9956</td>\n",
       "      <td>3.19</td>\n",
       "      <td>0.40</td>\n",
       "      <td>9.9</td>\n",
       "      <td>6</td>\n",
       "    </tr>\n",
       "  </tbody>\n",
       "</table>\n",
       "</div>"
      ],
      "text/plain": [
       "   fixed acidity  volatile acidity  citric acid  residual sugar  chlorides  \\\n",
       "0            7.0              0.27         0.36            20.7      0.045   \n",
       "1            6.3              0.30         0.34             1.6      0.049   \n",
       "2            8.1              0.28         0.40             6.9      0.050   \n",
       "3            7.2              0.23         0.32             8.5      0.058   \n",
       "4            7.2              0.23         0.32             8.5      0.058   \n",
       "\n",
       "   free sulfur dioxide  total sulfur dioxide  density    pH  sulphates  \\\n",
       "0                 45.0                 170.0   1.0010  3.00       0.45   \n",
       "1                 14.0                 132.0   0.9940  3.30       0.49   \n",
       "2                 30.0                  97.0   0.9951  3.26       0.44   \n",
       "3                 47.0                 186.0   0.9956  3.19       0.40   \n",
       "4                 47.0                 186.0   0.9956  3.19       0.40   \n",
       "\n",
       "   alcohol  quality  \n",
       "0      8.8        6  \n",
       "1      9.5        6  \n",
       "2     10.1        6  \n",
       "3      9.9        6  \n",
       "4      9.9        6  "
      ]
     },
     "execution_count": 28,
     "metadata": {},
     "output_type": "execute_result"
    }
   ],
   "source": [
    "wine_quality = pd.read_csv(\"winequality-white.csv\")\n",
    "wine_quality.head()"
   ]
  },
  {
   "cell_type": "code",
   "execution_count": 29,
   "metadata": {},
   "outputs": [
    {
     "data": {
      "text/plain": [
       "Index(['fixed acidity', 'volatile acidity', 'citric acid', 'residual sugar',\n",
       "       'chlorides', 'free sulfur dioxide', 'total sulfur dioxide', 'density',\n",
       "       'pH', 'sulphates', 'alcohol', 'quality'],\n",
       "      dtype='object')"
      ]
     },
     "execution_count": 29,
     "metadata": {},
     "output_type": "execute_result"
    }
   ],
   "source": [
    "wine_quality.columns"
   ]
  },
  {
   "cell_type": "code",
   "execution_count": 126,
   "metadata": {},
   "outputs": [
    {
     "name": "stdout",
     "output_type": "stream",
     "text": [
      "     Actual  Predicted\n",
      "0         4          5\n",
      "1         6          5\n",
      "2         7          6\n",
      "3         5          5\n",
      "4         7          8\n",
      "..      ...        ...\n",
      "485       7          6\n",
      "486       5          6\n",
      "487       6          6\n",
      "488       5          5\n",
      "489       6          6\n",
      "\n",
      "[490 rows x 2 columns] \n",
      "Execution Time =  1144.381105184555 Accuracy =  0.45510204081632655\n"
     ]
    }
   ],
   "source": [
    "feature_cols = ['fixed acidity', 'volatile acidity', 'citric acid', 'residual sugar',\n",
    "       'chlorides', 'free sulfur dioxide', 'total sulfur dioxide', 'density',\n",
    "       'pH', 'sulphates', 'alcohol']\n",
    "X=wine_quality[feature_cols]\n",
    "y=wine_quality.quality\n",
    "# instantiate and fit\n",
    "start_time=t.time()\n",
    "X_train,X_test,y_train,y_test = train_test_split(X,y,test_size=0.1,random_state=1)\n",
    "X_train_scaled = NormaliZ(X_train)\n",
    "X_train = pd.DataFrame(X_train_scaled, index=X_train.index, columns=X_train.columns)\n",
    "X_test_scaled  = NormaliZ(X_test)\n",
    "X_test = pd.DataFrame(X_test_scaled, index=X_test.index, columns=X_test.columns)\n",
    "result=oneNN(X_train,X_test,y_train,y_test)\n",
    "end_time= t.time() \n",
    "accuracy = (result.Actual == result.Predicted)\n",
    "print(result,\"\\nExecution Time = \",end_time-start_time,\"Accuracy = \",accuracy.sum()/result.shape[0])\n"
   ]
  },
  {
   "cell_type": "code",
   "execution_count": null,
   "metadata": {},
   "outputs": [],
   "source": [
    "                             "
   ]
  },
  {
   "cell_type": "code",
   "execution_count": 98,
   "metadata": {},
   "outputs": [],
   "source": []
  },
  {
   "cell_type": "code",
   "execution_count": 99,
   "metadata": {},
   "outputs": [],
   "source": []
  },
  {
   "cell_type": "code",
   "execution_count": 94,
   "metadata": {},
   "outputs": [],
   "source": []
  },
  {
   "cell_type": "code",
   "execution_count": 123,
   "metadata": {},
   "outputs": [
    {
     "name": "stdout",
     "output_type": "stream",
     "text": [
      "    Actual  Predicted\n",
      "0     23.0       27.2\n",
      "1     29.0       34.1\n",
      "2     32.4       28.0\n",
      "3     19.0       21.6\n",
      "4     38.0       35.1\n",
      "5     33.5       36.0\n",
      "6     26.0       37.0\n",
      "7     14.0       13.0\n",
      "8     28.0       27.0\n",
      "9     32.4       36.0\n",
      "10    21.5       18.1\n",
      "11    41.5       29.0\n",
      "12    17.0       15.0\n",
      "13    33.5       35.0\n",
      "14    29.0       22.0\n",
      "15    17.0       15.0\n",
      "16    36.0       32.0\n",
      "17    43.4       44.0\n",
      "18    14.0       12.0\n",
      "19    20.0       18.0\n",
      "20    26.0       31.9\n",
      "21    16.0       16.0\n",
      "22    15.0       15.0\n",
      "23    15.5       16.0\n",
      "24    15.0       13.0\n",
      "25    18.5       13.0\n",
      "26    31.5       31.0\n",
      "27    20.0       16.0\n",
      "28    21.0       18.0\n",
      "29    30.0       32.0\n",
      "30    19.2       15.0\n",
      "31    24.5       28.4\n",
      "32    13.0       12.0\n",
      "33    22.0       18.0\n",
      "34    20.5       18.0\n",
      "35    17.5       14.0\n",
      "36    18.0       17.0\n",
      "37    19.2       26.6\n",
      "38    38.0       36.1\n",
      "39    27.0       35.7 \n",
      "EXECUTION TIME = 7.678616285324097\n",
      "RMSE : 4.398238283676772\n",
      "R^2 test:  0.7103006541429051\n"
     ]
    }
   ],
   "source": [
    "# CARS DATA - REGRESSION\n",
    "  \n",
    "cars = pd.read_csv(\"cars.csv\")\n",
    "cars2 = cars.loc[(cars.MPG != 0) & (cars.Horsepower != 0), ]\n",
    "feature_cols = ['Weight',\"Acceleration\",\"Horsepower\"]\n",
    "X=cars2[feature_cols]\n",
    "y=cars2.MPG \n",
    "start_time= t.time()  \n",
    "X_train,X_test,y_train,y_test = train_test_split(X,y,test_size=0.1,random_state=1)\n",
    "X_train_scaled = NormaliZ(X_train)\n",
    "X_train = pd.DataFrame(X_train_scaled, index=X_train.index, columns=X_train.columns)\n",
    "X_test_scaled  = NormaliZ(X_test)\n",
    "X_test = pd.DataFrame(X_test_scaled, index=X_test.index, columns=X_test.columns)\n",
    "result=oneNN(X_train,X_test,y_train,y_test)\n",
    "end_time= t.time() \n",
    "print(result,\"\\nEXECUTION TIME =\", end_time-start_time)\n",
    "print(\"RMSE :\", np.sqrt(mean_squared_error(result.Actual, result.Predicted)))\n",
    "print(\"R^2 test: \", r2_score(result.Actual, result.Predicted))\n"
   ]
  },
  {
   "cell_type": "code",
   "execution_count": null,
   "metadata": {},
   "outputs": [],
   "source": []
  },
  {
   "cell_type": "code",
   "execution_count": 118,
   "metadata": {},
   "outputs": [],
   "source": []
  },
  {
   "cell_type": "code",
   "execution_count": 117,
   "metadata": {},
   "outputs": [],
   "source": []
  },
  {
   "cell_type": "code",
   "execution_count": null,
   "metadata": {},
   "outputs": [],
   "source": []
  }
 ],
 "metadata": {
  "kernelspec": {
   "display_name": "Python 3",
   "language": "python",
   "name": "python3"
  },
  "language_info": {
   "codemirror_mode": {
    "name": "ipython",
    "version": 3
   },
   "file_extension": ".py",
   "mimetype": "text/x-python",
   "name": "python",
   "nbconvert_exporter": "python",
   "pygments_lexer": "ipython3",
   "version": "3.7.4"
  }
 },
 "nbformat": 4,
 "nbformat_minor": 2
}
