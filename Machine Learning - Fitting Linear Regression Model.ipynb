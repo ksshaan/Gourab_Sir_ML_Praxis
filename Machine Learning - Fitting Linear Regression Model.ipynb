{
 "cells": [
  {
   "cell_type": "markdown",
   "metadata": {},
   "source": [
    "## FITTING A SIMPLE LINEAR REGRESSION MODEL +ASCENT/DESCENT"
   ]
  },
  {
   "cell_type": "markdown",
   "metadata": {},
   "source": [
    "### OBJECTIVE\n",
    "\n",
    "To predict the MPG (Miles per gallon) of cars based on the Weight (in pounds) of the cars\n",
    "\n",
    "**Target (Response) Variable** - MPG\n",
    "\n",
    "**Explanatory Variable (Predictors)** - Weight"
   ]
  },
  {
   "cell_type": "code",
   "execution_count": 3,
   "metadata": {},
   "outputs": [
    {
     "name": "stdout",
     "output_type": "stream",
     "text": [
      "current value of x is  -9.2 @ iteration  1  learning rate is   0.9 derivative value =  -111.6\n",
      "current value of x is  -9.2 @ iteration  2  learning rate is   0.9 derivative value =  -111.6\n",
      "current value of x is  61.82180510237683 @ iteration  2  learning rate is   0.9 derivative value =  456.5744408190146\n",
      "current value of x is  61.82180510237683 @ iteration  3  learning rate is   0.9 derivative value =  456.5744408190146\n",
      "current value of x is  -175.42123357838807 @ iteration  3  learning rate is   0.9 derivative value =  -1441.3698686271046\n",
      "current value of x is  -175.42123357838807 @ iteration  4  learning rate is   0.9 derivative value =  -1441.3698686271046\n",
      "current value of x is  473.19520730380896 @ iteration  4  learning rate is   0.9 derivative value =  3747.5616584304717\n",
      "current value of x is  473.19520730380896 @ iteration  5  learning rate is   0.9 derivative value =  3747.5616584304717\n",
      "current value of x is  -1035.16926395822 @ iteration  5  learning rate is   0.9 derivative value =  -8319.35411166576\n",
      "current value of x is  -1035.16926395822 @ iteration  6  learning rate is   0.9 derivative value =  -8319.35411166576\n",
      "current value of x is  2021.556620507731 @ iteration  6  learning rate is   0.9 derivative value =  16134.452964061848\n",
      "current value of x is  2021.556620507731 @ iteration  7  learning rate is   0.9 derivative value =  16134.452964061848\n",
      "current value of x is  -3466.868390160689 @ iteration  7  learning rate is   0.9 derivative value =  -27772.947121285513\n",
      "current value of x is  -3466.868390160689 @ iteration  8  learning rate is   0.9 derivative value =  -27772.947121285513\n",
      "current value of x is  5370.429269187685 @ iteration  8  learning rate is   0.9 derivative value =  42925.43415350148\n",
      "current value of x is  5370.429269187685 @ iteration  9  learning rate is   0.9 derivative value =  42925.43415350148\n",
      "current value of x is  -7507.2009768627595 @ iteration  9  learning rate is   0.9 derivative value =  -60095.607814902076\n",
      "current value of x is  -7507.2009768627595 @ iteration  10  learning rate is   0.9 derivative value =  -60095.607814902076\n",
      "current value of x is  9596.3088491947 @ iteration  10  learning rate is   0.9 derivative value =  76732.4707935576\n",
      "current value of x is  9596.3088491947 @ iteration  11  learning rate is   0.9 derivative value =  76732.4707935576\n",
      "current value of x is  -11225.830548370877 @ iteration  11  learning rate is   0.9 derivative value =  -89844.64438696702\n",
      "current value of x is  -11225.830548370877 @ iteration  12  learning rate is   0.9 derivative value =  -89844.64438696702\n",
      "current value of x is  12116.49278155685 @ iteration  12  learning rate is   0.9 derivative value =  96893.9422524548\n",
      "current value of x is  12116.49278155685 @ iteration  13  learning rate is   0.9 derivative value =  96893.9422524548\n",
      "current value of x is  -12069.697169655867 @ iteration  13  learning rate is   0.9 derivative value =  -96595.57735724693\n",
      "current value of x is  -12069.697169655867 @ iteration  14  learning rate is   0.9 derivative value =  -96595.57735724693\n",
      "current value of x is  11164.931401315063 @ iteration  14  learning rate is   0.9 derivative value =  89281.4512105205\n",
      "current value of x is  11164.931401315063 @ iteration  15  learning rate is   0.9 derivative value =  89281.4512105205\n",
      "current value of x is  -9582.203018499493 @ iteration  15  learning rate is   0.9 derivative value =  -76695.62414799594\n",
      "current value of x is  -9582.203018499493 @ iteration  16  learning rate is   0.9 derivative value =  -76695.62414799594\n",
      "current value of x is  7674.312414799593 @ iteration  16  learning rate is   0.9 derivative value =  61356.499318396745\n",
      "current value of x is  7674.312414799593 @ iteration  17  learning rate is   0.9 derivative value =  61356.499318396745\n",
      "current value of x is  -5718.710806206231 @ iteration  17  learning rate is   0.9 derivative value =  -45787.686449649846\n",
      "current value of x is  -5718.710806206231 @ iteration  18  learning rate is   0.9 derivative value =  -45787.686449649846\n",
      "current value of x is  3994.3242688110113 @ iteration  18  learning rate is   0.9 derivative value =  31916.59415048809\n",
      "current value of x is  3994.3242688110113 @ iteration  19  learning rate is   0.9 derivative value =  31916.59415048809\n",
      "current value of x is  -2595.627713903782 @ iteration  19  learning rate is   0.9 derivative value =  -20803.021711230256\n",
      "current value of x is  -2595.627713903782 @ iteration  20  learning rate is   0.9 derivative value =  -20803.021711230256\n",
      "current value of x is  1590.8996476305547 @ iteration  20  learning rate is   0.9 derivative value =  12689.197181044437\n",
      "current value of x is  1590.8996476305547 @ iteration  21  learning rate is   0.9 derivative value =  12689.197181044437\n",
      "current value of x is  -901.2092062418624 @ iteration  21  learning rate is   0.9 derivative value =  -7247.673649934899\n",
      "current value of x is  -901.2092062418624 @ iteration  22  learning rate is   0.9 derivative value =  -7247.673649934899\n",
      "current value of x is  489.4790864281597 @ iteration  22  learning rate is   0.9 derivative value =  3877.8326914252775\n",
      "current value of x is  489.4790864281597 @ iteration  23  learning rate is   0.9 derivative value =  3877.8326914252775\n",
      "current value of x is  -238.24652388936022 @ iteration  23  learning rate is   0.9 derivative value =  -1943.9721911148818\n",
      "current value of x is  -238.24652388936022 @ iteration  24  learning rate is   0.9 derivative value =  -1943.9721911148818\n",
      "current value of x is  118.88397179001305 @ iteration  24  learning rate is   0.9 derivative value =  913.0717743201044\n",
      "current value of x is  118.88397179001305 @ iteration  25  learning rate is   0.9 derivative value =  913.0717743201044\n",
      "current value of x is  -45.468947587605726 @ iteration  25  learning rate is   0.9 derivative value =  -401.7515807008458\n",
      "current value of x is  -45.468947587605726 @ iteration  26  learning rate is   0.9 derivative value =  -401.7515807008458\n",
      "current value of x is  25.442022975829786 @ iteration  26  learning rate is   0.9 derivative value =  165.5361838066383\n",
      "current value of x is  25.442022975829786 @ iteration  27  learning rate is   0.9 derivative value =  165.5361838066383\n",
      "current value of x is  -3.229685108586011 @ iteration  27  learning rate is   0.9 derivative value =  -63.83748086868809\n",
      "current value of x is  -3.229685108586011 @ iteration  28  learning rate is   0.9 derivative value =  -63.83748086868809\n",
      "current value of x is  7.6280498080606325 @ iteration  28  learning rate is   0.9 derivative value =  23.02439846448506\n",
      "current value of x is  7.6280498080606325 @ iteration  29  learning rate is   0.9 derivative value =  23.02439846448506\n",
      "current value of x is  3.78007869479346 @ iteration  29  learning rate is   0.9 derivative value =  -7.759370441652319\n",
      "current value of x is  3.78007869479346 @ iteration  30  learning rate is   0.9 derivative value =  -7.759370441652319\n",
      "current value of x is  5.055073361672999 @ iteration  30  learning rate is   0.9 derivative value =  2.440586893383994\n",
      "current value of x is  5.055073361672999 @ iteration  31  learning rate is   0.9 derivative value =  2.440586893383994\n",
      "current value of x is  4.660565250175061 @ iteration  31  learning rate is   0.9 derivative value =  -0.7154779985995106\n",
      "current value of x is  4.660565250175061 @ iteration  32  learning rate is   0.9 derivative value =  -0.7154779985995106\n",
      "current value of x is  4.774397102709947 @ iteration  32  learning rate is   0.9 derivative value =  0.19517682167957418\n",
      "current value of x is  4.774397102709947 @ iteration  33  learning rate is   0.9 derivative value =  0.19517682167957418\n",
      "current value of x is  4.74381877145657 @ iteration  33  learning rate is   0.9 derivative value =  -0.04944982834744138\n",
      "current value of x is  4.74381877145657 @ iteration  34  learning rate is   0.9 derivative value =  -0.04944982834744138\n",
      "current value of x is  4.751451289493984 @ iteration  34  learning rate is   0.9 derivative value =  0.01161031595187012\n",
      "current value of x is  4.751451289493984 @ iteration  35  learning rate is   0.9 derivative value =  0.01161031595187012\n",
      "current value of x is  4.7496850380674 @ iteration  35  learning rate is   0.9 derivative value =  -0.0025196954607977773\n",
      "current value of x is  4.7496850380674 @ iteration  36  learning rate is   0.9 derivative value =  -0.0025196954607977773\n",
      "current value of x is  4.75006299238652 @ iteration  36  learning rate is   0.9 derivative value =  0.0005039390921623976\n",
      "current value of x is  4.75006299238652 @ iteration  37  learning rate is   0.9 derivative value =  0.0005039390921623976\n",
      "current value of x is  4.749988430017747 @ iteration  37  learning rate is   0.9 derivative value =  -9.255985802525402e-05\n",
      "current value of x is  4.749988430017747 @ iteration  38  learning rate is   0.9 derivative value =  -9.255985802525402e-05\n",
      "current value of x is  4.750001943690284 @ iteration  38  learning rate is   0.9 derivative value =  1.5549522274227456e-05\n",
      "current value of x is  4.750001943690284 @ iteration  39  learning rate is   0.9 derivative value =  1.5549522274227456e-05\n",
      "current value of x is  4.74999970276562 @ iteration  39  learning rate is   0.9 derivative value =  -2.3778750417591255e-06\n",
      "current value of x is  4.74999970276562 @ iteration  40  learning rate is   0.9 derivative value =  -2.3778750417591255e-06\n",
      "current value of x is  4.750000041143171 @ iteration  40  learning rate is   0.9 derivative value =  3.291453651854681e-07\n",
      "current value of x is  4.750000041143171 @ iteration  41  learning rate is   0.9 derivative value =  3.291453651854681e-07\n",
      "current value of x is  4.749999994879688 @ iteration  41  learning rate is   0.9 derivative value =  -4.0962497394048114e-08\n",
      "current value of x is  4.749999994879688 @ iteration  42  learning rate is   0.9 derivative value =  -4.0962497394048114e-08\n",
      "current value of x is  4.750000000568273 @ iteration  42  learning rate is   0.9 derivative value =  4.546187426512915e-09\n",
      "current value of x is  4.750000000568273 @ iteration  43  learning rate is   0.9 derivative value =  4.546187426512915e-09\n",
      "current value of x is  4.749999999944315 @ iteration  43  learning rate is   0.9 derivative value =  -4.454818736121524e-10\n",
      "current value of x is  4.749999999944315 @ iteration  44  learning rate is   0.9 derivative value =  -4.454818736121524e-10\n",
      "current value of x is  4.750000000004758 @ iteration  44  learning rate is   0.9 derivative value =  3.806377435466857e-11\n",
      "current value of x is  4.750000000004758 @ iteration  45  learning rate is   0.9 derivative value =  3.806377435466857e-11\n",
      "local minima is at  4.750000000004758  @ iteration  45\n"
     ]
    },
    {
     "data": {
      "text/plain": [
       "<matplotlib.axes._subplots.AxesSubplot at 0x184aab613c8>"
      ]
     },
     "execution_count": 3,
     "metadata": {},
     "output_type": "execute_result"
    }
   ],
   "source": [
    "#descent\n",
    "import numpy as np\n",
    "import math \n",
    "curentx=7\n",
    "\n",
    "maxi=10000\n",
    "i=1\n",
    "#df = lambda x:5*x-35\n",
    "rate = 0.9\n",
    "epsilon = (10**(-10))\n",
    "X=[]\n",
    "Y=[]\n",
    "def yf(x):\n",
    "    return(4*x**2-38*x+98)\n",
    "    \n",
    "def df(x):\n",
    "    return(8*x-38)\n",
    "while df(curentx) < -epsilon or df(curentx) >epsilon:\n",
    "    \n",
    "    curentx=curentx - (rate/np.sqrt(i))*df(curentx)\n",
    "    print(\"current value of x is \", curentx,\"@ iteration \",i,\" learning rate is  \",rate,\"derivative value = \",df(curentx))\n",
    "   \n",
    "    i = i+1\n",
    "    \n",
    "    if i==10000 :\n",
    "        \n",
    "        break\n",
    "    Y.append(yf(curentx))\n",
    "    X.append(curentx)\n",
    "    print(\"current value of x is \", curentx,\"@ iteration \",i,\" learning rate is  \",rate,\"derivative value = \",df(curentx))\n",
    "\n",
    "#print(\"X = \",X,\"Y = \",Y)    \n",
    "print(\"local minima is at \",curentx,\" @ iteration \", i )\n",
    "\n",
    "\n",
    "\n",
    "import pandas as pd\n",
    "data = {'X': X, 'Y': Y}\n",
    "output = pd.DataFrame(data)\n",
    "#print(output)\n",
    "import matplotlib.pyplot as plt\n",
    "output.plot(kind=\"scatter\",           #The type of plot to be plotted\n",
    "          x=\"X\",y=\"Y\",       #The variables in x and y axis\n",
    "          color=\"black\",            #Colour of the dots\n",
    "          figsize=(5,5)) "
   ]
  },
  {
   "cell_type": "code",
   "execution_count": 4,
   "metadata": {},
   "outputs": [
    {
     "name": "stdout",
     "output_type": "stream",
     "text": [
      "current value of x is  -43.4 @ iteration  1  learning rate is   0.9 derivative value =  448.0\n",
      "current value of x is  -43.4 @ iteration  2  learning rate is   0.9 derivative value =  448.0\n",
      "current value of x is  241.70545417441596 @ iteration  2  learning rate is   0.9 derivative value =  -2403.0545417441595\n",
      "current value of x is  241.70545417441596 @ iteration  3  learning rate is   0.9 derivative value =  -2403.0545417441595\n",
      "current value of x is  -1006.9583137235932 @ iteration  3  learning rate is   0.9 derivative value =  10083.583137235932\n",
      "current value of x is  -1006.9583137235932 @ iteration  4  learning rate is   0.9 derivative value =  10083.583137235932\n",
      "current value of x is  3530.6540980325763 @ iteration  4  learning rate is   0.9 derivative value =  -35292.540980325764\n",
      "current value of x is  3530.6540980325763 @ iteration  5  learning rate is   0.9 derivative value =  -35292.540980325764\n",
      "current value of x is  -10674.319633494408 @ iteration  5  learning rate is   0.9 derivative value =  106757.19633494408\n",
      "current value of x is  -10674.319633494408 @ iteration  6  learning rate is   0.9 derivative value =  106757.19633494408\n",
      "current value of x is  28550.778975115914 @ iteration  6  learning rate is   0.9 derivative value =  -285493.78975115914\n",
      "current value of x is  28550.778975115914 @ iteration  7  learning rate is   0.9 derivative value =  -285493.78975115914\n",
      "current value of x is  -68565.07983651767 @ iteration  7  learning rate is   0.9 derivative value =  685664.7983651768\n",
      "current value of x is  -68565.07983651767 @ iteration  8  learning rate is   0.9 derivative value =  685664.7983651768\n",
      "current value of x is  149612.12300869782 @ iteration  8  learning rate is   0.9 derivative value =  -1496107.230086978\n",
      "current value of x is  149612.12300869782 @ iteration  9  learning rate is   0.9 derivative value =  -1496107.230086978\n",
      "current value of x is  -299220.04601739557 @ iteration  9  learning rate is   0.9 derivative value =  2992214.4601739557\n",
      "current value of x is  -299220.04601739557 @ iteration  10  learning rate is   0.9 derivative value =  2992214.4601739557\n",
      "current value of x is  552379.1187482842 @ iteration  10  learning rate is   0.9 derivative value =  -5523777.187482841\n",
      "current value of x is  552379.1187482842 @ iteration  11  learning rate is   0.9 derivative value =  -5523777.187482841\n",
      "current value of x is  -946554.2195030521 @ iteration  11  learning rate is   0.9 derivative value =  9465556.195030522\n",
      "current value of x is  -946554.2195030521 @ iteration  12  learning rate is   0.9 derivative value =  9465556.195030522\n",
      "current value of x is  1512669.4182506287 @ iteration  12  learning rate is   0.9 derivative value =  -15126680.182506287\n",
      "current value of x is  1512669.4182506287 @ iteration  13  learning rate is   0.9 derivative value =  -15126680.182506287\n",
      "current value of x is  -2263178.1912120064 @ iteration  13  learning rate is   0.9 derivative value =  22631795.912120063\n",
      "current value of x is  -2263178.1912120064 @ iteration  14  learning rate is   0.9 derivative value =  22631795.912120063\n",
      "current value of x is  3180563.5027515576 @ iteration  14  learning rate is   0.9 derivative value =  -31805621.027515575\n",
      "current value of x is  3180563.5027515576 @ iteration  15  learning rate is   0.9 derivative value =  -31805621.027515575\n",
      "current value of x is  -4210394.930569578 @ iteration  15  learning rate is   0.9 derivative value =  42103963.30569578\n",
      "current value of x is  -4210394.930569578 @ iteration  16  learning rate is   0.9 derivative value =  42103963.30569578\n",
      "current value of x is  5262996.813211972 @ iteration  16  learning rate is   0.9 derivative value =  -52629954.132119715\n",
      "current value of x is  5262996.813211972 @ iteration  17  learning rate is   0.9 derivative value =  -52629954.132119715\n",
      "current value of x is  -6225178.1257485 @ iteration  17  learning rate is   0.9 derivative value =  62251795.257485\n",
      "current value of x is  -6225178.1257485 @ iteration  18  learning rate is   0.9 derivative value =  62251795.257485\n",
      "current value of x is  6980421.844532764 @ iteration  18  learning rate is   0.9 derivative value =  -69804204.44532764\n",
      "current value of x is  6980421.844532764 @ iteration  19  learning rate is   0.9 derivative value =  -69804204.44532764\n",
      "current value of x is  -7432342.666535249 @ iteration  19  learning rate is   0.9 derivative value =  74323440.6653525\n",
      "current value of x is  -7432342.666535249 @ iteration  20  learning rate is   0.9 derivative value =  74323440.6653525\n",
      "current value of x is  7524961.241910784 @ iteration  20  learning rate is   0.9 derivative value =  -75249598.41910784\n",
      "current value of x is  7524961.241910784 @ iteration  21  learning rate is   0.9 derivative value =  -75249598.41910784\n",
      "current value of x is  -7253766.505400259 @ iteration  21  learning rate is   0.9 derivative value =  72537679.05400258\n",
      "current value of x is  -7253766.505400259 @ iteration  22  learning rate is   0.9 derivative value =  72537679.05400258\n",
      "current value of x is  6664810.117977779 @ iteration  22  learning rate is   0.9 derivative value =  -66648087.17977779\n",
      "current value of x is  6664810.117977779 @ iteration  23  learning rate is   0.9 derivative value =  -66648087.17977779\n",
      "current value of x is  -5842568.0437068045 @ iteration  23  learning rate is   0.9 derivative value =  58425694.437068045\n",
      "current value of x is  -5842568.0437068045 @ iteration  24  learning rate is   0.9 derivative value =  58425694.437068045\n",
      "current value of x is  4890917.399186876 @ iteration  24  learning rate is   0.9 derivative value =  -48909159.99186876\n",
      "current value of x is  4890917.399186876 @ iteration  25  learning rate is   0.9 derivative value =  -48909159.99186876\n",
      "current value of x is  -3912731.3993494995 @ iteration  25  learning rate is   0.9 derivative value =  39127327.993494995\n",
      "current value of x is  -3912731.3993494995 @ iteration  26  learning rate is   0.9 derivative value =  39127327.993494995\n",
      "current value of x is  2993418.9105819846 @ iteration  26  learning rate is   0.9 derivative value =  -29934175.105819844\n",
      "current value of x is  2993418.9105819846 @ iteration  27  learning rate is   0.9 derivative value =  -29934175.105819844\n",
      "current value of x is  -2191332.3060123594 @ iteration  27  learning rate is   0.9 derivative value =  21913337.060123593\n",
      "current value of x is  -2191332.3060123594 @ iteration  28  learning rate is   0.9 derivative value =  21913337.060123593\n",
      "current value of x is  1535775.9961990728 @ iteration  28  learning rate is   0.9 derivative value =  -15357745.961990729\n",
      "current value of x is  1535775.9961990728 @ iteration  29  learning rate is   0.9 derivative value =  -15357745.961990729\n",
      "current value of x is  -1030899.650845136 @ iteration  29  learning rate is   0.9 derivative value =  10309010.508451361\n",
      "current value of x is  -1030899.650845136 @ iteration  30  learning rate is   0.9 derivative value =  10309010.508451361\n",
      "current value of x is  663043.6294658477 @ iteration  30  learning rate is   0.9 derivative value =  -6630422.294658477\n",
      "current value of x is  663043.6294658477 @ iteration  31  learning rate is   0.9 derivative value =  -6630422.294658477\n",
      "current value of x is  -408729.46945163026 @ iteration  31  learning rate is   0.9 derivative value =  4087308.6945163026\n",
      "current value of x is  -408729.46945163026 @ iteration  32  learning rate is   0.9 derivative value =  4087308.6945163026\n",
      "current value of x is  241557.36185479246 @ iteration  32  learning rate is   0.9 derivative value =  -2415559.618547925\n",
      "current value of x is  241557.36185479246 @ iteration  33  learning rate is   0.9 derivative value =  -2415559.618547925\n",
      "current value of x is  -136888.09874146373 @ iteration  33  learning rate is   0.9 derivative value =  1368894.9874146373\n",
      "current value of x is  -136888.09874146373 @ iteration  34  learning rate is   0.9 derivative value =  1368894.9874146373\n",
      "current value of x is  74399.09945379072 @ iteration  34  learning rate is   0.9 derivative value =  -743976.9945379072\n",
      "current value of x is  74399.09945379072 @ iteration  35  learning rate is   0.9 derivative value =  -743976.9945379072\n",
      "current value of x is  -38780.458569901675 @ iteration  35  learning rate is   0.9 derivative value =  387818.58569901675\n",
      "current value of x is  -38780.458569901675 @ iteration  36  learning rate is   0.9 derivative value =  387818.58569901675\n",
      "current value of x is  19392.329284950836 @ iteration  36  learning rate is   0.9 derivative value =  -193909.29284950835\n",
      "current value of x is  19392.329284950836 @ iteration  37  learning rate is   0.9 derivative value =  -193909.29284950835\n",
      "current value of x is  -9298.312951250584 @ iteration  37  learning rate is   0.9 derivative value =  92997.12951250584\n",
      "current value of x is  -9298.312951250584 @ iteration  38  learning rate is   0.9 derivative value =  92997.12951250584\n",
      "current value of x is  4279.200908289666 @ iteration  38  learning rate is   0.9 derivative value =  -42778.00908289666\n",
      "current value of x is  4279.200908289666 @ iteration  39  learning rate is   0.9 derivative value =  -42778.00908289666\n",
      "current value of x is  -1885.7663478216755 @ iteration  39  learning rate is   0.9 derivative value =  18871.663478216753\n",
      "current value of x is  -1885.7663478216755 @ iteration  40  learning rate is   0.9 derivative value =  18871.663478216753\n",
      "current value of x is  799.7184444104391 @ iteration  40  learning rate is   0.9 derivative value =  -7983.184444104391\n",
      "current value of x is  799.7184444104391 @ iteration  41  learning rate is   0.9 derivative value =  -7983.184444104391\n",
      "current value of x is  -322.36910742730583 @ iteration  41  learning rate is   0.9 derivative value =  3237.6910742730583\n",
      "current value of x is  -322.36910742730583 @ iteration  42  learning rate is   0.9 derivative value =  3237.6910742730583\n",
      "current value of x is  127.25881358512152 @ iteration  42  learning rate is   0.9 derivative value =  -1258.5881358512152\n",
      "current value of x is  127.25881358512152 @ iteration  43  learning rate is   0.9 derivative value =  -1258.5881358512152\n",
      "current value of x is  -45.480788634277985 @ iteration  43  learning rate is   0.9 derivative value =  468.80788634277985\n",
      "current value of x is  -45.480788634277985 @ iteration  44  learning rate is   0.9 derivative value =  468.80788634277985\n",
      "current value of x is  18.127114637663944 @ iteration  44  learning rate is   0.9 derivative value =  -167.27114637663942\n",
      "current value of x is  18.127114637663944 @ iteration  45  learning rate is   0.9 derivative value =  -167.27114637663942\n",
      "current value of x is  -4.3146646006850595 @ iteration  45  learning rate is   0.9 derivative value =  57.146646006850595\n",
      "current value of x is  -4.3146646006850595 @ iteration  46  learning rate is   0.9 derivative value =  57.146646006850595\n",
      "current value of x is  3.2685673467622847 @ iteration  46  learning rate is   0.9 derivative value =  -18.68567346762285\n",
      "current value of x is  3.2685673467622847 @ iteration  47  learning rate is   0.9 derivative value =  -18.68567346762285\n",
      "current value of x is  0.815540305423768 @ iteration  47  learning rate is   0.9 derivative value =  5.844596945762319\n",
      "current value of x is  0.815540305423768 @ iteration  48  learning rate is   0.9 derivative value =  5.844596945762319\n",
      "current value of x is  1.5747757199104346 @ iteration  48  learning rate is   0.9 derivative value =  -1.7477571991043455\n",
      "current value of x is  1.5747757199104346 @ iteration  49  learning rate is   0.9 derivative value =  -1.7477571991043455\n",
      "current value of x is  1.3500640800255903 @ iteration  49  learning rate is   0.9 derivative value =  0.4993591997440969\n",
      "current value of x is  1.3500640800255903 @ iteration  50  learning rate is   0.9 derivative value =  0.4993591997440969\n",
      "current value of x is  1.4136221297752392 @ iteration  50  learning rate is   0.9 derivative value =  -0.13622129775239245\n",
      "current value of x is  1.4136221297752392 @ iteration  51  learning rate is   0.9 derivative value =  -0.13622129775239245\n",
      "current value of x is  1.396454812451558 @ iteration  51  learning rate is   0.9 derivative value =  0.03545187548442108\n",
      "current value of x is  1.396454812451558 @ iteration  52  learning rate is   0.9 derivative value =  0.03545187548442108\n",
      "current value of x is  1.400879473966304 @ iteration  52  learning rate is   0.9 derivative value =  -0.008794739663040119\n",
      "current value of x is  1.400879473966304 @ iteration  53  learning rate is   0.9 derivative value =  -0.008794739663040119\n",
      "current value of x is  1.3997922286063966 @ iteration  53  learning rate is   0.9 derivative value =  0.0020777139360337316\n",
      "current value of x is  1.3997922286063966 @ iteration  54  learning rate is   0.9 derivative value =  0.0020777139360337316\n",
      "current value of x is  1.4000466955551343 @ iteration  54  learning rate is   0.9 derivative value =  -0.0004669555513423518\n",
      "current value of x is  1.4000466955551343 @ iteration  55  learning rate is   0.9 derivative value =  -0.0004669555513423518\n",
      "current value of x is  1.3999900277088058 @ iteration  55  learning rate is   0.9 derivative value =  9.972291194237926e-05\n",
      "current value of x is  1.3999900277088058 @ iteration  56  learning rate is   0.9 derivative value =  9.972291194237926e-05\n",
      "current value of x is  1.4000020211399875 @ iteration  56  learning rate is   0.9 derivative value =  -2.0211399874625613e-05\n",
      "current value of x is  1.4000020211399875 @ iteration  57  learning rate is   0.9 derivative value =  -2.0211399874625613e-05\n",
      "current value of x is  1.399999611781207 @ iteration  57  learning rate is   0.9 derivative value =  3.882187929349357e-06\n",
      "current value of x is  1.399999611781207 @ iteration  58  learning rate is   0.9 derivative value =  3.882187929349357e-06\n",
      "current value of x is  1.400000070561831 @ iteration  58  learning rate is   0.9 derivative value =  -7.056183086717738e-07\n",
      "current value of x is  1.400000070561831 @ iteration  59  learning rate is   0.9 derivative value =  -7.056183086717738e-07\n",
      "current value of x is  1.3999999878845197 @ iteration  59  learning rate is   0.9 derivative value =  1.2115480174657023e-07\n",
      "current value of x is  1.3999999878845197 @ iteration  60  learning rate is   0.9 derivative value =  1.2115480174657023e-07\n",
      "current value of x is  1.4000000019614356 @ iteration  60  learning rate is   0.9 derivative value =  -1.9614356361330465e-08\n",
      "current value of x is  1.4000000019614356 @ iteration  61  learning rate is   0.9 derivative value =  -1.9614356361330465e-08\n",
      "current value of x is  1.3999999997012107 @ iteration  61  learning rate is   0.9 derivative value =  2.987892600003761e-09\n",
      "current value of x is  1.3999999997012107 @ iteration  62  learning rate is   0.9 derivative value =  2.987892600003761e-09\n",
      "current value of x is  1.400000000042727 @ iteration  62  learning rate is   0.9 derivative value =  -4.2727066329462104e-10\n",
      "current value of x is  1.400000000042727 @ iteration  63  learning rate is   0.9 derivative value =  -4.2727066329462104e-10\n",
      "current value of x is  1.3999999999942792 @ iteration  63  learning rate is   0.9 derivative value =  5.7209348369724466e-11\n",
      "current value of x is  1.3999999999942792 @ iteration  64  learning rate is   0.9 derivative value =  5.7209348369724466e-11\n",
      "local minima is at  1.3999999999942792  @ iteration  64\n"
     ]
    },
    {
     "data": {
      "text/plain": [
       "<matplotlib.axes._subplots.AxesSubplot at 0x184aaec66c8>"
      ]
     },
     "execution_count": 4,
     "metadata": {},
     "output_type": "execute_result"
    },
    {
     "data": {
      "image/png": "[encoded data removed]",
      "text/plain": [
       "<Figure size 360x360 with 1 Axes>"
      ]
     },
     "metadata": {
      "needs_background": "light"
     },
     "output_type": "display_data"
    }
   ],
   "source": [
    "# ascent :\n",
    "\n",
    "\n",
    "import numpy as np\n",
    "import math \n",
    "curentx=7\n",
    "\n",
    "maxi=10000\n",
    "i=1\n",
    "#df = lambda x:5*x-35\n",
    "rate = 0.9\n",
    "epsilon = (10**(-10))\n",
    "X=[]\n",
    "Y=[]\n",
    "def yf(x):\n",
    "    return(-5*x**2+14*x+3)\n",
    "    \n",
    "def df(x):\n",
    "    return(-10*x+14)\n",
    "while df(curentx) < -epsilon or df(curentx) >epsilon:\n",
    "    \n",
    "    curentx=curentx + (rate/np.sqrt(i))*df(curentx)\n",
    "    print(\"current value of x is \", curentx,\"@ iteration \",i,\" learning rate is  \",rate,\"derivative value = \",df(curentx))\n",
    "   \n",
    "    i = i+1\n",
    "    \n",
    "    if i==10000 :\n",
    "        \n",
    "        break\n",
    "    Y.append(yf(curentx))\n",
    "    X.append(curentx)\n",
    "    print(\"current value of x is \", curentx,\"@ iteration \",i,\" learning rate is  \",rate,\"derivative value = \",df(curentx))\n",
    "\n",
    "#print(\"X = \",X,\"Y = \",Y)    \n",
    "print(\"local minima is at \",curentx,\" @ iteration \", i )\n",
    "\n",
    "\n",
    "\n",
    "import pandas as pd\n",
    "data = {'X': X, 'Y': Y}\n",
    "output = pd.DataFrame(data)\n",
    "#print(output)\n",
    "import matplotlib.pyplot as plt\n",
    "output.plot(kind=\"scatter\",           #The type of plot to be plotted\n",
    "          x=\"X\",y=\"Y\",       #The variables in x and y axis\n",
    "          color=\"black\",            #Colour of the dots\n",
    "          figsize=(5,5)) "
   ]
  },
  {
   "cell_type": "markdown",
   "metadata": {},
   "source": [
    "### 0. Libraries"
   ]
  },
  {
   "cell_type": "code",
   "execution_count": 1,
   "metadata": {},
   "outputs": [],
   "source": [
    "import pandas as pd\n",
    "import matplotlib.pyplot as plt"
   ]
  },
  {
   "cell_type": "code",
   "execution_count": 2,
   "metadata": {},
   "outputs": [],
   "source": [
    "#For linear Regression using the statsmodels package\n",
    "import statsmodels.api as stm"
   ]
  },
  {
   "cell_type": "code",
   "execution_count": 3,
   "metadata": {},
   "outputs": [],
   "source": [
    "#For linear Regression using the sklearn package\n",
    "import sklearn"
   ]
  },
  {
   "cell_type": "markdown",
   "metadata": {},
   "source": [
    "### 1. Reading the Data"
   ]
  },
  {
   "cell_type": "code",
   "execution_count": 5,
   "metadata": {},
   "outputs": [
    {
     "data": {
      "text/html": [
       "<div>\n",
       "<style scoped>\n",
       "    .dataframe tbody tr th:only-of-type {\n",
       "        vertical-align: middle;\n",
       "    }\n",
       "\n",
       "    .dataframe tbody tr th {\n",
       "        vertical-align: top;\n",
       "    }\n",
       "\n",
       "    .dataframe thead th {\n",
       "        text-align: right;\n",
       "    }\n",
       "</style>\n",
       "<table border=\"1\" class=\"dataframe\">\n",
       "  <thead>\n",
       "    <tr style=\"text-align: right;\">\n",
       "      <th></th>\n",
       "      <th>Car</th>\n",
       "      <th>MPG</th>\n",
       "      <th>Cylinders</th>\n",
       "      <th>Displacement</th>\n",
       "      <th>Horsepower</th>\n",
       "      <th>Weight</th>\n",
       "      <th>Acceleration</th>\n",
       "      <th>Model</th>\n",
       "      <th>Origin</th>\n",
       "    </tr>\n",
       "  </thead>\n",
       "  <tbody>\n",
       "    <tr>\n",
       "      <td>0</td>\n",
       "      <td>Chevrolet Chevelle Malibu</td>\n",
       "      <td>18.0</td>\n",
       "      <td>8</td>\n",
       "      <td>307.0</td>\n",
       "      <td>130</td>\n",
       "      <td>3504</td>\n",
       "      <td>12.0</td>\n",
       "      <td>70</td>\n",
       "      <td>US</td>\n",
       "    </tr>\n",
       "    <tr>\n",
       "      <td>1</td>\n",
       "      <td>Buick Skylark 320</td>\n",
       "      <td>15.0</td>\n",
       "      <td>8</td>\n",
       "      <td>350.0</td>\n",
       "      <td>165</td>\n",
       "      <td>3693</td>\n",
       "      <td>11.5</td>\n",
       "      <td>70</td>\n",
       "      <td>US</td>\n",
       "    </tr>\n",
       "    <tr>\n",
       "      <td>2</td>\n",
       "      <td>Plymouth Satellite</td>\n",
       "      <td>18.0</td>\n",
       "      <td>8</td>\n",
       "      <td>318.0</td>\n",
       "      <td>150</td>\n",
       "      <td>3436</td>\n",
       "      <td>11.0</td>\n",
       "      <td>70</td>\n",
       "      <td>US</td>\n",
       "    </tr>\n",
       "    <tr>\n",
       "      <td>3</td>\n",
       "      <td>AMC Rebel SST</td>\n",
       "      <td>16.0</td>\n",
       "      <td>8</td>\n",
       "      <td>304.0</td>\n",
       "      <td>150</td>\n",
       "      <td>3433</td>\n",
       "      <td>12.0</td>\n",
       "      <td>70</td>\n",
       "      <td>US</td>\n",
       "    </tr>\n",
       "    <tr>\n",
       "      <td>4</td>\n",
       "      <td>Ford Torino</td>\n",
       "      <td>17.0</td>\n",
       "      <td>8</td>\n",
       "      <td>302.0</td>\n",
       "      <td>140</td>\n",
       "      <td>3449</td>\n",
       "      <td>10.5</td>\n",
       "      <td>70</td>\n",
       "      <td>US</td>\n",
       "    </tr>\n",
       "  </tbody>\n",
       "</table>\n",
       "</div>"
      ],
      "text/plain": [
       "                         Car   MPG  Cylinders  Displacement  Horsepower  \\\n",
       "0  Chevrolet Chevelle Malibu  18.0          8         307.0         130   \n",
       "1          Buick Skylark 320  15.0          8         350.0         165   \n",
       "2         Plymouth Satellite  18.0          8         318.0         150   \n",
       "3              AMC Rebel SST  16.0          8         304.0         150   \n",
       "4                Ford Torino  17.0          8         302.0         140   \n",
       "\n",
       "   Weight  Acceleration  Model Origin  \n",
       "0    3504          12.0     70     US  \n",
       "1    3693          11.5     70     US  \n",
       "2    3436          11.0     70     US  \n",
       "3    3433          12.0     70     US  \n",
       "4    3449          10.5     70     US  "
      ]
     },
     "execution_count": 5,
     "metadata": {},
     "output_type": "execute_result"
    }
   ],
   "source": [
    "\n",
    "cars = pd.read_csv('C:/Users/hp/Documents/Praxis_Docs/GOURAB_SIR_PYTHON_ML/ML/cars.csv')   \n",
    "cars.head()"
   ]
  },
  {
   "cell_type": "code",
   "execution_count": 5,
   "metadata": {},
   "outputs": [
    {
     "data": {
      "text/html": [
       "<div>\n",
       "<style scoped>\n",
       "    .dataframe tbody tr th:only-of-type {\n",
       "        vertical-align: middle;\n",
       "    }\n",
       "\n",
       "    .dataframe tbody tr th {\n",
       "        vertical-align: top;\n",
       "    }\n",
       "\n",
       "    .dataframe thead th {\n",
       "        text-align: right;\n",
       "    }\n",
       "</style>\n",
       "<table border=\"1\" class=\"dataframe\">\n",
       "  <thead>\n",
       "    <tr style=\"text-align: right;\">\n",
       "      <th></th>\n",
       "      <th>mpg</th>\n",
       "      <th>cyl</th>\n",
       "      <th>disp</th>\n",
       "      <th>hp</th>\n",
       "      <th>drat</th>\n",
       "      <th>wt</th>\n",
       "      <th>qsec</th>\n",
       "      <th>vs</th>\n",
       "      <th>am</th>\n",
       "      <th>gear</th>\n",
       "      <th>carb</th>\n",
       "    </tr>\n",
       "  </thead>\n",
       "  <tbody>\n",
       "    <tr>\n",
       "      <td>0</td>\n",
       "      <td>21.0</td>\n",
       "      <td>6</td>\n",
       "      <td>160.0</td>\n",
       "      <td>110</td>\n",
       "      <td>3.90</td>\n",
       "      <td>2.620</td>\n",
       "      <td>16.46</td>\n",
       "      <td>0</td>\n",
       "      <td>1</td>\n",
       "      <td>4</td>\n",
       "      <td>4</td>\n",
       "    </tr>\n",
       "    <tr>\n",
       "      <td>1</td>\n",
       "      <td>21.0</td>\n",
       "      <td>6</td>\n",
       "      <td>160.0</td>\n",
       "      <td>110</td>\n",
       "      <td>3.90</td>\n",
       "      <td>2.875</td>\n",
       "      <td>17.02</td>\n",
       "      <td>0</td>\n",
       "      <td>1</td>\n",
       "      <td>4</td>\n",
       "      <td>4</td>\n",
       "    </tr>\n",
       "    <tr>\n",
       "      <td>2</td>\n",
       "      <td>22.8</td>\n",
       "      <td>4</td>\n",
       "      <td>108.0</td>\n",
       "      <td>93</td>\n",
       "      <td>3.85</td>\n",
       "      <td>2.320</td>\n",
       "      <td>18.61</td>\n",
       "      <td>1</td>\n",
       "      <td>1</td>\n",
       "      <td>4</td>\n",
       "      <td>1</td>\n",
       "    </tr>\n",
       "    <tr>\n",
       "      <td>3</td>\n",
       "      <td>21.4</td>\n",
       "      <td>6</td>\n",
       "      <td>258.0</td>\n",
       "      <td>110</td>\n",
       "      <td>3.08</td>\n",
       "      <td>3.215</td>\n",
       "      <td>19.44</td>\n",
       "      <td>1</td>\n",
       "      <td>0</td>\n",
       "      <td>3</td>\n",
       "      <td>1</td>\n",
       "    </tr>\n",
       "    <tr>\n",
       "      <td>4</td>\n",
       "      <td>18.7</td>\n",
       "      <td>8</td>\n",
       "      <td>360.0</td>\n",
       "      <td>175</td>\n",
       "      <td>3.15</td>\n",
       "      <td>3.440</td>\n",
       "      <td>17.02</td>\n",
       "      <td>0</td>\n",
       "      <td>0</td>\n",
       "      <td>3</td>\n",
       "      <td>2</td>\n",
       "    </tr>\n",
       "  </tbody>\n",
       "</table>\n",
       "</div>"
      ],
      "text/plain": [
       "    mpg  cyl   disp   hp  drat     wt   qsec  vs  am  gear  carb\n",
       "0  21.0    6  160.0  110  3.90  2.620  16.46   0   1     4     4\n",
       "1  21.0    6  160.0  110  3.90  2.875  17.02   0   1     4     4\n",
       "2  22.8    4  108.0   93  3.85  2.320  18.61   1   1     4     1\n",
       "3  21.4    6  258.0  110  3.08  3.215  19.44   1   0     3     1\n",
       "4  18.7    8  360.0  175  3.15  3.440  17.02   0   0     3     2"
      ]
     },
     "execution_count": 5,
     "metadata": {},
     "output_type": "execute_result"
    }
   ],
   "source": [
    "mtcars = pd.read_csv('C:/Users/hp/Documents/Praxis_Docs/GOURAB_SIR_PYTHON_ML/ML/mtcars.csv')   \n",
    "mtcars.head()"
   ]
  },
  {
   "cell_type": "code",
   "execution_count": 4,
   "metadata": {},
   "outputs": [
    {
     "data": {
      "text/plain": [
       "'C:\\\\Users\\\\hp\\\\Documents\\\\Praxis_Docs\\\\GOURAB_SIR_PYTHON_ML\\\\ML'"
      ]
     },
     "execution_count": 4,
     "metadata": {},
     "output_type": "execute_result"
    }
   ],
   "source": [
    "import os\n",
    "os.getcwd()\n"
   ]
  },
  {
   "cell_type": "markdown",
   "metadata": {},
   "source": [
    "### 2. Studying the Association between the two variables"
   ]
  },
  {
   "cell_type": "code",
   "execution_count": 6,
   "metadata": {},
   "outputs": [
    {
     "data": {
      "image/png": "[encoded data removed]",
      "text/plain": [
       "<Figure size 576x432 with 1 Axes>"
      ]
     },
     "metadata": {
      "needs_background": "light"
     },
     "output_type": "display_data"
    }
   ],
   "source": [
    "#Plotting the scatter plot to study the association between MPG and Weight\n",
    "cars.plot(kind='scatter', x='Weight', y='MPG', color='black', figsize=(8,6))\n",
    "plt.ylabel('Miles per Gallon', fontsize=12)\n",
    "plt.xlabel('Weight (in lbs) of Cars', fontsize=12)\n",
    "plt.title('Scatter plot of MPG vs Weight',fontsize=14)\n",
    "plt.show()"
   ]
  },
  {
   "cell_type": "markdown",
   "metadata": {},
   "source": [
    "### 3. Removing (Obvious) Anomalies"
   ]
  },
  {
   "cell_type": "code",
   "execution_count": 7,
   "metadata": {},
   "outputs": [],
   "source": [
    "#Let us remove the observations for which MPG is 0\n",
    "cars2 = cars.loc[cars.MPG != 0, ]\n",
    "cars2 = cars2.loc[cars2.Horsepower !=0,]"
   ]
  },
  {
   "cell_type": "code",
   "execution_count": 7,
   "metadata": {},
   "outputs": [
    {
     "data": {
      "text/html": [
       "<div>\n",
       "<style scoped>\n",
       "    .dataframe tbody tr th:only-of-type {\n",
       "        vertical-align: middle;\n",
       "    }\n",
       "\n",
       "    .dataframe tbody tr th {\n",
       "        vertical-align: top;\n",
       "    }\n",
       "\n",
       "    .dataframe thead th {\n",
       "        text-align: right;\n",
       "    }\n",
       "</style>\n",
       "<table border=\"1\" class=\"dataframe\">\n",
       "  <thead>\n",
       "    <tr style=\"text-align: right;\">\n",
       "      <th></th>\n",
       "      <th>MPG</th>\n",
       "      <th>Cylinders</th>\n",
       "      <th>Displacement</th>\n",
       "      <th>Horsepower</th>\n",
       "      <th>Weight</th>\n",
       "      <th>Acceleration</th>\n",
       "      <th>Model</th>\n",
       "    </tr>\n",
       "  </thead>\n",
       "  <tbody>\n",
       "    <tr>\n",
       "      <td>count</td>\n",
       "      <td>392.000000</td>\n",
       "      <td>392.000000</td>\n",
       "      <td>392.000000</td>\n",
       "      <td>392.000000</td>\n",
       "      <td>392.000000</td>\n",
       "      <td>392.000000</td>\n",
       "      <td>392.000000</td>\n",
       "    </tr>\n",
       "    <tr>\n",
       "      <td>mean</td>\n",
       "      <td>23.445918</td>\n",
       "      <td>5.471939</td>\n",
       "      <td>194.411990</td>\n",
       "      <td>104.469388</td>\n",
       "      <td>2977.584184</td>\n",
       "      <td>15.541327</td>\n",
       "      <td>75.979592</td>\n",
       "    </tr>\n",
       "    <tr>\n",
       "      <td>std</td>\n",
       "      <td>7.805007</td>\n",
       "      <td>1.705783</td>\n",
       "      <td>104.644004</td>\n",
       "      <td>38.491160</td>\n",
       "      <td>849.402560</td>\n",
       "      <td>2.758864</td>\n",
       "      <td>3.683737</td>\n",
       "    </tr>\n",
       "    <tr>\n",
       "      <td>min</td>\n",
       "      <td>9.000000</td>\n",
       "      <td>3.000000</td>\n",
       "      <td>68.000000</td>\n",
       "      <td>46.000000</td>\n",
       "      <td>1613.000000</td>\n",
       "      <td>8.000000</td>\n",
       "      <td>70.000000</td>\n",
       "    </tr>\n",
       "    <tr>\n",
       "      <td>25%</td>\n",
       "      <td>17.000000</td>\n",
       "      <td>4.000000</td>\n",
       "      <td>105.000000</td>\n",
       "      <td>75.000000</td>\n",
       "      <td>2225.250000</td>\n",
       "      <td>13.775000</td>\n",
       "      <td>73.000000</td>\n",
       "    </tr>\n",
       "    <tr>\n",
       "      <td>50%</td>\n",
       "      <td>22.750000</td>\n",
       "      <td>4.000000</td>\n",
       "      <td>151.000000</td>\n",
       "      <td>93.500000</td>\n",
       "      <td>2803.500000</td>\n",
       "      <td>15.500000</td>\n",
       "      <td>76.000000</td>\n",
       "    </tr>\n",
       "    <tr>\n",
       "      <td>75%</td>\n",
       "      <td>29.000000</td>\n",
       "      <td>8.000000</td>\n",
       "      <td>275.750000</td>\n",
       "      <td>126.000000</td>\n",
       "      <td>3614.750000</td>\n",
       "      <td>17.025000</td>\n",
       "      <td>79.000000</td>\n",
       "    </tr>\n",
       "    <tr>\n",
       "      <td>max</td>\n",
       "      <td>46.600000</td>\n",
       "      <td>8.000000</td>\n",
       "      <td>455.000000</td>\n",
       "      <td>230.000000</td>\n",
       "      <td>5140.000000</td>\n",
       "      <td>24.800000</td>\n",
       "      <td>82.000000</td>\n",
       "    </tr>\n",
       "  </tbody>\n",
       "</table>\n",
       "</div>"
      ],
      "text/plain": [
       "              MPG   Cylinders  Displacement  Horsepower       Weight  \\\n",
       "count  392.000000  392.000000    392.000000  392.000000   392.000000   \n",
       "mean    23.445918    5.471939    194.411990  104.469388  2977.584184   \n",
       "std      7.805007    1.705783    104.644004   38.491160   849.402560   \n",
       "min      9.000000    3.000000     68.000000   46.000000  1613.000000   \n",
       "25%     17.000000    4.000000    105.000000   75.000000  2225.250000   \n",
       "50%     22.750000    4.000000    151.000000   93.500000  2803.500000   \n",
       "75%     29.000000    8.000000    275.750000  126.000000  3614.750000   \n",
       "max     46.600000    8.000000    455.000000  230.000000  5140.000000   \n",
       "\n",
       "       Acceleration       Model  \n",
       "count    392.000000  392.000000  \n",
       "mean      15.541327   75.979592  \n",
       "std        2.758864    3.683737  \n",
       "min        8.000000   70.000000  \n",
       "25%       13.775000   73.000000  \n",
       "50%       15.500000   76.000000  \n",
       "75%       17.025000   79.000000  \n",
       "max       24.800000   82.000000  "
      ]
     },
     "execution_count": 7,
     "metadata": {},
     "output_type": "execute_result"
    }
   ],
   "source": [
    "cars2.describe()"
   ]
  },
  {
   "cell_type": "markdown",
   "metadata": {},
   "source": [
    "### 4. Fitting a Linear Regression Model"
   ]
  },
  {
   "cell_type": "code",
   "execution_count": 8,
   "metadata": {},
   "outputs": [],
   "source": [
    "#Separating out the predictors and the response\n",
    "X = cars2.loc[:,[\"Weight\",\"Acceleration\",\"Horsepower\"]]\n",
    "Y = cars2.MPG"
   ]
  },
  {
   "cell_type": "code",
   "execution_count": 9,
   "metadata": {},
   "outputs": [
    {
     "name": "stderr",
     "output_type": "stream",
     "text": [
      "C:\\Users\\hp\\Anaconda3\\lib\\site-packages\\numpy\\core\\fromnumeric.py:2389: FutureWarning: Method .ptp is deprecated and will be removed in a future version. Use numpy.ptp instead.\n",
      "  return ptp(axis=axis, out=out, **kwargs)\n"
     ]
    },
    {
     "data": {
      "text/html": [
       "<div>\n",
       "<style scoped>\n",
       "    .dataframe tbody tr th:only-of-type {\n",
       "        vertical-align: middle;\n",
       "    }\n",
       "\n",
       "    .dataframe tbody tr th {\n",
       "        vertical-align: top;\n",
       "    }\n",
       "\n",
       "    .dataframe thead th {\n",
       "        text-align: right;\n",
       "    }\n",
       "</style>\n",
       "<table border=\"1\" class=\"dataframe\">\n",
       "  <thead>\n",
       "    <tr style=\"text-align: right;\">\n",
       "      <th></th>\n",
       "      <th>const</th>\n",
       "      <th>Weight</th>\n",
       "      <th>Acceleration</th>\n",
       "      <th>Horsepower</th>\n",
       "    </tr>\n",
       "  </thead>\n",
       "  <tbody>\n",
       "    <tr>\n",
       "      <td>0</td>\n",
       "      <td>1.0</td>\n",
       "      <td>3504</td>\n",
       "      <td>12.0</td>\n",
       "      <td>130</td>\n",
       "    </tr>\n",
       "    <tr>\n",
       "      <td>1</td>\n",
       "      <td>1.0</td>\n",
       "      <td>3693</td>\n",
       "      <td>11.5</td>\n",
       "      <td>165</td>\n",
       "    </tr>\n",
       "    <tr>\n",
       "      <td>2</td>\n",
       "      <td>1.0</td>\n",
       "      <td>3436</td>\n",
       "      <td>11.0</td>\n",
       "      <td>150</td>\n",
       "    </tr>\n",
       "    <tr>\n",
       "      <td>3</td>\n",
       "      <td>1.0</td>\n",
       "      <td>3433</td>\n",
       "      <td>12.0</td>\n",
       "      <td>150</td>\n",
       "    </tr>\n",
       "    <tr>\n",
       "      <td>4</td>\n",
       "      <td>1.0</td>\n",
       "      <td>3449</td>\n",
       "      <td>10.5</td>\n",
       "      <td>140</td>\n",
       "    </tr>\n",
       "  </tbody>\n",
       "</table>\n",
       "</div>"
      ],
      "text/plain": [
       "   const  Weight  Acceleration  Horsepower\n",
       "0    1.0    3504          12.0         130\n",
       "1    1.0    3693          11.5         165\n",
       "2    1.0    3436          11.0         150\n",
       "3    1.0    3433          12.0         150\n",
       "4    1.0    3449          10.5         140"
      ]
     },
     "execution_count": 9,
     "metadata": {},
     "output_type": "execute_result"
    }
   ],
   "source": [
    "#Adding a column of constant (=1) in X\n",
    "X = stm.add_constant(X)\n",
    "X.head()"
   ]
  },
  {
   "cell_type": "code",
   "execution_count": 10,
   "metadata": {},
   "outputs": [
    {
     "data": {
      "text/plain": [
       "const           45.678293\n",
       "Weight          -0.005789\n",
       "Acceleration    -0.002066\n",
       "Horsepower      -0.047496\n",
       "dtype: float64"
      ]
     },
     "execution_count": 10,
     "metadata": {},
     "output_type": "execute_result"
    }
   ],
   "source": [
    "#Fitting Linear Regression model using the Statsmodels.api package\n",
    "mod = stm.OLS(Y,X).fit()\n",
    "mod.params #coefficient estimate"
   ]
  },
  {
   "cell_type": "code",
   "execution_count": null,
   "metadata": {},
   "outputs": [],
   "source": [
    "#Fitting Linear Regression model using the sklearn package\n",
    "#Explore yourself --> Homework   np.transpose(x)   np.linalg.inv(x)"
   ]
  },
  {
   "cell_type": "code",
   "execution_count": 7,
   "metadata": {},
   "outputs": [
    {
     "ename": "AttributeError",
     "evalue": "'list' object has no attribute 'shape'",
     "output_type": "error",
     "traceback": [
      "\u001b[1;31m---------------------------------------------------------------------------\u001b[0m",
      "\u001b[1;31mAttributeError\u001b[0m                            Traceback (most recent call last)",
      "\u001b[1;32m<ipython-input-7-e6512f193c58>\u001b[0m in \u001b[0;36m<module>\u001b[1;34m\u001b[0m\n\u001b[0;32m      2\u001b[0m \u001b[0mtrans\u001b[0m \u001b[1;33m=\u001b[0m \u001b[0mnp\u001b[0m\u001b[1;33m.\u001b[0m\u001b[0mtranspose\u001b[0m\u001b[1;33m(\u001b[0m\u001b[0mX\u001b[0m\u001b[1;33m)\u001b[0m\u001b[1;33m\u001b[0m\u001b[1;33m\u001b[0m\u001b[0m\n\u001b[0;32m      3\u001b[0m \u001b[0mtrans\u001b[0m\u001b[1;33m.\u001b[0m\u001b[0mshape\u001b[0m\u001b[1;33m\u001b[0m\u001b[1;33m\u001b[0m\u001b[0m\n\u001b[1;32m----> 4\u001b[1;33m \u001b[0mX\u001b[0m\u001b[1;33m.\u001b[0m\u001b[0mshape\u001b[0m\u001b[1;33m(\u001b[0m\u001b[1;33m)\u001b[0m\u001b[1;33m\u001b[0m\u001b[1;33m\u001b[0m\u001b[0m\n\u001b[0m",
      "\u001b[1;31mAttributeError\u001b[0m: 'list' object has no attribute 'shape'"
     ]
    }
   ],
   "source": [
    "import numpy as np\n",
    "trans = np.transpose(X)\n",
    "trans.shape\n",
    "X.shape"
   ]
  },
  {
   "cell_type": "code",
   "execution_count": 13,
   "metadata": {},
   "outputs": [],
   "source": [
    "half = np.linalg.inv(trans@X) "
   ]
  },
  {
   "cell_type": "code",
   "execution_count": 14,
   "metadata": {},
   "outputs": [
    {
     "data": {
      "text/plain": [
       "0    45.678293\n",
       "1    -0.005789\n",
       "2    -0.002066\n",
       "3    -0.047496\n",
       "dtype: float64"
      ]
     },
     "execution_count": 14,
     "metadata": {},
     "output_type": "execute_result"
    }
   ],
   "source": [
    "half @ trans @Y"
   ]
  },
  {
   "cell_type": "code",
   "execution_count": 12,
   "metadata": {},
   "outputs": [
    {
     "data": {
      "text/plain": [
       "0    45.678293\n",
       "1    -0.005789\n",
       "2    -0.002066\n",
       "3    -0.047496\n",
       "dtype: float64"
      ]
     },
     "execution_count": 12,
     "metadata": {},
     "output_type": "execute_result"
    }
   ],
   "source": [
    "np.linalg.inv(trans@X)@trans @Y  #closed form solution"
   ]
  },
  {
   "cell_type": "code",
   "execution_count": 57,
   "metadata": {},
   "outputs": [
    {
     "ename": "AttributeError",
     "evalue": "'numpy.ndarray' object has no attribute 'as_matrix'",
     "output_type": "error",
     "traceback": [
      "\u001b[1;31m---------------------------------------------------------------------------\u001b[0m",
      "\u001b[1;31mAttributeError\u001b[0m                            Traceback (most recent call last)",
      "\u001b[1;32m<ipython-input-57-f63eebc5be2f>\u001b[0m in \u001b[0;36m<module>\u001b[1;34m\u001b[0m\n\u001b[1;32m----> 1\u001b[1;33m \u001b[0mX\u001b[0m\u001b[1;33m=\u001b[0m \u001b[0mX\u001b[0m\u001b[1;33m.\u001b[0m\u001b[0mas_matrix\u001b[0m\u001b[1;33m(\u001b[0m\u001b[1;33m)\u001b[0m\u001b[1;33m\u001b[0m\u001b[1;33m\u001b[0m\u001b[0m\n\u001b[0m\u001b[0;32m      2\u001b[0m \u001b[0mY\u001b[0m \u001b[1;33m=\u001b[0m\u001b[0mY\u001b[0m\u001b[1;33m.\u001b[0m\u001b[0mas_matrix\u001b[0m\u001b[1;33m(\u001b[0m\u001b[1;33m)\u001b[0m\u001b[1;33m\u001b[0m\u001b[1;33m\u001b[0m\u001b[0m\n",
      "\u001b[1;31mAttributeError\u001b[0m: 'numpy.ndarray' object has no attribute 'as_matrix'"
     ]
    }
   ],
   "source": [
    "X= X.as_matrix()\n",
    "#Y =Y.as_matrix()"
   ]
  },
  {
   "cell_type": "code",
   "execution_count": 58,
   "metadata": {},
   "outputs": [
    {
     "ename": "ValueError",
     "evalue": "Shape of passed values is (4, 4), indices imply (4, 392)",
     "output_type": "error",
     "traceback": [
      "\u001b[1;31m---------------------------------------------------------------------------\u001b[0m",
      "\u001b[1;31mValueError\u001b[0m                                Traceback (most recent call last)",
      "\u001b[1;32m~\\Anaconda3\\lib\\site-packages\\pandas\\core\\internals\\managers.py\u001b[0m in \u001b[0;36mcreate_block_manager_from_blocks\u001b[1;34m(blocks, axes)\u001b[0m\n\u001b[0;32m   1677\u001b[0m                 blocks = [\n\u001b[1;32m-> 1678\u001b[1;33m                     \u001b[0mmake_block\u001b[0m\u001b[1;33m(\u001b[0m\u001b[0mvalues\u001b[0m\u001b[1;33m=\u001b[0m\u001b[0mblocks\u001b[0m\u001b[1;33m[\u001b[0m\u001b[1;36m0\u001b[0m\u001b[1;33m]\u001b[0m\u001b[1;33m,\u001b[0m \u001b[0mplacement\u001b[0m\u001b[1;33m=\u001b[0m\u001b[0mslice\u001b[0m\u001b[1;33m(\u001b[0m\u001b[1;36m0\u001b[0m\u001b[1;33m,\u001b[0m \u001b[0mlen\u001b[0m\u001b[1;33m(\u001b[0m\u001b[0maxes\u001b[0m\u001b[1;33m[\u001b[0m\u001b[1;36m0\u001b[0m\u001b[1;33m]\u001b[0m\u001b[1;33m)\u001b[0m\u001b[1;33m)\u001b[0m\u001b[1;33m)\u001b[0m\u001b[1;33m\u001b[0m\u001b[1;33m\u001b[0m\u001b[0m\n\u001b[0m\u001b[0;32m   1679\u001b[0m                 ]\n",
      "\u001b[1;32m~\\Anaconda3\\lib\\site-packages\\pandas\\core\\internals\\blocks.py\u001b[0m in \u001b[0;36mmake_block\u001b[1;34m(values, placement, klass, ndim, dtype, fastpath)\u001b[0m\n\u001b[0;32m   3266\u001b[0m \u001b[1;33m\u001b[0m\u001b[0m\n\u001b[1;32m-> 3267\u001b[1;33m     \u001b[1;32mreturn\u001b[0m \u001b[0mklass\u001b[0m\u001b[1;33m(\u001b[0m\u001b[0mvalues\u001b[0m\u001b[1;33m,\u001b[0m \u001b[0mndim\u001b[0m\u001b[1;33m=\u001b[0m\u001b[0mndim\u001b[0m\u001b[1;33m,\u001b[0m \u001b[0mplacement\u001b[0m\u001b[1;33m=\u001b[0m\u001b[0mplacement\u001b[0m\u001b[1;33m)\u001b[0m\u001b[1;33m\u001b[0m\u001b[1;33m\u001b[0m\u001b[0m\n\u001b[0m\u001b[0;32m   3268\u001b[0m \u001b[1;33m\u001b[0m\u001b[0m\n",
      "\u001b[1;32m~\\Anaconda3\\lib\\site-packages\\pandas\\core\\internals\\blocks.py\u001b[0m in \u001b[0;36m__init__\u001b[1;34m(self, values, placement, ndim)\u001b[0m\n\u001b[0;32m    127\u001b[0m                 \u001b[1;34m\"Wrong number of items passed {val}, placement implies \"\u001b[0m\u001b[1;33m\u001b[0m\u001b[1;33m\u001b[0m\u001b[0m\n\u001b[1;32m--> 128\u001b[1;33m                 \u001b[1;34m\"{mgr}\"\u001b[0m\u001b[1;33m.\u001b[0m\u001b[0mformat\u001b[0m\u001b[1;33m(\u001b[0m\u001b[0mval\u001b[0m\u001b[1;33m=\u001b[0m\u001b[0mlen\u001b[0m\u001b[1;33m(\u001b[0m\u001b[0mself\u001b[0m\u001b[1;33m.\u001b[0m\u001b[0mvalues\u001b[0m\u001b[1;33m)\u001b[0m\u001b[1;33m,\u001b[0m \u001b[0mmgr\u001b[0m\u001b[1;33m=\u001b[0m\u001b[0mlen\u001b[0m\u001b[1;33m(\u001b[0m\u001b[0mself\u001b[0m\u001b[1;33m.\u001b[0m\u001b[0mmgr_locs\u001b[0m\u001b[1;33m)\u001b[0m\u001b[1;33m)\u001b[0m\u001b[1;33m\u001b[0m\u001b[1;33m\u001b[0m\u001b[0m\n\u001b[0m\u001b[0;32m    129\u001b[0m             )\n",
      "\u001b[1;31mValueError\u001b[0m: Wrong number of items passed 4, placement implies 392",
      "\nDuring handling of the above exception, another exception occurred:\n",
      "\u001b[1;31mValueError\u001b[0m                                Traceback (most recent call last)",
      "\u001b[1;32m<ipython-input-58-1e6816619d99>\u001b[0m in \u001b[0;36m<module>\u001b[1;34m\u001b[0m\n\u001b[1;32m----> 1\u001b[1;33m \u001b[0mnp\u001b[0m\u001b[1;33m.\u001b[0m\u001b[0mmatmul\u001b[0m\u001b[1;33m(\u001b[0m\u001b[0mnp\u001b[0m\u001b[1;33m.\u001b[0m\u001b[0mmatmul\u001b[0m\u001b[1;33m(\u001b[0m\u001b[0mnp\u001b[0m\u001b[1;33m.\u001b[0m\u001b[0mlinalg\u001b[0m\u001b[1;33m.\u001b[0m\u001b[0minv\u001b[0m\u001b[1;33m(\u001b[0m\u001b[0mnp\u001b[0m\u001b[1;33m.\u001b[0m\u001b[0mmatmul\u001b[0m\u001b[1;33m(\u001b[0m\u001b[0mtrans\u001b[0m\u001b[1;33m,\u001b[0m\u001b[0mX\u001b[0m\u001b[1;33m)\u001b[0m\u001b[1;33m)\u001b[0m\u001b[1;33m,\u001b[0m\u001b[0mtrans\u001b[0m\u001b[1;33m)\u001b[0m\u001b[1;33m,\u001b[0m\u001b[0mY\u001b[0m\u001b[1;33m)\u001b[0m\u001b[1;33m\u001b[0m\u001b[1;33m\u001b[0m\u001b[0m\n\u001b[0m",
      "\u001b[1;32m~\\Anaconda3\\lib\\site-packages\\pandas\\core\\generic.py\u001b[0m in \u001b[0;36m__array_wrap__\u001b[1;34m(self, result, context)\u001b[0m\n\u001b[0;32m   1997\u001b[0m     \u001b[1;32mdef\u001b[0m \u001b[0m__array_wrap__\u001b[0m\u001b[1;33m(\u001b[0m\u001b[0mself\u001b[0m\u001b[1;33m,\u001b[0m \u001b[0mresult\u001b[0m\u001b[1;33m,\u001b[0m \u001b[0mcontext\u001b[0m\u001b[1;33m=\u001b[0m\u001b[1;32mNone\u001b[0m\u001b[1;33m)\u001b[0m\u001b[1;33m:\u001b[0m\u001b[1;33m\u001b[0m\u001b[1;33m\u001b[0m\u001b[0m\n\u001b[0;32m   1998\u001b[0m         \u001b[0md\u001b[0m \u001b[1;33m=\u001b[0m \u001b[0mself\u001b[0m\u001b[1;33m.\u001b[0m\u001b[0m_construct_axes_dict\u001b[0m\u001b[1;33m(\u001b[0m\u001b[0mself\u001b[0m\u001b[1;33m.\u001b[0m\u001b[0m_AXIS_ORDERS\u001b[0m\u001b[1;33m,\u001b[0m \u001b[0mcopy\u001b[0m\u001b[1;33m=\u001b[0m\u001b[1;32mFalse\u001b[0m\u001b[1;33m)\u001b[0m\u001b[1;33m\u001b[0m\u001b[1;33m\u001b[0m\u001b[0m\n\u001b[1;32m-> 1999\u001b[1;33m         \u001b[1;32mreturn\u001b[0m \u001b[0mself\u001b[0m\u001b[1;33m.\u001b[0m\u001b[0m_constructor\u001b[0m\u001b[1;33m(\u001b[0m\u001b[0mresult\u001b[0m\u001b[1;33m,\u001b[0m \u001b[1;33m**\u001b[0m\u001b[0md\u001b[0m\u001b[1;33m)\u001b[0m\u001b[1;33m.\u001b[0m\u001b[0m__finalize__\u001b[0m\u001b[1;33m(\u001b[0m\u001b[0mself\u001b[0m\u001b[1;33m)\u001b[0m\u001b[1;33m\u001b[0m\u001b[1;33m\u001b[0m\u001b[0m\n\u001b[0m\u001b[0;32m   2000\u001b[0m \u001b[1;33m\u001b[0m\u001b[0m\n\u001b[0;32m   2001\u001b[0m     \u001b[1;31m# ideally we would define this to avoid the getattr checks, but\u001b[0m\u001b[1;33m\u001b[0m\u001b[1;33m\u001b[0m\u001b[1;33m\u001b[0m\u001b[0m\n",
      "\u001b[1;32m~\\Anaconda3\\lib\\site-packages\\pandas\\core\\frame.py\u001b[0m in \u001b[0;36m__init__\u001b[1;34m(self, data, index, columns, dtype, copy)\u001b[0m\n\u001b[0;32m    438\u001b[0m                 \u001b[0mmgr\u001b[0m \u001b[1;33m=\u001b[0m \u001b[0minit_dict\u001b[0m\u001b[1;33m(\u001b[0m\u001b[1;33m{\u001b[0m\u001b[0mdata\u001b[0m\u001b[1;33m.\u001b[0m\u001b[0mname\u001b[0m\u001b[1;33m:\u001b[0m \u001b[0mdata\u001b[0m\u001b[1;33m}\u001b[0m\u001b[1;33m,\u001b[0m \u001b[0mindex\u001b[0m\u001b[1;33m,\u001b[0m \u001b[0mcolumns\u001b[0m\u001b[1;33m,\u001b[0m \u001b[0mdtype\u001b[0m\u001b[1;33m=\u001b[0m\u001b[0mdtype\u001b[0m\u001b[1;33m)\u001b[0m\u001b[1;33m\u001b[0m\u001b[1;33m\u001b[0m\u001b[0m\n\u001b[0;32m    439\u001b[0m             \u001b[1;32melse\u001b[0m\u001b[1;33m:\u001b[0m\u001b[1;33m\u001b[0m\u001b[1;33m\u001b[0m\u001b[0m\n\u001b[1;32m--> 440\u001b[1;33m                 \u001b[0mmgr\u001b[0m \u001b[1;33m=\u001b[0m \u001b[0minit_ndarray\u001b[0m\u001b[1;33m(\u001b[0m\u001b[0mdata\u001b[0m\u001b[1;33m,\u001b[0m \u001b[0mindex\u001b[0m\u001b[1;33m,\u001b[0m \u001b[0mcolumns\u001b[0m\u001b[1;33m,\u001b[0m \u001b[0mdtype\u001b[0m\u001b[1;33m=\u001b[0m\u001b[0mdtype\u001b[0m\u001b[1;33m,\u001b[0m \u001b[0mcopy\u001b[0m\u001b[1;33m=\u001b[0m\u001b[0mcopy\u001b[0m\u001b[1;33m)\u001b[0m\u001b[1;33m\u001b[0m\u001b[1;33m\u001b[0m\u001b[0m\n\u001b[0m\u001b[0;32m    441\u001b[0m \u001b[1;33m\u001b[0m\u001b[0m\n\u001b[0;32m    442\u001b[0m         \u001b[1;31m# For data is list-like, or Iterable (will consume into list)\u001b[0m\u001b[1;33m\u001b[0m\u001b[1;33m\u001b[0m\u001b[1;33m\u001b[0m\u001b[0m\n",
      "\u001b[1;32m~\\Anaconda3\\lib\\site-packages\\pandas\\core\\internals\\construction.py\u001b[0m in \u001b[0;36minit_ndarray\u001b[1;34m(values, index, columns, dtype, copy)\u001b[0m\n\u001b[0;32m    211\u001b[0m         \u001b[0mblock_values\u001b[0m \u001b[1;33m=\u001b[0m \u001b[1;33m[\u001b[0m\u001b[0mvalues\u001b[0m\u001b[1;33m]\u001b[0m\u001b[1;33m\u001b[0m\u001b[1;33m\u001b[0m\u001b[0m\n\u001b[0;32m    212\u001b[0m \u001b[1;33m\u001b[0m\u001b[0m\n\u001b[1;32m--> 213\u001b[1;33m     \u001b[1;32mreturn\u001b[0m \u001b[0mcreate_block_manager_from_blocks\u001b[0m\u001b[1;33m(\u001b[0m\u001b[0mblock_values\u001b[0m\u001b[1;33m,\u001b[0m \u001b[1;33m[\u001b[0m\u001b[0mcolumns\u001b[0m\u001b[1;33m,\u001b[0m \u001b[0mindex\u001b[0m\u001b[1;33m]\u001b[0m\u001b[1;33m)\u001b[0m\u001b[1;33m\u001b[0m\u001b[1;33m\u001b[0m\u001b[0m\n\u001b[0m\u001b[0;32m    214\u001b[0m \u001b[1;33m\u001b[0m\u001b[0m\n\u001b[0;32m    215\u001b[0m \u001b[1;33m\u001b[0m\u001b[0m\n",
      "\u001b[1;32m~\\Anaconda3\\lib\\site-packages\\pandas\\core\\internals\\managers.py\u001b[0m in \u001b[0;36mcreate_block_manager_from_blocks\u001b[1;34m(blocks, axes)\u001b[0m\n\u001b[0;32m   1686\u001b[0m         \u001b[0mblocks\u001b[0m \u001b[1;33m=\u001b[0m \u001b[1;33m[\u001b[0m\u001b[0mgetattr\u001b[0m\u001b[1;33m(\u001b[0m\u001b[0mb\u001b[0m\u001b[1;33m,\u001b[0m \u001b[1;34m\"values\"\u001b[0m\u001b[1;33m,\u001b[0m \u001b[0mb\u001b[0m\u001b[1;33m)\u001b[0m \u001b[1;32mfor\u001b[0m \u001b[0mb\u001b[0m \u001b[1;32min\u001b[0m \u001b[0mblocks\u001b[0m\u001b[1;33m]\u001b[0m\u001b[1;33m\u001b[0m\u001b[1;33m\u001b[0m\u001b[0m\n\u001b[0;32m   1687\u001b[0m         \u001b[0mtot_items\u001b[0m \u001b[1;33m=\u001b[0m \u001b[0msum\u001b[0m\u001b[1;33m(\u001b[0m\u001b[0mb\u001b[0m\u001b[1;33m.\u001b[0m\u001b[0mshape\u001b[0m\u001b[1;33m[\u001b[0m\u001b[1;36m0\u001b[0m\u001b[1;33m]\u001b[0m \u001b[1;32mfor\u001b[0m \u001b[0mb\u001b[0m \u001b[1;32min\u001b[0m \u001b[0mblocks\u001b[0m\u001b[1;33m)\u001b[0m\u001b[1;33m\u001b[0m\u001b[1;33m\u001b[0m\u001b[0m\n\u001b[1;32m-> 1688\u001b[1;33m         \u001b[0mconstruction_error\u001b[0m\u001b[1;33m(\u001b[0m\u001b[0mtot_items\u001b[0m\u001b[1;33m,\u001b[0m \u001b[0mblocks\u001b[0m\u001b[1;33m[\u001b[0m\u001b[1;36m0\u001b[0m\u001b[1;33m]\u001b[0m\u001b[1;33m.\u001b[0m\u001b[0mshape\u001b[0m\u001b[1;33m[\u001b[0m\u001b[1;36m1\u001b[0m\u001b[1;33m:\u001b[0m\u001b[1;33m]\u001b[0m\u001b[1;33m,\u001b[0m \u001b[0maxes\u001b[0m\u001b[1;33m,\u001b[0m \u001b[0me\u001b[0m\u001b[1;33m)\u001b[0m\u001b[1;33m\u001b[0m\u001b[1;33m\u001b[0m\u001b[0m\n\u001b[0m\u001b[0;32m   1689\u001b[0m \u001b[1;33m\u001b[0m\u001b[0m\n\u001b[0;32m   1690\u001b[0m \u001b[1;33m\u001b[0m\u001b[0m\n",
      "\u001b[1;32m~\\Anaconda3\\lib\\site-packages\\pandas\\core\\internals\\managers.py\u001b[0m in \u001b[0;36mconstruction_error\u001b[1;34m(tot_items, block_shape, axes, e)\u001b[0m\n\u001b[0;32m   1717\u001b[0m         \u001b[1;32mraise\u001b[0m \u001b[0mValueError\u001b[0m\u001b[1;33m(\u001b[0m\u001b[1;34m\"Empty data passed with indices specified.\"\u001b[0m\u001b[1;33m)\u001b[0m\u001b[1;33m\u001b[0m\u001b[1;33m\u001b[0m\u001b[0m\n\u001b[0;32m   1718\u001b[0m     raise ValueError(\n\u001b[1;32m-> 1719\u001b[1;33m         \u001b[1;34m\"Shape of passed values is {0}, indices imply {1}\"\u001b[0m\u001b[1;33m.\u001b[0m\u001b[0mformat\u001b[0m\u001b[1;33m(\u001b[0m\u001b[0mpassed\u001b[0m\u001b[1;33m,\u001b[0m \u001b[0mimplied\u001b[0m\u001b[1;33m)\u001b[0m\u001b[1;33m\u001b[0m\u001b[1;33m\u001b[0m\u001b[0m\n\u001b[0m\u001b[0;32m   1720\u001b[0m     )\n\u001b[0;32m   1721\u001b[0m \u001b[1;33m\u001b[0m\u001b[0m\n",
      "\u001b[1;31mValueError\u001b[0m: Shape of passed values is (4, 4), indices imply (4, 392)"
     ]
    }
   ],
   "source": [
    "np.matmul(np.matmul(np.linalg.inv(np.matmul(trans,X)),trans),Y)"
   ]
  },
  {
   "cell_type": "code",
   "execution_count": null,
   "metadata": {},
   "outputs": [],
   "source": []
  },
  {
   "cell_type": "code",
   "execution_count": null,
   "metadata": {},
   "outputs": [],
   "source": []
  },
  {
   "cell_type": "code",
   "execution_count": 45,
   "metadata": {},
   "outputs": [
    {
     "ename": "ValueError",
     "evalue": "Shape of passed values is (4, 4), indices imply (4, 392)",
     "output_type": "error",
     "traceback": [
      "\u001b[1;31m---------------------------------------------------------------------------\u001b[0m",
      "\u001b[1;31mValueError\u001b[0m                                Traceback (most recent call last)",
      "\u001b[1;32m~\\Anaconda3\\lib\\site-packages\\pandas\\core\\internals\\managers.py\u001b[0m in \u001b[0;36mcreate_block_manager_from_blocks\u001b[1;34m(blocks, axes)\u001b[0m\n\u001b[0;32m   1677\u001b[0m                 blocks = [\n\u001b[1;32m-> 1678\u001b[1;33m                     \u001b[0mmake_block\u001b[0m\u001b[1;33m(\u001b[0m\u001b[0mvalues\u001b[0m\u001b[1;33m=\u001b[0m\u001b[0mblocks\u001b[0m\u001b[1;33m[\u001b[0m\u001b[1;36m0\u001b[0m\u001b[1;33m]\u001b[0m\u001b[1;33m,\u001b[0m \u001b[0mplacement\u001b[0m\u001b[1;33m=\u001b[0m\u001b[0mslice\u001b[0m\u001b[1;33m(\u001b[0m\u001b[1;36m0\u001b[0m\u001b[1;33m,\u001b[0m \u001b[0mlen\u001b[0m\u001b[1;33m(\u001b[0m\u001b[0maxes\u001b[0m\u001b[1;33m[\u001b[0m\u001b[1;36m0\u001b[0m\u001b[1;33m]\u001b[0m\u001b[1;33m)\u001b[0m\u001b[1;33m)\u001b[0m\u001b[1;33m)\u001b[0m\u001b[1;33m\u001b[0m\u001b[1;33m\u001b[0m\u001b[0m\n\u001b[0m\u001b[0;32m   1679\u001b[0m                 ]\n",
      "\u001b[1;32m~\\Anaconda3\\lib\\site-packages\\pandas\\core\\internals\\blocks.py\u001b[0m in \u001b[0;36mmake_block\u001b[1;34m(values, placement, klass, ndim, dtype, fastpath)\u001b[0m\n\u001b[0;32m   3266\u001b[0m \u001b[1;33m\u001b[0m\u001b[0m\n\u001b[1;32m-> 3267\u001b[1;33m     \u001b[1;32mreturn\u001b[0m \u001b[0mklass\u001b[0m\u001b[1;33m(\u001b[0m\u001b[0mvalues\u001b[0m\u001b[1;33m,\u001b[0m \u001b[0mndim\u001b[0m\u001b[1;33m=\u001b[0m\u001b[0mndim\u001b[0m\u001b[1;33m,\u001b[0m \u001b[0mplacement\u001b[0m\u001b[1;33m=\u001b[0m\u001b[0mplacement\u001b[0m\u001b[1;33m)\u001b[0m\u001b[1;33m\u001b[0m\u001b[1;33m\u001b[0m\u001b[0m\n\u001b[0m\u001b[0;32m   3268\u001b[0m \u001b[1;33m\u001b[0m\u001b[0m\n",
      "\u001b[1;32m~\\Anaconda3\\lib\\site-packages\\pandas\\core\\internals\\blocks.py\u001b[0m in \u001b[0;36m__init__\u001b[1;34m(self, values, placement, ndim)\u001b[0m\n\u001b[0;32m    127\u001b[0m                 \u001b[1;34m\"Wrong number of items passed {val}, placement implies \"\u001b[0m\u001b[1;33m\u001b[0m\u001b[1;33m\u001b[0m\u001b[0m\n\u001b[1;32m--> 128\u001b[1;33m                 \u001b[1;34m\"{mgr}\"\u001b[0m\u001b[1;33m.\u001b[0m\u001b[0mformat\u001b[0m\u001b[1;33m(\u001b[0m\u001b[0mval\u001b[0m\u001b[1;33m=\u001b[0m\u001b[0mlen\u001b[0m\u001b[1;33m(\u001b[0m\u001b[0mself\u001b[0m\u001b[1;33m.\u001b[0m\u001b[0mvalues\u001b[0m\u001b[1;33m)\u001b[0m\u001b[1;33m,\u001b[0m \u001b[0mmgr\u001b[0m\u001b[1;33m=\u001b[0m\u001b[0mlen\u001b[0m\u001b[1;33m(\u001b[0m\u001b[0mself\u001b[0m\u001b[1;33m.\u001b[0m\u001b[0mmgr_locs\u001b[0m\u001b[1;33m)\u001b[0m\u001b[1;33m)\u001b[0m\u001b[1;33m\u001b[0m\u001b[1;33m\u001b[0m\u001b[0m\n\u001b[0m\u001b[0;32m    129\u001b[0m             )\n",
      "\u001b[1;31mValueError\u001b[0m: Wrong number of items passed 4, placement implies 392",
      "\nDuring handling of the above exception, another exception occurred:\n",
      "\u001b[1;31mValueError\u001b[0m                                Traceback (most recent call last)",
      "\u001b[1;32m<ipython-input-45-081cd01b3272>\u001b[0m in \u001b[0;36m<module>\u001b[1;34m\u001b[0m\n\u001b[0;32m      1\u001b[0m \u001b[1;32mimport\u001b[0m \u001b[0mnumpy\u001b[0m \u001b[1;32mas\u001b[0m \u001b[0mnp\u001b[0m\u001b[1;33m\u001b[0m\u001b[1;33m\u001b[0m\u001b[0m\n\u001b[1;32m----> 2\u001b[1;33m \u001b[0mnp\u001b[0m\u001b[1;33m.\u001b[0m\u001b[0mmatmul\u001b[0m\u001b[1;33m(\u001b[0m\u001b[0mtrans\u001b[0m\u001b[1;33m,\u001b[0m\u001b[0mnp\u001b[0m\u001b[1;33m.\u001b[0m\u001b[0marray\u001b[0m\u001b[1;33m(\u001b[0m\u001b[0mX\u001b[0m\u001b[1;33m)\u001b[0m\u001b[1;33m)\u001b[0m\u001b[1;33m\u001b[0m\u001b[1;33m\u001b[0m\u001b[0m\n\u001b[0m",
      "\u001b[1;32m~\\Anaconda3\\lib\\site-packages\\pandas\\core\\generic.py\u001b[0m in \u001b[0;36m__array_wrap__\u001b[1;34m(self, result, context)\u001b[0m\n\u001b[0;32m   1997\u001b[0m     \u001b[1;32mdef\u001b[0m \u001b[0m__array_wrap__\u001b[0m\u001b[1;33m(\u001b[0m\u001b[0mself\u001b[0m\u001b[1;33m,\u001b[0m \u001b[0mresult\u001b[0m\u001b[1;33m,\u001b[0m \u001b[0mcontext\u001b[0m\u001b[1;33m=\u001b[0m\u001b[1;32mNone\u001b[0m\u001b[1;33m)\u001b[0m\u001b[1;33m:\u001b[0m\u001b[1;33m\u001b[0m\u001b[1;33m\u001b[0m\u001b[0m\n\u001b[0;32m   1998\u001b[0m         \u001b[0md\u001b[0m \u001b[1;33m=\u001b[0m \u001b[0mself\u001b[0m\u001b[1;33m.\u001b[0m\u001b[0m_construct_axes_dict\u001b[0m\u001b[1;33m(\u001b[0m\u001b[0mself\u001b[0m\u001b[1;33m.\u001b[0m\u001b[0m_AXIS_ORDERS\u001b[0m\u001b[1;33m,\u001b[0m \u001b[0mcopy\u001b[0m\u001b[1;33m=\u001b[0m\u001b[1;32mFalse\u001b[0m\u001b[1;33m)\u001b[0m\u001b[1;33m\u001b[0m\u001b[1;33m\u001b[0m\u001b[0m\n\u001b[1;32m-> 1999\u001b[1;33m         \u001b[1;32mreturn\u001b[0m \u001b[0mself\u001b[0m\u001b[1;33m.\u001b[0m\u001b[0m_constructor\u001b[0m\u001b[1;33m(\u001b[0m\u001b[0mresult\u001b[0m\u001b[1;33m,\u001b[0m \u001b[1;33m**\u001b[0m\u001b[0md\u001b[0m\u001b[1;33m)\u001b[0m\u001b[1;33m.\u001b[0m\u001b[0m__finalize__\u001b[0m\u001b[1;33m(\u001b[0m\u001b[0mself\u001b[0m\u001b[1;33m)\u001b[0m\u001b[1;33m\u001b[0m\u001b[1;33m\u001b[0m\u001b[0m\n\u001b[0m\u001b[0;32m   2000\u001b[0m \u001b[1;33m\u001b[0m\u001b[0m\n\u001b[0;32m   2001\u001b[0m     \u001b[1;31m# ideally we would define this to avoid the getattr checks, but\u001b[0m\u001b[1;33m\u001b[0m\u001b[1;33m\u001b[0m\u001b[1;33m\u001b[0m\u001b[0m\n",
      "\u001b[1;32m~\\Anaconda3\\lib\\site-packages\\pandas\\core\\frame.py\u001b[0m in \u001b[0;36m__init__\u001b[1;34m(self, data, index, columns, dtype, copy)\u001b[0m\n\u001b[0;32m    438\u001b[0m                 \u001b[0mmgr\u001b[0m \u001b[1;33m=\u001b[0m \u001b[0minit_dict\u001b[0m\u001b[1;33m(\u001b[0m\u001b[1;33m{\u001b[0m\u001b[0mdata\u001b[0m\u001b[1;33m.\u001b[0m\u001b[0mname\u001b[0m\u001b[1;33m:\u001b[0m \u001b[0mdata\u001b[0m\u001b[1;33m}\u001b[0m\u001b[1;33m,\u001b[0m \u001b[0mindex\u001b[0m\u001b[1;33m,\u001b[0m \u001b[0mcolumns\u001b[0m\u001b[1;33m,\u001b[0m \u001b[0mdtype\u001b[0m\u001b[1;33m=\u001b[0m\u001b[0mdtype\u001b[0m\u001b[1;33m)\u001b[0m\u001b[1;33m\u001b[0m\u001b[1;33m\u001b[0m\u001b[0m\n\u001b[0;32m    439\u001b[0m             \u001b[1;32melse\u001b[0m\u001b[1;33m:\u001b[0m\u001b[1;33m\u001b[0m\u001b[1;33m\u001b[0m\u001b[0m\n\u001b[1;32m--> 440\u001b[1;33m                 \u001b[0mmgr\u001b[0m \u001b[1;33m=\u001b[0m \u001b[0minit_ndarray\u001b[0m\u001b[1;33m(\u001b[0m\u001b[0mdata\u001b[0m\u001b[1;33m,\u001b[0m \u001b[0mindex\u001b[0m\u001b[1;33m,\u001b[0m \u001b[0mcolumns\u001b[0m\u001b[1;33m,\u001b[0m \u001b[0mdtype\u001b[0m\u001b[1;33m=\u001b[0m\u001b[0mdtype\u001b[0m\u001b[1;33m,\u001b[0m \u001b[0mcopy\u001b[0m\u001b[1;33m=\u001b[0m\u001b[0mcopy\u001b[0m\u001b[1;33m)\u001b[0m\u001b[1;33m\u001b[0m\u001b[1;33m\u001b[0m\u001b[0m\n\u001b[0m\u001b[0;32m    441\u001b[0m \u001b[1;33m\u001b[0m\u001b[0m\n\u001b[0;32m    442\u001b[0m         \u001b[1;31m# For data is list-like, or Iterable (will consume into list)\u001b[0m\u001b[1;33m\u001b[0m\u001b[1;33m\u001b[0m\u001b[1;33m\u001b[0m\u001b[0m\n",
      "\u001b[1;32m~\\Anaconda3\\lib\\site-packages\\pandas\\core\\internals\\construction.py\u001b[0m in \u001b[0;36minit_ndarray\u001b[1;34m(values, index, columns, dtype, copy)\u001b[0m\n\u001b[0;32m    211\u001b[0m         \u001b[0mblock_values\u001b[0m \u001b[1;33m=\u001b[0m \u001b[1;33m[\u001b[0m\u001b[0mvalues\u001b[0m\u001b[1;33m]\u001b[0m\u001b[1;33m\u001b[0m\u001b[1;33m\u001b[0m\u001b[0m\n\u001b[0;32m    212\u001b[0m \u001b[1;33m\u001b[0m\u001b[0m\n\u001b[1;32m--> 213\u001b[1;33m     \u001b[1;32mreturn\u001b[0m \u001b[0mcreate_block_manager_from_blocks\u001b[0m\u001b[1;33m(\u001b[0m\u001b[0mblock_values\u001b[0m\u001b[1;33m,\u001b[0m \u001b[1;33m[\u001b[0m\u001b[0mcolumns\u001b[0m\u001b[1;33m,\u001b[0m \u001b[0mindex\u001b[0m\u001b[1;33m]\u001b[0m\u001b[1;33m)\u001b[0m\u001b[1;33m\u001b[0m\u001b[1;33m\u001b[0m\u001b[0m\n\u001b[0m\u001b[0;32m    214\u001b[0m \u001b[1;33m\u001b[0m\u001b[0m\n\u001b[0;32m    215\u001b[0m \u001b[1;33m\u001b[0m\u001b[0m\n",
      "\u001b[1;32m~\\Anaconda3\\lib\\site-packages\\pandas\\core\\internals\\managers.py\u001b[0m in \u001b[0;36mcreate_block_manager_from_blocks\u001b[1;34m(blocks, axes)\u001b[0m\n\u001b[0;32m   1686\u001b[0m         \u001b[0mblocks\u001b[0m \u001b[1;33m=\u001b[0m \u001b[1;33m[\u001b[0m\u001b[0mgetattr\u001b[0m\u001b[1;33m(\u001b[0m\u001b[0mb\u001b[0m\u001b[1;33m,\u001b[0m \u001b[1;34m\"values\"\u001b[0m\u001b[1;33m,\u001b[0m \u001b[0mb\u001b[0m\u001b[1;33m)\u001b[0m \u001b[1;32mfor\u001b[0m \u001b[0mb\u001b[0m \u001b[1;32min\u001b[0m \u001b[0mblocks\u001b[0m\u001b[1;33m]\u001b[0m\u001b[1;33m\u001b[0m\u001b[1;33m\u001b[0m\u001b[0m\n\u001b[0;32m   1687\u001b[0m         \u001b[0mtot_items\u001b[0m \u001b[1;33m=\u001b[0m \u001b[0msum\u001b[0m\u001b[1;33m(\u001b[0m\u001b[0mb\u001b[0m\u001b[1;33m.\u001b[0m\u001b[0mshape\u001b[0m\u001b[1;33m[\u001b[0m\u001b[1;36m0\u001b[0m\u001b[1;33m]\u001b[0m \u001b[1;32mfor\u001b[0m \u001b[0mb\u001b[0m \u001b[1;32min\u001b[0m \u001b[0mblocks\u001b[0m\u001b[1;33m)\u001b[0m\u001b[1;33m\u001b[0m\u001b[1;33m\u001b[0m\u001b[0m\n\u001b[1;32m-> 1688\u001b[1;33m         \u001b[0mconstruction_error\u001b[0m\u001b[1;33m(\u001b[0m\u001b[0mtot_items\u001b[0m\u001b[1;33m,\u001b[0m \u001b[0mblocks\u001b[0m\u001b[1;33m[\u001b[0m\u001b[1;36m0\u001b[0m\u001b[1;33m]\u001b[0m\u001b[1;33m.\u001b[0m\u001b[0mshape\u001b[0m\u001b[1;33m[\u001b[0m\u001b[1;36m1\u001b[0m\u001b[1;33m:\u001b[0m\u001b[1;33m]\u001b[0m\u001b[1;33m,\u001b[0m \u001b[0maxes\u001b[0m\u001b[1;33m,\u001b[0m \u001b[0me\u001b[0m\u001b[1;33m)\u001b[0m\u001b[1;33m\u001b[0m\u001b[1;33m\u001b[0m\u001b[0m\n\u001b[0m\u001b[0;32m   1689\u001b[0m \u001b[1;33m\u001b[0m\u001b[0m\n\u001b[0;32m   1690\u001b[0m \u001b[1;33m\u001b[0m\u001b[0m\n",
      "\u001b[1;32m~\\Anaconda3\\lib\\site-packages\\pandas\\core\\internals\\managers.py\u001b[0m in \u001b[0;36mconstruction_error\u001b[1;34m(tot_items, block_shape, axes, e)\u001b[0m\n\u001b[0;32m   1717\u001b[0m         \u001b[1;32mraise\u001b[0m \u001b[0mValueError\u001b[0m\u001b[1;33m(\u001b[0m\u001b[1;34m\"Empty data passed with indices specified.\"\u001b[0m\u001b[1;33m)\u001b[0m\u001b[1;33m\u001b[0m\u001b[1;33m\u001b[0m\u001b[0m\n\u001b[0;32m   1718\u001b[0m     raise ValueError(\n\u001b[1;32m-> 1719\u001b[1;33m         \u001b[1;34m\"Shape of passed values is {0}, indices imply {1}\"\u001b[0m\u001b[1;33m.\u001b[0m\u001b[0mformat\u001b[0m\u001b[1;33m(\u001b[0m\u001b[0mpassed\u001b[0m\u001b[1;33m,\u001b[0m \u001b[0mimplied\u001b[0m\u001b[1;33m)\u001b[0m\u001b[1;33m\u001b[0m\u001b[1;33m\u001b[0m\u001b[0m\n\u001b[0m\u001b[0;32m   1720\u001b[0m     )\n\u001b[0;32m   1721\u001b[0m \u001b[1;33m\u001b[0m\u001b[0m\n",
      "\u001b[1;31mValueError\u001b[0m: Shape of passed values is (4, 4), indices imply (4, 392)"
     ]
    }
   ],
   "source": [
    "import numpy as np\n",
    "np.matmul(trans,np.array(X))"
   ]
  },
  {
   "cell_type": "code",
   "execution_count": null,
   "metadata": {},
   "outputs": [],
   "source": []
  },
  {
   "cell_type": "code",
   "execution_count": 35,
   "metadata": {},
   "outputs": [
    {
     "data": {
      "text/plain": [
       "array([[1.000e+00, 3.504e+03, 1.200e+01, 1.300e+02],\n",
       "       [1.000e+00, 3.693e+03, 1.150e+01, 1.650e+02],\n",
       "       [1.000e+00, 3.436e+03, 1.100e+01, 1.500e+02],\n",
       "       ...,\n",
       "       [1.000e+00, 2.295e+03, 1.160e+01, 8.400e+01],\n",
       "       [1.000e+00, 2.625e+03, 1.860e+01, 7.900e+01],\n",
       "       [1.000e+00, 2.720e+03, 1.940e+01, 8.200e+01]])"
      ]
     },
     "execution_count": 35,
     "metadata": {},
     "output_type": "execute_result"
    }
   ],
   "source": [
    "import numpy as np\n",
    "np.array(X)"
   ]
  },
  {
   "cell_type": "code",
   "execution_count": 2,
   "metadata": {},
   "outputs": [
    {
     "ename": "NameError",
     "evalue": "name 'pd' is not defined",
     "output_type": "error",
     "traceback": [
      "\u001b[1;31m---------------------------------------------------------------------------\u001b[0m",
      "\u001b[1;31mNameError\u001b[0m                                 Traceback (most recent call last)",
      "\u001b[1;32m<ipython-input-2-472fc9a8f3e9>\u001b[0m in \u001b[0;36m<module>\u001b[1;34m\u001b[0m\n\u001b[1;32m----> 1\u001b[1;33m \u001b[0mmtcars\u001b[0m \u001b[1;33m=\u001b[0m \u001b[0mpd\u001b[0m\u001b[1;33m.\u001b[0m\u001b[0mread_csv\u001b[0m\u001b[1;33m(\u001b[0m\u001b[1;34m'C:/Users/hp/Documents/Praxis_Docs/GOURAB_SIR_PYTHON_ML/ML/mtcars.csv'\u001b[0m\u001b[1;33m)\u001b[0m\u001b[1;33m\u001b[0m\u001b[1;33m\u001b[0m\u001b[0m\n\u001b[0m\u001b[0;32m      2\u001b[0m \u001b[0mmtcars\u001b[0m\u001b[1;33m.\u001b[0m\u001b[0mhead\u001b[0m\u001b[1;33m(\u001b[0m\u001b[1;33m)\u001b[0m\u001b[1;33m\u001b[0m\u001b[1;33m\u001b[0m\u001b[0m\n",
      "\u001b[1;31mNameError\u001b[0m: name 'pd' is not defined"
     ]
    }
   ],
   "source": [
    "mtcars = pd.read_csv('C:/Users/hp/Documents/Praxis_Docs/GOURAB_SIR_PYTHON_ML/ML/mtcars.csv')   \n",
    "mtcars.head()"
   ]
  },
  {
   "cell_type": "code",
   "execution_count": 1,
   "metadata": {},
   "outputs": [
    {
     "ename": "NameError",
     "evalue": "name 'mtcars' is not defined",
     "output_type": "error",
     "traceback": [
      "\u001b[1;31m---------------------------------------------------------------------------\u001b[0m",
      "\u001b[1;31mNameError\u001b[0m                                 Traceback (most recent call last)",
      "\u001b[1;32m<ipython-input-1-d0cda5933032>\u001b[0m in \u001b[0;36m<module>\u001b[1;34m\u001b[0m\n\u001b[1;32m----> 1\u001b[1;33m \u001b[0mX\u001b[0m\u001b[1;33m=\u001b[0m\u001b[0mmtcars\u001b[0m\u001b[1;33m[\u001b[0m\u001b[1;33m[\u001b[0m\u001b[1;34m'wt'\u001b[0m\u001b[1;33m,\u001b[0m\u001b[1;34m'hp'\u001b[0m\u001b[1;33m]\u001b[0m\u001b[1;33m]\u001b[0m\u001b[1;33m\u001b[0m\u001b[1;33m\u001b[0m\u001b[0m\n\u001b[0m\u001b[0;32m      2\u001b[0m \u001b[0mX\u001b[0m\u001b[1;33m=\u001b[0m\u001b[0mstm\u001b[0m\u001b[1;33m.\u001b[0m\u001b[0madd_constant\u001b[0m\u001b[1;33m(\u001b[0m\u001b[0mX\u001b[0m\u001b[1;33m)\u001b[0m\u001b[1;33m\u001b[0m\u001b[1;33m\u001b[0m\u001b[0m\n\u001b[0;32m      3\u001b[0m \u001b[0my\u001b[0m\u001b[1;33m=\u001b[0m\u001b[0mmtcars\u001b[0m\u001b[1;33m[\u001b[0m\u001b[1;34m'mpg'\u001b[0m\u001b[1;33m]\u001b[0m\u001b[1;33m\u001b[0m\u001b[1;33m\u001b[0m\u001b[0m\n\u001b[0;32m      4\u001b[0m \u001b[1;31m#x=X.as_matrix()  #\u001b[0m\u001b[1;33m\u001b[0m\u001b[1;33m\u001b[0m\u001b[1;33m\u001b[0m\u001b[0m\n\u001b[0;32m      5\u001b[0m \u001b[0mx\u001b[0m\u001b[1;33m=\u001b[0m\u001b[0mnp\u001b[0m\u001b[1;33m.\u001b[0m\u001b[0marray\u001b[0m\u001b[1;33m(\u001b[0m\u001b[0mX\u001b[0m\u001b[1;33m)\u001b[0m\u001b[1;33m\u001b[0m\u001b[1;33m\u001b[0m\u001b[0m\n",
      "\u001b[1;31mNameError\u001b[0m: name 'mtcars' is not defined"
     ]
    }
   ],
   "source": [
    "X=mtcars[['wt','hp']]\n",
    "X=stm.add_constant(X)\n",
    "y=mtcars['mpg']\n",
    "#x=X.as_matrix()  #\n",
    "x=np.array(X)\n",
    "#y=y.as_matrix()\n",
    "y=np.array(y)"
   ]
  },
  {
   "cell_type": "code",
   "execution_count": 18,
   "metadata": {},
   "outputs": [
    {
     "name": "stdout",
     "output_type": "stream",
     "text": [
      "(32, 2)\n",
      "(32,)\n"
     ]
    }
   ],
   "source": [
    "print(X.shape)\n",
    "print(y.shape)"
   ]
  },
  {
   "cell_type": "code",
   "execution_count": 19,
   "metadata": {},
   "outputs": [],
   "source": [
    "y=y.reshape(32,1)"
   ]
  },
  {
   "cell_type": "code",
   "execution_count": 20,
   "metadata": {},
   "outputs": [
    {
     "name": "stdout",
     "output_type": "stream",
     "text": [
      "               0\n",
      "const  37.284950\n",
      "wt     -5.344421 delta=               0\n",
      "const  0.000434\n",
      "wt    -0.000125\n"
     ]
    }
   ],
   "source": [
    "import numpy as np\n",
    "beta =np.array([[0],[0]])#initialise beta values to 0\n",
    "\n",
    "eta=0.0025\n",
    "for i in range(1,1000):\n",
    "    delta=np.transpose(X)@(y-X@beta)\n",
    "    #delta=np.matmul(np.transpose(X),(y-np.matmul(X,beta)))\n",
    "    beta=beta-(-2)*eta*delta\n",
    "print(beta,'delta=',delta)"
   ]
  },
  {
   "cell_type": "code",
   "execution_count": 21,
   "metadata": {},
   "outputs": [],
   "source": [
    "model=stm.OLS(y,X).fit()"
   ]
  },
  {
   "cell_type": "code",
   "execution_count": 22,
   "metadata": {},
   "outputs": [
    {
     "data": {
      "text/plain": [
       "const    37.285126\n",
       "wt       -5.344472\n",
       "dtype: float64"
      ]
     },
     "execution_count": 22,
     "metadata": {},
     "output_type": "execute_result"
    }
   ],
   "source": [
    "model.params"
   ]
  },
  {
   "cell_type": "code",
   "execution_count": null,
   "metadata": {},
   "outputs": [],
   "source": []
  }
 ],
 "metadata": {
  "kernelspec": {
   "display_name": "Python 3",
   "language": "python",
   "name": "python3"
  },
  "language_info": {
   "codemirror_mode": {
    "name": "ipython",
    "version": 3
   },
   "file_extension": ".py",
   "mimetype": "text/x-python",
   "name": "python",
   "nbconvert_exporter": "python",
   "pygments_lexer": "ipython3",
   "version": "3.7.4"
  }
 },
 "nbformat": 4,
 "nbformat_minor": 2
}
