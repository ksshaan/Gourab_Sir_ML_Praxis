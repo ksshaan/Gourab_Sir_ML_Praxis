{
 "cells": [
  {
   "cell_type": "markdown",
   "metadata": {},
   "source": [
    "### ML Optimization - Hill Descent and Ascent Algorithm"
   ]
  },
  {
   "cell_type": "code",
   "execution_count": 1,
   "metadata": {},
   "outputs": [],
   "source": [
    "#Libraries\n",
    "import matplotlib.pyplot as plt\n",
    "import numpy as np"
   ]
  },
  {
   "cell_type": "markdown",
   "metadata": {},
   "source": [
    "### Hill Descent Ascent - Simple Demonstration"
   ]
  },
  {
   "cell_type": "code",
   "execution_count": 2,
   "metadata": {},
   "outputs": [],
   "source": [
    "#CREATING THE FUNCTION\n",
    "\n",
    "def f(x):\n",
    "    return(4*x**2-38*x+98)"
   ]
  },
  {
   "cell_type": "code",
   "execution_count": 3,
   "metadata": {},
   "outputs": [],
   "source": [
    "#DERIVATIVE OF THE FUNCTION\n",
    "\n",
    "def df(x):\n",
    "    return(8*x-38)"
   ]
  },
  {
   "cell_type": "code",
   "execution_count": 17,
   "metadata": {},
   "outputs": [
    {
     "data": {
      "image/png": "[encoded data removed]",
      "text/plain": [
       "<Figure size 432x288 with 1 Axes>"
      ]
     },
     "metadata": {
      "needs_background": "light"
     },
     "output_type": "display_data"
    }
   ],
   "source": [
    "#PLOTTING THE FUNCTION\n",
    "p = np.arange(-10,20,0.3)\n",
    "plt.plot(p,f(p), '-')\n",
    "\n",
    "plt.show()"
   ]
  },
  {
   "cell_type": "code",
   "execution_count": null,
   "metadata": {},
   "outputs": [],
   "source": [
    "#SETTING THE INITIAL VALUE OF X\n",
    "x_ini = -10\n",
    "\n",
    "#Marking the initial value on the plot\n",
    "p = np.arange(-10,20,0.25)\n",
    "plt.plot(p,f(p), '-')\n",
    "plt.axvline(x_ini, color='r', linewidth=1)\n",
    "plt.show()"
   ]
  },
  {
   "cell_type": "code",
   "execution_count": null,
   "metadata": {},
   "outputs": [],
   "source": [
    "#HOW DOES THE DERIVATIVE FUNCTION WORK?\n",
    "x = x_ini\n",
    "df(x)\n"
   ]
  },
  {
   "cell_type": "code",
   "execution_count": null,
   "metadata": {},
   "outputs": [],
   "source": [
    "#STEP-BY-STEP DEMO - RUN THE BELOW 2 LINES OF CODES SEVERAL TIMES AT YOUR PACE\n",
    "\n",
    "#Step size\n",
    "alpha = 0.1  \n",
    "\n",
    "#Updating x\n",
    "x = x - alpha*df(x)\n",
    "\n",
    "#Marking x on the graph\n",
    "p = np.arange(-10,20,0.25)\n",
    "plt.plot(p,f(p), '-')\n",
    "plt.axvline(x, color='r', linewidth=1, ls='dashed')\n",
    "plt.show()\n",
    "\n",
    "print('x =',x)"
   ]
  },
  {
   "cell_type": "markdown",
   "metadata": {},
   "source": [
    "### STEP-BY-STEP DEMO - USING FOR LOOP (PLAY WITH THE STEP SIZE HERE)"
   ]
  },
  {
   "cell_type": "code",
   "execution_count": null,
   "metadata": {},
   "outputs": [],
   "source": [
    "import time"
   ]
  },
  {
   "cell_type": "code",
   "execution_count": null,
   "metadata": {},
   "outputs": [],
   "source": [
    "x = -10\n",
    "\n",
    "n = 20\n",
    "alpha = 0.15\n",
    "\n",
    "for i in range(0,n):\n",
    "    x = x - alpha*df(x)\n",
    "    time.sleep(0.5)\n",
    "    print(x)\n"
   ]
  },
  {
   "cell_type": "markdown",
   "metadata": {},
   "source": [
    "### The Hill-Descent Algorithm to find the Minimum"
   ]
  },
  {
   "cell_type": "code",
   "execution_count": null,
   "metadata": {},
   "outputs": [],
   "source": [
    "#Try with the following step-size: 0.01,0.05,0.1,0.2,0.24,0.26 \n",
    "\n",
    "x = -10\n",
    "count = 0\n",
    "alpha = 0.2\n",
    "\n",
    "while np.abs(df(x)) > 1e-15:\n",
    "    count = count + 1\n",
    "    x = x - alpha*df(x)\n",
    "    #time.sleep(0.5)\n",
    "    #print(x)\n",
    "    \n",
    "\n",
    "\n",
    "print(x)\n",
    "print(count) #gives the no. of iterations"
   ]
  },
  {
   "cell_type": "markdown",
   "metadata": {},
   "source": [
    "### EXERCISE - WRITE THE CODE FOR THE HILL CLIMBING ALGO."
   ]
  },
  {
   "cell_type": "code",
   "execution_count": null,
   "metadata": {},
   "outputs": [],
   "source": []
  },
  {
   "cell_type": "code",
   "execution_count": null,
   "metadata": {},
   "outputs": [],
   "source": []
  },
  {
   "cell_type": "code",
   "execution_count": null,
   "metadata": {},
   "outputs": [],
   "source": []
  },
  {
   "cell_type": "code",
   "execution_count": null,
   "metadata": {},
   "outputs": [],
   "source": []
  }
 ],
 "metadata": {
  "kernelspec": {
   "display_name": "Python 3",
   "language": "python",
   "name": "python3"
  },
  "language_info": {
   "codemirror_mode": {
    "name": "ipython",
    "version": 3
   },
   "file_extension": ".py",
   "mimetype": "text/x-python",
   "name": "python",
   "nbconvert_exporter": "python",
   "pygments_lexer": "ipython3",
   "version": "3.7.4"
  }
 },
 "nbformat": 4,
 "nbformat_minor": 2
}
