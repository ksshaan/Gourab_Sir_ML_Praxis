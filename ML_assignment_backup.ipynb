{
 "cells": [
  {
   "cell_type": "code",
   "execution_count": 28,
   "metadata": {},
   "outputs": [],
   "source": [
    "\n",
    "\n",
    "\n",
    "\n",
    "\n",
    "# import the packages we are going to be using\n",
    "import numpy as np # for getting our distribution\n",
    "import matplotlib.pyplot as plt # for plotting\n",
    "import seaborn as sns; sns.set() # For a different plotting theme\n",
    "\n",
    "from scipy import stats\n",
    "import pandas as pd\n",
    "\n",
    "from sklearn.model_selection import ShuffleSplit\n",
    "from scipy.stats import skew\n",
    "\n",
    "\n",
    "\n",
    "\n"
   ]
  },
  {
   "cell_type": "code",
   "execution_count": null,
   "metadata": {},
   "outputs": [],
   "source": [
    "\n"
   ]
  },
  {
   "cell_type": "code",
   "execution_count": 29,
   "metadata": {},
   "outputs": [],
   "source": [
    "house_train_data = pd.read_csv(\"wk3_kc_house_train_data.csv\")\n",
    "house_test_data = pd.read_csv(\"wk3_kc_house_test_data.csv\")\n",
    "house_valid_data = pd.read_csv(\"wk3_kc_house_valid_data.csv\")\n",
    "\n",
    "combined_training_validate = pd.read_csv(\"House_train_validate_combined.csv\")"
   ]
  },
  {
   "cell_type": "code",
   "execution_count": 30,
   "metadata": {},
   "outputs": [
    {
     "name": "stdout",
     "output_type": "stream",
     "text": [
      "<class 'pandas.core.frame.DataFrame'>\n",
      "RangeIndex: 9761 entries, 0 to 9760\n",
      "Data columns (total 21 columns):\n",
      "id               9761 non-null int64\n",
      "date             9761 non-null object\n",
      "price            9761 non-null float64\n",
      "bedrooms         9761 non-null int64\n",
      "bathrooms        9761 non-null float64\n",
      "sqft_living      9761 non-null int64\n",
      "sqft_lot         9761 non-null int64\n",
      "floors           9761 non-null float64\n",
      "waterfront       9761 non-null int64\n",
      "view             9761 non-null int64\n",
      "condition        9761 non-null int64\n",
      "grade            9761 non-null int64\n",
      "sqft_above       9761 non-null int64\n",
      "sqft_basement    9761 non-null int64\n",
      "yr_built         9761 non-null int64\n",
      "yr_renovated     9761 non-null int64\n",
      "zipcode          9761 non-null int64\n",
      "lat              9761 non-null float64\n",
      "long             9761 non-null float64\n",
      "sqft_living15    9761 non-null int64\n",
      "sqft_lot15       9761 non-null int64\n",
      "dtypes: float64(5), int64(15), object(1)\n",
      "memory usage: 1.6+ MB\n"
     ]
    }
   ],
   "source": [
    "house_train_data.info()"
   ]
  },
  {
   "cell_type": "code",
   "execution_count": 31,
   "metadata": {},
   "outputs": [
    {
     "data": {
      "text/plain": [
       "Index(['id', 'date', 'price', 'bedrooms', 'bathrooms', 'sqft_living',\n",
       "       'sqft_lot', 'floors', 'waterfront', 'view', 'condition', 'grade',\n",
       "       'sqft_above', 'sqft_basement', 'yr_built', 'yr_renovated', 'zipcode',\n",
       "       'lat', 'long', 'sqft_living15', 'sqft_lot15'],\n",
       "      dtype='object')"
      ]
     },
     "execution_count": 31,
     "metadata": {},
     "output_type": "execute_result"
    }
   ],
   "source": [
    "house_train_data.columns"
   ]
  },
  {
   "cell_type": "code",
   "execution_count": 32,
   "metadata": {},
   "outputs": [
    {
     "data": {
      "text/plain": [
       "id               0\n",
       "date             0\n",
       "price            0\n",
       "bedrooms         0\n",
       "bathrooms        0\n",
       "sqft_living      0\n",
       "sqft_lot         0\n",
       "floors           0\n",
       "waterfront       0\n",
       "view             0\n",
       "condition        0\n",
       "grade            0\n",
       "sqft_above       0\n",
       "sqft_basement    0\n",
       "yr_built         0\n",
       "yr_renovated     0\n",
       "zipcode          0\n",
       "lat              0\n",
       "long             0\n",
       "sqft_living15    0\n",
       "sqft_lot15       0\n",
       "dtype: int64"
      ]
     },
     "execution_count": 32,
     "metadata": {},
     "output_type": "execute_result"
    }
   ],
   "source": [
    "house_train_data.isnull().sum()"
   ]
  },
  {
   "cell_type": "code",
   "execution_count": 33,
   "metadata": {
    "scrolled": false
   },
   "outputs": [
    {
     "data": {
      "text/html": [
       "<div>\n",
       "<style scoped>\n",
       "    .dataframe tbody tr th:only-of-type {\n",
       "        vertical-align: middle;\n",
       "    }\n",
       "\n",
       "    .dataframe tbody tr th {\n",
       "        vertical-align: top;\n",
       "    }\n",
       "\n",
       "    .dataframe thead th {\n",
       "        text-align: right;\n",
       "    }\n",
       "</style>\n",
       "<table border=\"1\" class=\"dataframe\">\n",
       "  <thead>\n",
       "    <tr style=\"text-align: right;\">\n",
       "      <th></th>\n",
       "      <th>id</th>\n",
       "      <th>price</th>\n",
       "      <th>bedrooms</th>\n",
       "      <th>bathrooms</th>\n",
       "      <th>sqft_living</th>\n",
       "      <th>sqft_lot</th>\n",
       "      <th>floors</th>\n",
       "      <th>waterfront</th>\n",
       "      <th>view</th>\n",
       "      <th>condition</th>\n",
       "      <th>grade</th>\n",
       "      <th>sqft_above</th>\n",
       "      <th>sqft_basement</th>\n",
       "      <th>yr_built</th>\n",
       "      <th>yr_renovated</th>\n",
       "      <th>zipcode</th>\n",
       "      <th>lat</th>\n",
       "      <th>long</th>\n",
       "      <th>sqft_living15</th>\n",
       "      <th>sqft_lot15</th>\n",
       "    </tr>\n",
       "  </thead>\n",
       "  <tbody>\n",
       "    <tr>\n",
       "      <td>count</td>\n",
       "      <td>9.761000e+03</td>\n",
       "      <td>9.761000e+03</td>\n",
       "      <td>9761.000000</td>\n",
       "      <td>9761.000000</td>\n",
       "      <td>9761.000000</td>\n",
       "      <td>9.761000e+03</td>\n",
       "      <td>9761.000000</td>\n",
       "      <td>9761.000000</td>\n",
       "      <td>9761.000000</td>\n",
       "      <td>9761.000000</td>\n",
       "      <td>9761.00000</td>\n",
       "      <td>9761.000000</td>\n",
       "      <td>9761.000000</td>\n",
       "      <td>9761.000000</td>\n",
       "      <td>9761.000000</td>\n",
       "      <td>9761.000000</td>\n",
       "      <td>9761.000000</td>\n",
       "      <td>9761.000000</td>\n",
       "      <td>9761.000000</td>\n",
       "      <td>9761.000000</td>\n",
       "    </tr>\n",
       "    <tr>\n",
       "      <td>mean</td>\n",
       "      <td>4.605288e+09</td>\n",
       "      <td>5.427350e+05</td>\n",
       "      <td>3.375884</td>\n",
       "      <td>2.117175</td>\n",
       "      <td>2086.734146</td>\n",
       "      <td>1.521526e+04</td>\n",
       "      <td>1.486067</td>\n",
       "      <td>0.008401</td>\n",
       "      <td>0.248028</td>\n",
       "      <td>3.415531</td>\n",
       "      <td>7.66151</td>\n",
       "      <td>1793.291159</td>\n",
       "      <td>293.442987</td>\n",
       "      <td>1970.799508</td>\n",
       "      <td>86.066592</td>\n",
       "      <td>98077.790185</td>\n",
       "      <td>47.560052</td>\n",
       "      <td>-122.214322</td>\n",
       "      <td>1992.359697</td>\n",
       "      <td>12824.785165</td>\n",
       "    </tr>\n",
       "    <tr>\n",
       "      <td>std</td>\n",
       "      <td>2.876044e+09</td>\n",
       "      <td>3.795276e+05</td>\n",
       "      <td>0.960697</td>\n",
       "      <td>0.773971</td>\n",
       "      <td>927.194303</td>\n",
       "      <td>4.126673e+04</td>\n",
       "      <td>0.532317</td>\n",
       "      <td>0.091275</td>\n",
       "      <td>0.787877</td>\n",
       "      <td>0.650552</td>\n",
       "      <td>1.18268</td>\n",
       "      <td>835.763817</td>\n",
       "      <td>442.612722</td>\n",
       "      <td>29.240009</td>\n",
       "      <td>405.417369</td>\n",
       "      <td>53.203594</td>\n",
       "      <td>0.140236</td>\n",
       "      <td>0.139895</td>\n",
       "      <td>687.322247</td>\n",
       "      <td>26518.337402</td>\n",
       "    </tr>\n",
       "    <tr>\n",
       "      <td>min</td>\n",
       "      <td>1.200019e+06</td>\n",
       "      <td>8.000000e+04</td>\n",
       "      <td>0.000000</td>\n",
       "      <td>0.000000</td>\n",
       "      <td>290.000000</td>\n",
       "      <td>5.200000e+02</td>\n",
       "      <td>1.000000</td>\n",
       "      <td>0.000000</td>\n",
       "      <td>0.000000</td>\n",
       "      <td>1.000000</td>\n",
       "      <td>1.00000</td>\n",
       "      <td>290.000000</td>\n",
       "      <td>0.000000</td>\n",
       "      <td>1900.000000</td>\n",
       "      <td>0.000000</td>\n",
       "      <td>98001.000000</td>\n",
       "      <td>47.155900</td>\n",
       "      <td>-122.514000</td>\n",
       "      <td>620.000000</td>\n",
       "      <td>660.000000</td>\n",
       "    </tr>\n",
       "    <tr>\n",
       "      <td>25%</td>\n",
       "      <td>2.126049e+09</td>\n",
       "      <td>3.200000e+05</td>\n",
       "      <td>3.000000</td>\n",
       "      <td>1.750000</td>\n",
       "      <td>1420.000000</td>\n",
       "      <td>5.100000e+03</td>\n",
       "      <td>1.000000</td>\n",
       "      <td>0.000000</td>\n",
       "      <td>0.000000</td>\n",
       "      <td>3.000000</td>\n",
       "      <td>7.00000</td>\n",
       "      <td>1190.000000</td>\n",
       "      <td>0.000000</td>\n",
       "      <td>1951.000000</td>\n",
       "      <td>0.000000</td>\n",
       "      <td>98033.000000</td>\n",
       "      <td>47.467800</td>\n",
       "      <td>-122.327000</td>\n",
       "      <td>1490.000000</td>\n",
       "      <td>5160.000000</td>\n",
       "    </tr>\n",
       "    <tr>\n",
       "      <td>50%</td>\n",
       "      <td>3.905041e+09</td>\n",
       "      <td>4.500000e+05</td>\n",
       "      <td>3.000000</td>\n",
       "      <td>2.250000</td>\n",
       "      <td>1910.000000</td>\n",
       "      <td>7.642000e+03</td>\n",
       "      <td>1.500000</td>\n",
       "      <td>0.000000</td>\n",
       "      <td>0.000000</td>\n",
       "      <td>3.000000</td>\n",
       "      <td>7.00000</td>\n",
       "      <td>1570.000000</td>\n",
       "      <td>0.000000</td>\n",
       "      <td>1975.000000</td>\n",
       "      <td>0.000000</td>\n",
       "      <td>98065.000000</td>\n",
       "      <td>47.572200</td>\n",
       "      <td>-122.229000</td>\n",
       "      <td>1840.000000</td>\n",
       "      <td>7660.000000</td>\n",
       "    </tr>\n",
       "    <tr>\n",
       "      <td>75%</td>\n",
       "      <td>7.338403e+09</td>\n",
       "      <td>6.490000e+05</td>\n",
       "      <td>4.000000</td>\n",
       "      <td>2.500000</td>\n",
       "      <td>2570.000000</td>\n",
       "      <td>1.066000e+04</td>\n",
       "      <td>2.000000</td>\n",
       "      <td>0.000000</td>\n",
       "      <td>0.000000</td>\n",
       "      <td>4.000000</td>\n",
       "      <td>8.00000</td>\n",
       "      <td>2230.000000</td>\n",
       "      <td>570.000000</td>\n",
       "      <td>1996.000000</td>\n",
       "      <td>0.000000</td>\n",
       "      <td>98117.000000</td>\n",
       "      <td>47.680400</td>\n",
       "      <td>-122.126000</td>\n",
       "      <td>2370.000000</td>\n",
       "      <td>10113.000000</td>\n",
       "    </tr>\n",
       "    <tr>\n",
       "      <td>max</td>\n",
       "      <td>9.900000e+09</td>\n",
       "      <td>7.700000e+06</td>\n",
       "      <td>33.000000</td>\n",
       "      <td>8.000000</td>\n",
       "      <td>12050.000000</td>\n",
       "      <td>1.651359e+06</td>\n",
       "      <td>3.500000</td>\n",
       "      <td>1.000000</td>\n",
       "      <td>4.000000</td>\n",
       "      <td>5.000000</td>\n",
       "      <td>13.00000</td>\n",
       "      <td>8860.000000</td>\n",
       "      <td>3480.000000</td>\n",
       "      <td>2015.000000</td>\n",
       "      <td>2015.000000</td>\n",
       "      <td>98199.000000</td>\n",
       "      <td>47.777600</td>\n",
       "      <td>-121.319000</td>\n",
       "      <td>5790.000000</td>\n",
       "      <td>560617.000000</td>\n",
       "    </tr>\n",
       "  </tbody>\n",
       "</table>\n",
       "</div>"
      ],
      "text/plain": [
       "                 id         price     bedrooms    bathrooms   sqft_living  \\\n",
       "count  9.761000e+03  9.761000e+03  9761.000000  9761.000000   9761.000000   \n",
       "mean   4.605288e+09  5.427350e+05     3.375884     2.117175   2086.734146   \n",
       "std    2.876044e+09  3.795276e+05     0.960697     0.773971    927.194303   \n",
       "min    1.200019e+06  8.000000e+04     0.000000     0.000000    290.000000   \n",
       "25%    2.126049e+09  3.200000e+05     3.000000     1.750000   1420.000000   \n",
       "50%    3.905041e+09  4.500000e+05     3.000000     2.250000   1910.000000   \n",
       "75%    7.338403e+09  6.490000e+05     4.000000     2.500000   2570.000000   \n",
       "max    9.900000e+09  7.700000e+06    33.000000     8.000000  12050.000000   \n",
       "\n",
       "           sqft_lot       floors   waterfront         view    condition  \\\n",
       "count  9.761000e+03  9761.000000  9761.000000  9761.000000  9761.000000   \n",
       "mean   1.521526e+04     1.486067     0.008401     0.248028     3.415531   \n",
       "std    4.126673e+04     0.532317     0.091275     0.787877     0.650552   \n",
       "min    5.200000e+02     1.000000     0.000000     0.000000     1.000000   \n",
       "25%    5.100000e+03     1.000000     0.000000     0.000000     3.000000   \n",
       "50%    7.642000e+03     1.500000     0.000000     0.000000     3.000000   \n",
       "75%    1.066000e+04     2.000000     0.000000     0.000000     4.000000   \n",
       "max    1.651359e+06     3.500000     1.000000     4.000000     5.000000   \n",
       "\n",
       "            grade   sqft_above  sqft_basement     yr_built  yr_renovated  \\\n",
       "count  9761.00000  9761.000000    9761.000000  9761.000000   9761.000000   \n",
       "mean      7.66151  1793.291159     293.442987  1970.799508     86.066592   \n",
       "std       1.18268   835.763817     442.612722    29.240009    405.417369   \n",
       "min       1.00000   290.000000       0.000000  1900.000000      0.000000   \n",
       "25%       7.00000  1190.000000       0.000000  1951.000000      0.000000   \n",
       "50%       7.00000  1570.000000       0.000000  1975.000000      0.000000   \n",
       "75%       8.00000  2230.000000     570.000000  1996.000000      0.000000   \n",
       "max      13.00000  8860.000000    3480.000000  2015.000000   2015.000000   \n",
       "\n",
       "            zipcode          lat         long  sqft_living15     sqft_lot15  \n",
       "count   9761.000000  9761.000000  9761.000000    9761.000000    9761.000000  \n",
       "mean   98077.790185    47.560052  -122.214322    1992.359697   12824.785165  \n",
       "std       53.203594     0.140236     0.139895     687.322247   26518.337402  \n",
       "min    98001.000000    47.155900  -122.514000     620.000000     660.000000  \n",
       "25%    98033.000000    47.467800  -122.327000    1490.000000    5160.000000  \n",
       "50%    98065.000000    47.572200  -122.229000    1840.000000    7660.000000  \n",
       "75%    98117.000000    47.680400  -122.126000    2370.000000   10113.000000  \n",
       "max    98199.000000    47.777600  -121.319000    5790.000000  560617.000000  "
      ]
     },
     "execution_count": 33,
     "metadata": {},
     "output_type": "execute_result"
    }
   ],
   "source": [
    "house_train_data.describe()"
   ]
  },
  {
   "cell_type": "code",
   "execution_count": 34,
   "metadata": {},
   "outputs": [
    {
     "data": {
      "text/plain": [
       "pandas.core.frame.DataFrame"
      ]
     },
     "execution_count": 34,
     "metadata": {},
     "output_type": "execute_result"
    }
   ],
   "source": [
    "#sns.heatmap(house_train_data, annot=True)\n",
    "type(house_train_data)"
   ]
  },
  {
   "cell_type": "code",
   "execution_count": 43,
   "metadata": {},
   "outputs": [
    {
     "data": {
      "text/plain": [
       "<matplotlib.axes._subplots.AxesSubplot at 0x23f2e4e8808>"
      ]
     },
     "execution_count": 43,
     "metadata": {},
     "output_type": "execute_result"
    },
    {
     "data": {
      "image/png": "[encoded data removed]",
      "text/plain": [
       "<Figure size 864x360 with 1 Axes>"
      ]
     },
     "metadata": {},
     "output_type": "display_data"
    }
   ],
   "source": [
    "house_train_data[\"sqft_living_grp\"] = pd.cut(house_train_data.sqft_living, [0,1000,2000,3000,4000,5000,6000,7000,8000,9000,10000,11000])\n",
    "plt.figure(figsize=(12, 5))  # Make the figure wider than default (12cm wide by 5cm tall)\n",
    "sns.boxplot(x=\"sqft_living_grp\", y=\"price\", data=house_train_data)  # Make boxplot of BPXSY1 stratified by age group"
   ]
  },
  {
   "cell_type": "code",
   "execution_count": 45,
   "metadata": {},
   "outputs": [],
   "source": [
    "house_train_data[\"price_grp\"] = pd.cut(house_train_data.price, [0,100000,200000,300000,400000,500000,600000,700000,800000,1000000,2000000,3000000,4000000,5000000,6000000,7000000,8000000])\n",
    "x=pd.crosstab(house_train_data[\"price_grp\"],house_train_data[\"sqft_living_grp\"])"
   ]
  },
  {
   "cell_type": "code",
   "execution_count": 49,
   "metadata": {},
   "outputs": [
    {
     "data": {
      "text/html": [
       "<div>\n",
       "<style scoped>\n",
       "    .dataframe tbody tr th:only-of-type {\n",
       "        vertical-align: middle;\n",
       "    }\n",
       "\n",
       "    .dataframe tbody tr th {\n",
       "        vertical-align: top;\n",
       "    }\n",
       "\n",
       "    .dataframe thead th {\n",
       "        text-align: right;\n",
       "    }\n",
       "</style>\n",
       "<table border=\"1\" class=\"dataframe\">\n",
       "  <thead>\n",
       "    <tr style=\"text-align: right;\">\n",
       "      <th>sqft_living_grp</th>\n",
       "      <th>(0, 1000]</th>\n",
       "      <th>(1000, 2000]</th>\n",
       "      <th>(2000, 3000]</th>\n",
       "      <th>(3000, 4000]</th>\n",
       "      <th>(4000, 5000]</th>\n",
       "      <th>(5000, 6000]</th>\n",
       "      <th>(6000, 7000]</th>\n",
       "      <th>(7000, 8000]</th>\n",
       "      <th>(8000, 9000]</th>\n",
       "      <th>(9000, 10000]</th>\n",
       "    </tr>\n",
       "    <tr>\n",
       "      <th>price_grp</th>\n",
       "      <th></th>\n",
       "      <th></th>\n",
       "      <th></th>\n",
       "      <th></th>\n",
       "      <th></th>\n",
       "      <th></th>\n",
       "      <th></th>\n",
       "      <th></th>\n",
       "      <th></th>\n",
       "      <th></th>\n",
       "    </tr>\n",
       "  </thead>\n",
       "  <tbody>\n",
       "    <tr>\n",
       "      <td>(0, 100000]</td>\n",
       "      <td>11</td>\n",
       "      <td>1</td>\n",
       "      <td>0</td>\n",
       "      <td>0</td>\n",
       "      <td>0</td>\n",
       "      <td>0</td>\n",
       "      <td>0</td>\n",
       "      <td>0</td>\n",
       "      <td>0</td>\n",
       "      <td>0</td>\n",
       "    </tr>\n",
       "    <tr>\n",
       "      <td>(100000, 200000]</td>\n",
       "      <td>146</td>\n",
       "      <td>213</td>\n",
       "      <td>4</td>\n",
       "      <td>0</td>\n",
       "      <td>0</td>\n",
       "      <td>0</td>\n",
       "      <td>0</td>\n",
       "      <td>0</td>\n",
       "      <td>0</td>\n",
       "      <td>0</td>\n",
       "    </tr>\n",
       "    <tr>\n",
       "      <td>(200000, 300000]</td>\n",
       "      <td>211</td>\n",
       "      <td>1311</td>\n",
       "      <td>193</td>\n",
       "      <td>2</td>\n",
       "      <td>0</td>\n",
       "      <td>0</td>\n",
       "      <td>0</td>\n",
       "      <td>0</td>\n",
       "      <td>0</td>\n",
       "      <td>0</td>\n",
       "    </tr>\n",
       "    <tr>\n",
       "      <td>(300000, 400000]</td>\n",
       "      <td>188</td>\n",
       "      <td>1120</td>\n",
       "      <td>565</td>\n",
       "      <td>48</td>\n",
       "      <td>0</td>\n",
       "      <td>0</td>\n",
       "      <td>0</td>\n",
       "      <td>0</td>\n",
       "      <td>0</td>\n",
       "      <td>0</td>\n",
       "    </tr>\n",
       "    <tr>\n",
       "      <td>(400000, 500000]</td>\n",
       "      <td>98</td>\n",
       "      <td>923</td>\n",
       "      <td>539</td>\n",
       "      <td>82</td>\n",
       "      <td>10</td>\n",
       "      <td>1</td>\n",
       "      <td>0</td>\n",
       "      <td>0</td>\n",
       "      <td>0</td>\n",
       "      <td>0</td>\n",
       "    </tr>\n",
       "    <tr>\n",
       "      <td>(500000, 600000]</td>\n",
       "      <td>24</td>\n",
       "      <td>546</td>\n",
       "      <td>552</td>\n",
       "      <td>114</td>\n",
       "      <td>11</td>\n",
       "      <td>0</td>\n",
       "      <td>0</td>\n",
       "      <td>0</td>\n",
       "      <td>0</td>\n",
       "      <td>0</td>\n",
       "    </tr>\n",
       "    <tr>\n",
       "      <td>(600000, 700000]</td>\n",
       "      <td>8</td>\n",
       "      <td>288</td>\n",
       "      <td>467</td>\n",
       "      <td>121</td>\n",
       "      <td>9</td>\n",
       "      <td>2</td>\n",
       "      <td>0</td>\n",
       "      <td>0</td>\n",
       "      <td>0</td>\n",
       "      <td>0</td>\n",
       "    </tr>\n",
       "    <tr>\n",
       "      <td>(700000, 800000]</td>\n",
       "      <td>3</td>\n",
       "      <td>107</td>\n",
       "      <td>281</td>\n",
       "      <td>177</td>\n",
       "      <td>14</td>\n",
       "      <td>3</td>\n",
       "      <td>0</td>\n",
       "      <td>0</td>\n",
       "      <td>0</td>\n",
       "      <td>0</td>\n",
       "    </tr>\n",
       "    <tr>\n",
       "      <td>(800000, 1000000]</td>\n",
       "      <td>0</td>\n",
       "      <td>71</td>\n",
       "      <td>279</td>\n",
       "      <td>276</td>\n",
       "      <td>51</td>\n",
       "      <td>6</td>\n",
       "      <td>0</td>\n",
       "      <td>0</td>\n",
       "      <td>0</td>\n",
       "      <td>0</td>\n",
       "    </tr>\n",
       "    <tr>\n",
       "      <td>(1000000, 2000000]</td>\n",
       "      <td>0</td>\n",
       "      <td>17</td>\n",
       "      <td>168</td>\n",
       "      <td>233</td>\n",
       "      <td>127</td>\n",
       "      <td>36</td>\n",
       "      <td>9</td>\n",
       "      <td>4</td>\n",
       "      <td>0</td>\n",
       "      <td>0</td>\n",
       "    </tr>\n",
       "    <tr>\n",
       "      <td>(2000000, 3000000]</td>\n",
       "      <td>0</td>\n",
       "      <td>0</td>\n",
       "      <td>1</td>\n",
       "      <td>11</td>\n",
       "      <td>27</td>\n",
       "      <td>18</td>\n",
       "      <td>3</td>\n",
       "      <td>1</td>\n",
       "      <td>0</td>\n",
       "      <td>0</td>\n",
       "    </tr>\n",
       "    <tr>\n",
       "      <td>(3000000, 4000000]</td>\n",
       "      <td>0</td>\n",
       "      <td>0</td>\n",
       "      <td>0</td>\n",
       "      <td>2</td>\n",
       "      <td>7</td>\n",
       "      <td>7</td>\n",
       "      <td>3</td>\n",
       "      <td>4</td>\n",
       "      <td>1</td>\n",
       "      <td>0</td>\n",
       "    </tr>\n",
       "    <tr>\n",
       "      <td>(4000000, 5000000]</td>\n",
       "      <td>0</td>\n",
       "      <td>0</td>\n",
       "      <td>0</td>\n",
       "      <td>0</td>\n",
       "      <td>0</td>\n",
       "      <td>0</td>\n",
       "      <td>2</td>\n",
       "      <td>1</td>\n",
       "      <td>0</td>\n",
       "      <td>0</td>\n",
       "    </tr>\n",
       "    <tr>\n",
       "      <td>(5000000, 6000000]</td>\n",
       "      <td>0</td>\n",
       "      <td>0</td>\n",
       "      <td>0</td>\n",
       "      <td>0</td>\n",
       "      <td>0</td>\n",
       "      <td>0</td>\n",
       "      <td>0</td>\n",
       "      <td>1</td>\n",
       "      <td>0</td>\n",
       "      <td>0</td>\n",
       "    </tr>\n",
       "    <tr>\n",
       "      <td>(6000000, 7000000]</td>\n",
       "      <td>0</td>\n",
       "      <td>0</td>\n",
       "      <td>0</td>\n",
       "      <td>0</td>\n",
       "      <td>0</td>\n",
       "      <td>0</td>\n",
       "      <td>0</td>\n",
       "      <td>0</td>\n",
       "      <td>0</td>\n",
       "      <td>1</td>\n",
       "    </tr>\n",
       "  </tbody>\n",
       "</table>\n",
       "</div>"
      ],
      "text/plain": [
       "sqft_living_grp     (0, 1000]  (1000, 2000]  (2000, 3000]  (3000, 4000]  \\\n",
       "price_grp                                                                 \n",
       "(0, 100000]                11             1             0             0   \n",
       "(100000, 200000]          146           213             4             0   \n",
       "(200000, 300000]          211          1311           193             2   \n",
       "(300000, 400000]          188          1120           565            48   \n",
       "(400000, 500000]           98           923           539            82   \n",
       "(500000, 600000]           24           546           552           114   \n",
       "(600000, 700000]            8           288           467           121   \n",
       "(700000, 800000]            3           107           281           177   \n",
       "(800000, 1000000]           0            71           279           276   \n",
       "(1000000, 2000000]          0            17           168           233   \n",
       "(2000000, 3000000]          0             0             1            11   \n",
       "(3000000, 4000000]          0             0             0             2   \n",
       "(4000000, 5000000]          0             0             0             0   \n",
       "(5000000, 6000000]          0             0             0             0   \n",
       "(6000000, 7000000]          0             0             0             0   \n",
       "\n",
       "sqft_living_grp     (4000, 5000]  (5000, 6000]  (6000, 7000]  (7000, 8000]  \\\n",
       "price_grp                                                                    \n",
       "(0, 100000]                    0             0             0             0   \n",
       "(100000, 200000]               0             0             0             0   \n",
       "(200000, 300000]               0             0             0             0   \n",
       "(300000, 400000]               0             0             0             0   \n",
       "(400000, 500000]              10             1             0             0   \n",
       "(500000, 600000]              11             0             0             0   \n",
       "(600000, 700000]               9             2             0             0   \n",
       "(700000, 800000]              14             3             0             0   \n",
       "(800000, 1000000]             51             6             0             0   \n",
       "(1000000, 2000000]           127            36             9             4   \n",
       "(2000000, 3000000]            27            18             3             1   \n",
       "(3000000, 4000000]             7             7             3             4   \n",
       "(4000000, 5000000]             0             0             2             1   \n",
       "(5000000, 6000000]             0             0             0             1   \n",
       "(6000000, 7000000]             0             0             0             0   \n",
       "\n",
       "sqft_living_grp     (8000, 9000]  (9000, 10000]  \n",
       "price_grp                                        \n",
       "(0, 100000]                    0              0  \n",
       "(100000, 200000]               0              0  \n",
       "(200000, 300000]               0              0  \n",
       "(300000, 400000]               0              0  \n",
       "(400000, 500000]               0              0  \n",
       "(500000, 600000]               0              0  \n",
       "(600000, 700000]               0              0  \n",
       "(700000, 800000]               0              0  \n",
       "(800000, 1000000]              0              0  \n",
       "(1000000, 2000000]             0              0  \n",
       "(2000000, 3000000]             0              0  \n",
       "(3000000, 4000000]             1              0  \n",
       "(4000000, 5000000]             0              0  \n",
       "(5000000, 6000000]             0              0  \n",
       "(6000000, 7000000]             0              1  "
      ]
     },
     "execution_count": 49,
     "metadata": {},
     "output_type": "execute_result"
    }
   ],
   "source": [
    "x\n",
    "#x.apply(lambda z: z/z.sum(), axis=1) # normalize in rows or columns axis 1/0"
   ]
  },
  {
   "cell_type": "code",
   "execution_count": null,
   "metadata": {},
   "outputs": [],
   "source": [
    "X=house_train_data['sqft_living']\n",
    "Y=house_train_data['price']\n",
    "sns.distplot(X, bins=10)\n"
   ]
  },
  {
   "cell_type": "code",
   "execution_count": null,
   "metadata": {},
   "outputs": [],
   "source": [
    "\n",
    "sns.lmplot(x='sqft_living', y='price', data=house_train_data)\n"
   ]
  },
  {
   "cell_type": "code",
   "execution_count": null,
   "metadata": {},
   "outputs": [],
   "source": [
    "plt.rcParams['figure.figsize'] = (25.0, 25.0)\n",
    "\n",
    "#fig, ax = plt.subplots(figsize=(25,25))\n",
    "sns.heatmap(house_train_data.corr(),annot=True,linewidths=3, vmin=-1, vmax=1, center= 0,cmap= 'coolwarm',cbar_kws= {'orientation': 'horizontal'},square=True)#cbar=False,linecolor='black',"
   ]
  },
  {
   "cell_type": "code",
   "execution_count": null,
   "metadata": {},
   "outputs": [],
   "source": [
    "correlation_matrix = house_train_data.corr()\n",
    "correlation_matrix"
   ]
  },
  {
   "cell_type": "code",
   "execution_count": null,
   "metadata": {},
   "outputs": [],
   "source": [
    "matrix = np.triu(house_train_data.corr())\n",
    "sns.heatmap(house_train_data.corr(), annot=True, mask=matrix)"
   ]
  },
  {
   "cell_type": "code",
   "execution_count": null,
   "metadata": {},
   "outputs": [],
   "source": [
    "\n",
    "mask = np.tril(house_train_data.corr())\n",
    "sns.heatmap(house_train_data.corr(), annot=True, mask=mask)"
   ]
  },
  {
   "cell_type": "code",
   "execution_count": null,
   "metadata": {},
   "outputs": [],
   "source": [
    "price = house_train_data['price']\n",
    "\n",
    "# Minimum price of the data\n",
    "minimum_price = np.amin(price)\n",
    "\n",
    "# Maximum price of the data\n",
    "maximum_price = np.amax(price)\n",
    "\n",
    "# Mean price of the data\n",
    "mean_price = np.mean(price)\n",
    "\n",
    "# Median price of the data\n",
    "median_price = np.median(price)\n",
    "\n",
    "# Standard deviation of prices of the data\n",
    "std_price = np.std(price)\n",
    "\n",
    "# Show the calculated statistics\n",
    "print(\"Statistics for Training housing dataset:\\n\")\n",
    "print(\"Minimum price: ${}\".format(minimum_price)) \n",
    "print(\"Maximum price: ${}\".format(maximum_price))\n",
    "print(\"Mean price: ${}\".format(mean_price))\n",
    "print(\"Median price ${}\".format(median_price))\n",
    "print(\"Standard deviation of prices: ${}\".format(std_price))\n"
   ]
  },
  {
   "cell_type": "code",
   "execution_count": null,
   "metadata": {},
   "outputs": [],
   "source": [
    "house_train_data.columns"
   ]
  },
  {
   "cell_type": "markdown",
   "metadata": {},
   "source": [
    "## Feature Observation\n",
    "\n",
    "\n",
    "As a reminder, we are using 5 features from the housing dataset based on the correlation ratios being high with target 'price' from the heatmap: \n",
    "['bathrooms', 'sqft_living','grade','sqft_above', 'sqft_living15']\n"
   ]
  },
  {
   "cell_type": "code",
   "execution_count": null,
   "metadata": {},
   "outputs": [],
   "source": [
    "price = house_train_data['price']\n",
    "features = house_train_data[['bathrooms', 'sqft_living','grade','sqft_above', 'sqft_living15']]"
   ]
  },
  {
   "cell_type": "markdown",
   "metadata": {},
   "source": [
    "# Simple regression model that predicts price from square feet"
   ]
  },
  {
   "cell_type": "code",
   "execution_count": null,
   "metadata": {},
   "outputs": [],
   "source": [
    "from sklearn.linear_model import LinearRegression\n",
    "\n",
    "from sklearn.model_selection import train_test_split\n",
    "from sklearn.metrics import mean_squared_error\n",
    "# create X and y\n",
    "#feature_cols =[ 'sqft_living']\n",
    "feature_cols=['bathrooms', 'sqft_living','grade','sqft_above', 'sqft_living15']\n",
    "X = house_train_data[feature_cols]\n",
    "y = house_train_data.price\n",
    "\n",
    "\n",
    "# instantiate and fit\n",
    "X_train = house_train_data[feature_cols]\n",
    "X_test  = house_test_data[feature_cols]\n",
    "y_train = house_train_data.price\n",
    "y_test  = house_test_data.price\n",
    "\n",
    "#X_train, X_test, y_train, y_test = split_data(19321,X,y)\n",
    "\n",
    "lm0 = LinearRegression()\n",
    "lm0.fit(X_train, y_train)\n",
    "lm0_preds = lm0.predict(X_test)\n",
    "\n",
    "print(\"RMSE :\", np.sqrt(mean_squared_error(y_test, lm0_preds)))\n",
    "print(\"R^2: \", r2_score(y_test, lm0_preds))"
   ]
  },
  {
   "cell_type": "code",
   "execution_count": null,
   "metadata": {},
   "outputs": [],
   "source": []
  },
  {
   "cell_type": "code",
   "execution_count": null,
   "metadata": {},
   "outputs": [],
   "source": [
    "print(X_train.shape, y_train.shape)"
   ]
  },
  {
   "cell_type": "code",
   "execution_count": null,
   "metadata": {},
   "outputs": [],
   "source": [
    "from yellowbrick.regressor import PredictionError, ResidualsPlot\n",
    "visualizer = PredictionError(lm0)\n",
    "#visualizer = PredictionError(model[139])\n",
    "\n",
    "visualizer.fit(X_train, y_train)  # Fit the training data to the visualizer\n",
    "visualizer.score(X_test, y_test)  # Evaluate the model on the test data\n",
    "visualizer.poof()"
   ]
  },
  {
   "cell_type": "code",
   "execution_count": null,
   "metadata": {},
   "outputs": [],
   "source": [
    "visualizer = ResidualsPlot(lm0)\n",
    "visualizer.fit(X_train, y_train)  \n",
    "visualizer.score(X_test, y_test) \n",
    "visualizer.poof()"
   ]
  },
  {
   "cell_type": "code",
   "execution_count": null,
   "metadata": {},
   "outputs": [],
   "source": []
  },
  {
   "cell_type": "markdown",
   "metadata": {},
   "source": []
  },
  {
   "cell_type": "code",
   "execution_count": null,
   "metadata": {},
   "outputs": [],
   "source": []
  },
  {
   "cell_type": "code",
   "execution_count": null,
   "metadata": {},
   "outputs": [],
   "source": [
    "sns.pairplot(house_train_data, height=2.5)\n",
    "plt.tight_layout()"
   ]
  },
  {
   "cell_type": "markdown",
   "metadata": {},
   "source": [
    "## Relationship between Features and Response"
   ]
  },
  {
   "cell_type": "code",
   "execution_count": null,
   "metadata": {},
   "outputs": [],
   "source": [
    "sns.pairplot(house_train_data, x_vars=['bathrooms', 'sqft_living','grade','sqft_above', 'sqft_living15'], y_vars='price', height=7, aspect=0.7)"
   ]
  },
  {
   "cell_type": "markdown",
   "metadata": {},
   "source": [
    "# Multiple Linear Regression - Estimating Coefficients"
   ]
  },
  {
   "cell_type": "code",
   "execution_count": null,
   "metadata": {},
   "outputs": [],
   "source": [
    "from sklearn.linear_model import LinearRegression\n",
    "\n",
    "# create X and y\n",
    "feature_cols =['bathrooms', 'sqft_living','grade','sqft_above', 'sqft_living15']\n",
    "X = house_train_data[feature_cols]\n",
    "y = house_train_data.price\n",
    "\n",
    "# instantiate and fit\n",
    "lm1 = LinearRegression()\n",
    "lm1.fit(X, y)\n",
    "\n",
    "# print the coefficients\n",
    "print(lm1.intercept_)\n",
    "print(lm1.coef_)\n",
    "\n",
    "lm1_preds = lm1.predict(X[['bathrooms', 'sqft_living','grade','sqft_above', 'sqft_living15']])\n",
    "print(\"R^2: \", r2_score(y, lm1_preds))"
   ]
  },
  {
   "cell_type": "code",
   "execution_count": null,
   "metadata": {},
   "outputs": [],
   "source": [
    "# pair the feature names with the coefficients\n",
    "list(zip(feature_cols, lm1.coef_))"
   ]
  },
  {
   "cell_type": "markdown",
   "metadata": {},
   "source": [
    "# Feature Selection"
   ]
  },
  {
   "cell_type": "code",
   "execution_count": 22,
   "metadata": {},
   "outputs": [
    {
     "name": "stdout",
     "output_type": "stream",
     "text": [
      "R^2:  0.5357314369915656\n"
     ]
    }
   ],
   "source": [
    "from sklearn.metrics import r2_score\n",
    "\n",
    "lm2 = LinearRegression().fit(X[['sqft_living', 'grade','sqft_living15']], y)\n",
    "lm2_preds = lm2.predict(X[['sqft_living', 'grade','sqft_living15']])\n",
    "\n",
    "print(\"R^2: \", r2_score(y, lm2_preds))"
   ]
  },
  {
   "cell_type": "markdown",
   "metadata": {},
   "source": [
    "# Model Evaluation Using Train/Test Split and Metrics"
   ]
  },
  {
   "cell_type": "code",
   "execution_count": null,
   "metadata": {},
   "outputs": [],
   "source": [
    "from sklearn.model_selection import train_test_split\n",
    "from sklearn.metrics import mean_squared_error\n",
    "# create X and y\n",
    "feature_cols =['bedrooms','bathrooms', 'sqft_living','grade','sqft_above', 'sqft_living15']\n",
    "X = house_train_data[feature_cols]\n",
    "y = house_train_data.price\n",
    "\n",
    "# instantiate and fit\n",
    "X_train = house_train_data[feature_cols]\n",
    "X_test  = house_test_data[feature_cols]\n",
    "y_train = house_train_data.price\n",
    "y_test  = house_test_data.price\n",
    "\n",
    "#X_train, X_test, y_train, y_test = train_test_split(X, y, random_state = 1)\n",
    "\n",
    "lm4 = LinearRegression()\n",
    "lm4.fit(X_train, y_train)\n",
    "lm4_preds = lm4.predict(X_test)\n",
    "\n",
    "print(\"RMSE :\", np.sqrt(mean_squared_error(y_test, lm4_preds)))\n",
    "print(\"R^2: \", r2_score(y_test, lm4_preds))"
   ]
  },
  {
   "cell_type": "code",
   "execution_count": null,
   "metadata": {},
   "outputs": [],
   "source": [
    "print(X_train.shape, X_test.shape, y_train.shape, y_test.shape )"
   ]
  },
  {
   "cell_type": "code",
   "execution_count": null,
   "metadata": {},
   "outputs": [],
   "source": [
    "from yellowbrick.regressor import PredictionError, ResidualsPlot\n",
    "visualizer = PredictionError(lm4)\n",
    "\n",
    "visualizer.fit(X_train, y_train)  # Fit the training data to the visualizer\n",
    "visualizer.score(X_test, y_test)  # Evaluate the model on the test data\n",
    "visualizer.poof() "
   ]
  },
  {
   "cell_type": "code",
   "execution_count": null,
   "metadata": {},
   "outputs": [],
   "source": [
    "visualizer = ResidualsPlot(lm4)\n",
    "visualizer.fit(X_train, y_train)  \n",
    "visualizer.score(X_test, y_test) \n",
    "visualizer.poof()"
   ]
  },
  {
   "cell_type": "code",
   "execution_count": null,
   "metadata": {},
   "outputs": [],
   "source": [
    "from yellowbrick.features import Rank2D\n",
    "X= house_train_data[['bedrooms', 'bathrooms', 'sqft_living',\n",
    "       'sqft_lot', 'floors', 'waterfront', 'view', 'condition', 'grade',\n",
    "       'sqft_above', 'sqft_basement', 'yr_built', 'yr_renovated', 'zipcode',\n",
    "        'sqft_living15', 'sqft_lot15']]\n",
    "visualizer = Rank2D(algorithm=\"pearson\")\n",
    "visualizer.fit_transform(X)\n",
    "visualizer.show()"
   ]
  },
  {
   "cell_type": "markdown",
   "metadata": {},
   "source": [
    "## Adding more Features"
   ]
  },
  {
   "cell_type": "code",
   "execution_count": 23,
   "metadata": {},
   "outputs": [
    {
     "name": "stdout",
     "output_type": "stream",
     "text": [
      "RMSE : 217847.78011702784\n",
      "R^2:  0.6304167625835493\n"
     ]
    }
   ],
   "source": [
    "\n",
    "\n",
    "\n",
    "from sklearn.model_selection import train_test_split\n",
    "from sklearn.metrics import mean_squared_error\n",
    "# create X and y\n",
    "All_feature_cols =['bedrooms', 'bathrooms', 'sqft_living',\n",
    "       'sqft_lot', 'floors', 'waterfront', 'view', 'condition', 'grade',\n",
    "       'sqft_above', 'sqft_basement', 'yr_built', 'yr_renovated', 'zipcode',\n",
    "        'sqft_living15', 'sqft_lot15']\n",
    "X = house_train_data[All_feature_cols]\n",
    "y = house_train_data.price\n",
    "\n",
    "# instantiate and fit\n",
    "X_train = house_train_data[All_feature_cols]\n",
    "X_test  = house_test_data[All_feature_cols]\n",
    "y_train = house_train_data.price\n",
    "y_test  = house_test_data.price\n",
    "\n",
    "#X_train, X_test, y_train, y_test = train_test_split(X, y, random_state = 1)\n",
    "\n",
    "lm6 = LinearRegression()\n",
    "lm6.fit(X_train, y_train)\n",
    "lm6_preds = lm6.predict(X_test)\n",
    "\n",
    "print(\"RMSE :\", np.sqrt(mean_squared_error(y_test, lm6_preds)))\n",
    "print(\"R^2: \", r2_score(y_test, lm6_preds))"
   ]
  },
  {
   "cell_type": "code",
   "execution_count": null,
   "metadata": {},
   "outputs": [],
   "source": [
    "from yellowbrick.regressor import PredictionError, ResidualsPlot\n",
    "visualizer = PredictionError(lm6)\n",
    "\n",
    "visualizer.fit(X_train, y_train)  # Fit the training data to the visualizer\n",
    "visualizer.score(X_test, y_test)  # Evaluate the model on the test data\n",
    "visualizer.poof() "
   ]
  },
  {
   "cell_type": "code",
   "execution_count": null,
   "metadata": {},
   "outputs": [],
   "source": [
    "visualizer = ResidualsPlot(lm6)\n",
    "visualizer.fit(X_train, y_train)  \n",
    "visualizer.score(X_test, y_test) \n",
    "visualizer.poof()"
   ]
  },
  {
   "cell_type": "code",
   "execution_count": null,
   "metadata": {},
   "outputs": [],
   "source": [
    "# pair the feature names with the coefficients\n",
    "list(zip(All_feature_cols, lm5.coef_))"
   ]
  },
  {
   "cell_type": "code",
   "execution_count": null,
   "metadata": {},
   "outputs": [],
   "source": [
    "Feature_cols_ext = ['bathrooms',  'sqft_living', 'sqft_lot',  'floors',  'waterfront',\n",
    " 'view', \n",
    " 'condition',\n",
    " 'grade', \n",
    " 'sqft_above',\n",
    " 'sqft_basement',\n",
    " \n",
    " 'yr_renovated', \n",
    " \n",
    " 'sqft_living15']\n",
    "\n",
    "\n",
    "\n",
    "from sklearn.model_selection import train_test_split\n",
    "from sklearn.metrics import mean_squared_error\n",
    "# create X and y\n",
    "All_feature_cols =['bedrooms', 'bathrooms', 'sqft_living',\n",
    "       'sqft_lot', 'floors', 'waterfront', 'view', 'condition', 'grade',\n",
    "       'sqft_above', 'sqft_basement', 'yr_built', 'yr_renovated', 'zipcode',\n",
    "        'sqft_living15', 'sqft_lot15']\n",
    "X = house_train_data[Feature_cols_ext]\n",
    "y = house_train_data.price\n",
    "\n",
    "# instantiate and fit\n",
    "X_train = house_train_data[Feature_cols_ext]\n",
    "X_test  = house_test_data[Feature_cols_ext]\n",
    "y_train = house_train_data.price\n",
    "y_test  = house_test_data.price\n",
    "\n",
    "#X_train, X_test, y_train, y_test = train_test_split(X, y, random_state = 1)\n",
    "\n",
    "lm5 = LinearRegression()\n",
    "lm5.fit(X_train, y_train)\n",
    "lm5_preds = lm5.predict(X_test)\n",
    "\n",
    "print(\"RMSE :\", np.sqrt(mean_squared_error(y_test, lm5_preds)))\n",
    "print(\"R^2: \", r2_score(y_test, lm5_preds))"
   ]
  },
  {
   "cell_type": "code",
   "execution_count": null,
   "metadata": {},
   "outputs": [],
   "source": [
    "from yellowbrick.regressor import PredictionError, ResidualsPlot\n",
    "visualizer = PredictionError(lm5)\n",
    "\n",
    "visualizer.fit(X_train, y_train)  # Fit the training data to the visualizer\n",
    "visualizer.score(X_test, y_test)  # Evaluate the model on the test data\n",
    "visualizer.poof() "
   ]
  },
  {
   "cell_type": "code",
   "execution_count": null,
   "metadata": {},
   "outputs": [],
   "source": [
    "x = house_Train_data.crosstab(house_train_data.DMDEDUC2x, da.DMDMARTLx)\n",
    "x"
   ]
  },
  {
   "cell_type": "code",
   "execution_count": 27,
   "metadata": {},
   "outputs": [
    {
     "data": {
      "text/plain": [
       "Index(['id', 'date', 'price', 'bedrooms', 'bathrooms', 'sqft_living',\n",
       "       'sqft_lot', 'floors', 'waterfront', 'view', 'condition', 'grade',\n",
       "       'sqft_above', 'sqft_basement', 'yr_built', 'yr_renovated', 'zipcode',\n",
       "       'lat', 'long', 'sqft_living15', 'sqft_lot15'],\n",
       "      dtype='object')"
      ]
     },
     "execution_count": 27,
     "metadata": {},
     "output_type": "execute_result"
    }
   ],
   "source": [
    "house_train_data.columns\n",
    "\n"
   ]
  },
  {
   "cell_type": "code",
   "execution_count": null,
   "metadata": {},
   "outputs": [],
   "source": [
    "poly2_data,model=get_polynom_model(house_train_data,2)\n",
    "inputt = polynomial_dataframe(house_test_data['sqft_living'], 2)\n",
    "predictions = model.predict(inputt)\n",
    "poly2_data['price'] = house_train_data['price']\n",
    "output = house_test_data['price']\n",
    "    #RSS1 = (predictions - output)**2\n",
    "    #print(i,RSS1.sum())\n",
    "    \n",
    "print(i,\"RMSE :\", np.sqrt(mean_squared_error(output, predictions)))\n",
    "print(\"R^2: \", r2_score(output, predictions))"
   ]
  },
  {
   "cell_type": "code",
   "execution_count": null,
   "metadata": {},
   "outputs": [],
   "source": [
    "plt.plot(inputt,output,'.',\n",
    "         inputt, model.predict(inputt),'-')"
   ]
  },
  {
   "cell_type": "code",
   "execution_count": null,
   "metadata": {},
   "outputs": [],
   "source": [
    "def plot_fitted_line(set_data,i):\n",
    "    poly15_data, model15 = get_polynom_model(set_data,i)\n",
    "    return plt.plot(poly15_data['power_1'],poly15_data['price'],'.',\n",
    "           poly15_data['power_1'], model15.predict(poly15_data),'-')"
   ]
  },
  {
   "cell_type": "code",
   "execution_count": null,
   "metadata": {},
   "outputs": [],
   "source": [
    "#plt.plot(inputt,output,'.',\n",
    "#         inputt, model.predict(inputt),'-')\n",
    "plot_fitted_line(house_train_data,1)"
   ]
  },
  {
   "cell_type": "code",
   "execution_count": null,
   "metadata": {},
   "outputs": [],
   "source": [
    "def polynomial_dataframe(feature, degree):\n",
    "    # assume that degree >= 1\n",
    "    # initialize the dataFrame:\n",
    "    #df['c'] = df['b']**2\n",
    "    poly_sframe = pd.DataFrame()\n",
    "    # and set poly_sframe['power_1'] equal to the passed feature\n",
    "    \n",
    "    poly_sframe['power_1'] = feature\n",
    "    #print(poly_sframe)\n",
    "    #first check if degree > 1\n",
    "    if degree > 1:\n",
    "    #    # then loop over the remaining degrees:\n",
    "        for power in range(2, degree+1): \n",
    "            # first we'll give the column a name:\n",
    "            name = 'power_' + str(power)\n",
    "            # then assign poly_sframe[name] to the appropriate power of feature\n",
    "            poly_sframe[name] = feature ** power\n",
    "    return poly_sframe"
   ]
  },
  {
   "cell_type": "code",
   "execution_count": null,
   "metadata": {},
   "outputs": [],
   "source": [
    "print (polynomial_dataframe(house_test_data['sqft_living'], 3))"
   ]
  },
  {
   "cell_type": "markdown",
   "metadata": {},
   "source": [
    "# Polynomial regression\n",
    "## Using sqft_living as the parameter"
   ]
  },
  {
   "cell_type": "code",
   "execution_count": null,
   "metadata": {},
   "outputs": [],
   "source": [
    "def get_polynom_model(set_data,i):\n",
    "    \n",
    "    poly15_data = polynomial_dataframe(set_data['sqft_living'], i)\n",
    "    my_features = poly15_data.columns # get the name of the features\n",
    "    poly15_data['price'] = set_data['price'] # add price to the data since it's the target\n",
    "    lmp = LinearRegression()\n",
    "    lmp.fit(poly15_data[my_features], poly15_data['price'])\n",
    "      \n",
    "\n",
    "    return poly15_data, lmp"
   ]
  },
  {
   "cell_type": "code",
   "execution_count": null,
   "metadata": {},
   "outputs": [],
   "source": [
    "#RSS for upto ploynomial of order 15 for test data :\n",
    "\n",
    "for i in range(1,16):\n",
    "    \n",
    "    \n",
    "    poly15_data,model=get_polynom_model(house_train_data,i)\n",
    "    inputt = polynomial_dataframe(house_test_data['sqft_living'], i)\n",
    "    predictions = model.predict(inputt)\n",
    "    output = house_test_data['price']\n",
    "    #RSS1 = (predictions - output)**2\n",
    "    #print(i,RSS1.sum())\n",
    "    \n",
    "    print(i,\"RMSE :\", np.sqrt(mean_squared_error(output, predictions)))\n",
    "    print(\"R^2: \", r2_score(output, predictions))\n"
   ]
  },
  {
   "cell_type": "code",
   "execution_count": null,
   "metadata": {},
   "outputs": [],
   "source": []
  },
  {
   "cell_type": "code",
   "execution_count": null,
   "metadata": {},
   "outputs": [],
   "source": []
  },
  {
   "cell_type": "code",
   "execution_count": null,
   "metadata": {},
   "outputs": [],
   "source": [
    "#RSS for upto ploynomial of order 15 for validation data :\n",
    "for i in range(1,16):\n",
    "    \n",
    "    \n",
    "    poly15_data,model=get_polynom_model(house_train_data,i)\n",
    "    inputt = polynomial_dataframe(house_valid_data['sqft_living'], i)\n",
    "    predictions = model.predict(inputt)\n",
    "    output = house_valid_data['price']\n",
    "    #RSS1 = (predictions - output)**2\n",
    "    #print(i,RSS1.sum())\n",
    "    print(i,\"RMSE :\", np.sqrt(mean_squared_error(output, predictions)))\n",
    "    print(\"R^2: \", r2_score(output, predictions))"
   ]
  },
  {
   "cell_type": "markdown",
   "metadata": {},
   "source": [
    "#  13th order polynomial has the highest R2\n",
    "13 RMSE : 254330.4752868241\n",
    "R^2:  0.49010277156631055\n"
   ]
  },
  {
   "cell_type": "markdown",
   "metadata": {},
   "source": [
    "# CrossValidation"
   ]
  },
  {
   "cell_type": "code",
   "execution_count": 18,
   "metadata": {},
   "outputs": [],
   "source": [
    "def split_data(n,X, Y ):\n",
    "    size=X.shape[0] #total size of the data\n",
    "   \n",
    "    s =np.sqrt(X1.shape[0])\n",
    "  \n",
    "    fold =int(s) #number of samples in each set\n",
    "    print(n,X.shape[0],Y.shape[0],\"fold=\",fold)\n",
    "    \n",
    "    X1_test = X.loc[n:n+fold-1,['bathrooms', 'sqft_living','grade','sqft_above', 'sqft_living15']]\n",
    "    y1_test = Y.loc[n:n+fold-1,[\"price\"]]\n",
    "    \n",
    "    \n",
    "    X10_train  = X.loc[n+fold:size-1,['bathrooms', 'sqft_living','grade','sqft_above', 'sqft_living15']]\n",
    "    y10_train  = Y.loc[n+fold:size-1,[\"price\"]]\n",
    "    X20_train  = X.loc[0:n-1,['bathrooms', 'sqft_living','grade','sqft_above', 'sqft_living15']]\n",
    "    y20_train  = Y.loc[0:n-1,[\"price\"]]\n",
    "    \n",
    "    X1_train = pd.concat([X20_train,X10_train])\n",
    "    y1_train = pd.concat([y20_train,y10_train])\n",
    "    \n",
    "    \n",
    "    \n",
    "    \n",
    "    print(\"After split\",X1_test.shape[0],y1_test.shape[0],X1_train.shape[0],y1_train.shape[0],\"Split starts at\",n)\n",
    "    \n",
    "    #print(X1_train)\n",
    "        \n",
    "    return X1_train, X1_test, y1_train, y1_test\n",
    "        \n",
    "\n",
    "        \n",
    "    "
   ]
  },
  {
   "cell_type": "code",
   "execution_count": 19,
   "metadata": {},
   "outputs": [],
   "source": [
    "X=house_train_data[['bathrooms', 'sqft_living','grade','sqft_above', 'sqft_living15']]\n",
    "y=house_train_data[['price']]\n",
    "#split_data(10,X,y)"
   ]
  },
  {
   "cell_type": "code",
   "execution_count": 20,
   "metadata": {},
   "outputs": [
    {
     "name": "stdout",
     "output_type": "stream",
     "text": [
      "98 9761 9761\n",
      "0 9761 9761 fold= 98\n",
      "After split 98 98 9663 9663 Split starts at 0\n",
      "RMSE Train : 197909.31022732356\n"
     ]
    },
    {
     "ename": "NameError",
     "evalue": "name 'r2_score' is not defined",
     "output_type": "error",
     "traceback": [
      "\u001b[1;31m---------------------------------------------------------------------------\u001b[0m",
      "\u001b[1;31mNameError\u001b[0m                                 Traceback (most recent call last)",
      "\u001b[1;32m<ipython-input-20-8b131eba2bd1>\u001b[0m in \u001b[0;36m<module>\u001b[1;34m\u001b[0m\n\u001b[0;32m     44\u001b[0m \u001b[1;33m\u001b[0m\u001b[0m\n\u001b[0;32m     45\u001b[0m     \u001b[1;31m#print(\"RMSE :\", np.sqrt(mean_squared_error(y_test, predictions)))\u001b[0m\u001b[1;33m\u001b[0m\u001b[1;33m\u001b[0m\u001b[1;33m\u001b[0m\u001b[0m\n\u001b[1;32m---> 46\u001b[1;33m     \u001b[0mr2_traint\u001b[0m\u001b[1;33m=\u001b[0m\u001b[0mr2_score\u001b[0m\u001b[1;33m(\u001b[0m\u001b[0my1_test\u001b[0m\u001b[1;33m,\u001b[0m \u001b[0mlm_preds\u001b[0m\u001b[1;33m)\u001b[0m\u001b[1;33m\u001b[0m\u001b[1;33m\u001b[0m\u001b[0m\n\u001b[0m\u001b[0;32m     47\u001b[0m     \u001b[0mR2_Train\u001b[0m\u001b[1;33m.\u001b[0m\u001b[0mappend\u001b[0m\u001b[1;33m(\u001b[0m\u001b[0mr2_traint\u001b[0m\u001b[1;33m)\u001b[0m\u001b[1;33m\u001b[0m\u001b[1;33m\u001b[0m\u001b[0m\n\u001b[0;32m     48\u001b[0m     \u001b[0mprint\u001b[0m\u001b[1;33m(\u001b[0m\u001b[1;34m\"R^2 train: \"\u001b[0m\u001b[1;33m,\u001b[0m \u001b[0mr2_score\u001b[0m\u001b[1;33m(\u001b[0m\u001b[0my1_test\u001b[0m\u001b[1;33m,\u001b[0m \u001b[0mlm_preds\u001b[0m\u001b[1;33m)\u001b[0m\u001b[1;33m)\u001b[0m\u001b[1;33m\u001b[0m\u001b[1;33m\u001b[0m\u001b[0m\n",
      "\u001b[1;31mNameError\u001b[0m: name 'r2_score' is not defined"
     ]
    }
   ],
   "source": [
    "#Cross Validation on Training and testing on test data...\n",
    "import numpy as np\n",
    "from sklearn.model_selection import train_test_split\n",
    "from sklearn.metrics import mean_squared_error\n",
    "from sklearn.linear_model import LinearRegression\n",
    "\n",
    "\n",
    "\n",
    "X1=house_train_data[['bathrooms', 'sqft_living','grade','sqft_above', 'sqft_living15']]\n",
    "y1=house_train_data[['price']]\n",
    "\n",
    "X_test=house_test_data[['bathrooms', 'sqft_living','grade','sqft_above', 'sqft_living15']]\n",
    "y_test=house_test_data[['price']]\n",
    "\n",
    "\n",
    "\n",
    "#X_train, X_test, y_train, y_test = train_test_split(X,y,test_size=0.3,random_state=100)\n",
    "\n",
    "s =np.sqrt(X.shape[0])\n",
    "RMSE_train = []\n",
    "RMSE_test  = []\n",
    "\n",
    "R2_Train = []\n",
    "R2_Test  = []\n",
    "\n",
    "n =int(s) #number of samples in each set\n",
    "size=X1.shape[0] #total size of the data\n",
    "print(n,X1.shape[0],y1.shape[0])\n",
    "\n",
    "\n",
    "i=0\n",
    "while i<size:\n",
    "     \n",
    "    X1_train, X1_test, y1_train, y1_test=split_data(i,X1,y1) # get the split data\n",
    "    \n",
    "    lm = LinearRegression()\n",
    "    lm.fit(X1_train, y1_train)\n",
    "    lm_preds = lm.predict(X1_test)\n",
    "    valuet=np.sqrt(mean_squared_error(y1_test, lm_preds))\n",
    "    print(\"RMSE Train :\",valuet) \n",
    "    RMSE_train.append(valuet)\n",
    "    i=i+n #move to next sample\n",
    "    #print(i)\n",
    "    \n",
    "    #print(\"RMSE :\", np.sqrt(mean_squared_error(y_test, predictions)))\n",
    "    r2_traint=r2_score(y1_test, lm_preds)\n",
    "    R2_Train.append(r2_traint)\n",
    "    print(\"R^2 train: \", r2_score(y1_test, lm_preds))\n",
    "    \n",
    "    predictions = lm.predict(X_test)\n",
    "    value2=np.sqrt(mean_squared_error(y_test, predictions))\n",
    "    RMSE_test.append(value2) \n",
    "    print(\"RMSE :\", np.sqrt(mean_squared_error(y_test, predictions)))\n",
    "    print(\"R^2 test: \", r2_score(y_test, predictions))\n",
    "    r2_testt=r2_score(y_test, predictions)\n",
    "    R2_Test.append(r2_testt)\n",
    "    \n",
    "    \n",
    "#print(\"Array RMSE train -->\",RMSE_train)\n",
    "#print(\"Array RMSE test -->\",RMSE_test)\n",
    "\n",
    "avg_RMSE_train=sum(RMSE_train)/len(RMSE_train)\n",
    "avg_RMSE_test=sum(RMSE_test)/len(RMSE_test)\n",
    "print(\"Average RMSE train = \",avg_RMSE_train )\n",
    "print(\"Average RMSE test = \",avg_RMSE_test )\n",
    "\n",
    "#print(\"Array R2 train -->\",R2_train)\n",
    "#print(\"Array R2 test -->\",R2_test)\n",
    "\n",
    "import numpy as np\n",
    "a=np.array(R2_Train)\n",
    "b= np.array(R2_Test)\n",
    "df=pd.DataFrame({'R2_Train':a, 'R2_Test': b})\n",
    "print(df.head(35))\n",
    "print(df.tail(35))\n",
    "\n"
   ]
  },
  {
   "cell_type": "code",
   "execution_count": null,
   "metadata": {},
   "outputs": [],
   "source": [
    "#Cross Validation on Training+Validation and testing on test data...\n",
    "\n",
    "\n",
    "#Cross Validation on Training and testing on test data...\n",
    "import numpy as np\n",
    "from sklearn.model_selection import train_test_split\n",
    "from sklearn.metrics import mean_squared_error\n",
    "from sklearn.linear_model import LinearRegression\n",
    "\n",
    "#concatenating Training & Validation data\n",
    "#X1 = pd.concat([house_train_data,house_valid_data])\n",
    "#y1 = pd.concat([house_train_data,house_valid_data])\n",
    "\n",
    "#X1=X1[['bathrooms', 'sqft_living','grade','sqft_above', 'sqft_living15']]\n",
    "#y1=y1[['price']]\n",
    "\n",
    "X1=combined_training_validate[['bathrooms', 'sqft_living','grade','sqft_above', 'sqft_living15']]\n",
    "y1=combined_training_validate[['price']]\n",
    "\n",
    "X_test=house_test_data[['bathrooms', 'sqft_living','grade','sqft_above', 'sqft_living15']]\n",
    "y_test=house_test_data[['price']]\n",
    "\n",
    "\n",
    "#X_train, X_test, y_train, y_test = train_test_split(X,y,test_size=0.3,random_state=100)\n",
    "\n",
    "s =np.sqrt(X.shape[0])\n",
    "RMSE_trainn = []\n",
    "RMSE_testt  = []\n",
    "\n",
    "R2_trainn = []\n",
    "R2_testt  = []\n",
    "\n",
    "n =int(s) #number of samples in each set\n",
    "size=X1.shape[0] #total size of the data\n",
    "print(n,X1.shape[0],y1.shape[0])\n",
    "model = []\n",
    "\n",
    "i=0\n",
    "while i<size:\n",
    "     \n",
    "    X1_train, X1_test, y1_train, y1_test=split_data(i,X1,y1) # get the split data\n",
    "    \n",
    "    lm = LinearRegression()\n",
    "    lmmodel =lm.fit(X1_train, y1_train)\n",
    "    model.append(lmmodel)\n",
    "    \n",
    "    lm_preds = lm.predict(X1_test)\n",
    "    value=np.sqrt(mean_squared_error(y1_test, lm_preds))\n",
    "    print(\"RMSE Train :\",value) \n",
    "    RMSE_trainn.append(value)\n",
    "    i=i+n #move to next sample\n",
    "    #print(i)\n",
    "    \n",
    "    #print(\"RMSE :\", np.sqrt(mean_squared_error(y_test, predictions)))\n",
    "    r2_train=r2_score(y1_test, lm_preds)\n",
    "    R2_trainn.append(r2_train)\n",
    "    print(\"R^2 train: \", r2_score(y1_test, lm_preds))\n",
    "    \n",
    "    predictions = lm.predict(X_test)\n",
    "    value2=np.sqrt(mean_squared_error(y_test, predictions))\n",
    "    RMSE_testt.append(value2) \n",
    "    print(\"RMSE :\", np.sqrt(mean_squared_error(y_test, predictions)))\n",
    "    print(\"R^2 test: \", r2_score(y_test, predictions))\n",
    "    r2_test=r2_score(y_test, predictions)\n",
    "    R2_testt.append(r2_test)\n",
    "    \n",
    "    \n",
    "#print(\"Array RMSE train -->\",RMSE_train)\n",
    "#print(\"Array RMSE test -->\",RMSE_test)\n",
    "\n",
    "avg_RMSE_train=sum(RMSE_train)/len(RMSE_train)\n",
    "avg_RMSE_test=sum(RMSE_test)/len(RMSE_test)\n",
    "print(\"Average RMSE train = \",avg_RMSE_train )\n",
    "print(\"Average RMSE test = \",avg_RMSE_test )\n",
    "\n",
    "#print(\"Array R2 train -->\",R2_train)\n",
    "#print(\"Array R2 test -->\",R2_test)\n",
    "\n",
    "import numpy as np\n",
    "a=np.array(R2_trainn)\n",
    "b= np.array(R2_testt)\n",
    "df=pd.DataFrame({'R2_Train':a, 'R2_Test': b})\n",
    "print(df.head(45))\n",
    "print(df.tail(45))\n",
    "\n",
    "\n"
   ]
  },
  {
   "cell_type": "code",
   "execution_count": null,
   "metadata": {},
   "outputs": [],
   "source": [
    " #Cross Validation on Training+Validation and testing on test data...\n",
    "\n",
    "\n",
    "#Cross Validation on Training and testing on test data...\n",
    "import numpy as np\n",
    "from sklearn.model_selection import train_test_split\n",
    "from sklearn.metrics import mean_squared_error\n",
    "from sklearn.linear_model import LinearRegression\n",
    "\n",
    "#concatenating Training & Validation data\n",
    "#X1 = pd.concat([house_train_data,house_valid_data])\n",
    "#y1 = pd.concat([house_train_data,house_valid_data])\n",
    "\n",
    "#X1=X1[['bathrooms', 'sqft_living','grade','sqft_above', 'sqft_living15']]\n",
    "#y1=y1[['price']]\n",
    "\n",
    "X1=combined_training_validate[['bathrooms', 'sqft_living','grade','sqft_above', 'sqft_living15']]\n",
    "y1=combined_training_validate[['price']]\n",
    "\n",
    "X_test=house_test_data[['bathrooms', 'sqft_living','grade','sqft_above', 'sqft_living15']]\n",
    "y_test=house_test_data[['price']]\n",
    "\n",
    "\n",
    "#X_train, X_test, y_train, y_test = train_test_split(X,y,test_size=0.3,random_state=100)\n",
    "\n",
    "s =np.sqrt(X.shape[0])\n",
    "RMSE_trainn = []\n",
    "RMSE_testt  = []\n",
    "\n",
    "R2_trainn = []\n",
    "R2_testt  = []\n",
    "\n",
    "n =int(s) #number of samples in each set\n",
    "size=X1.shape[0] #total size of the data\n",
    "print(n,X1.shape[0],y1.shape[0])\n",
    "model = []\n",
    "     \n",
    "X1_train, X1_test, y1_train, y1_test=split_data(19321,X1,y1) # get the split data\n",
    "    \n",
    "lm = LinearRegression()\n",
    "lmmodel =lm.fit(X1_train, y1_train)\n",
    "    \n",
    "lm_preds = lm.predict(X1_test)\n",
    "\n",
    "print(\"R^2 train: \", r2_score(y1_test, lm_preds))\n",
    "\n",
    "predictions = lm.predict(X_test)\n",
    "print(\"RMSE :\", np.sqrt(mean_squared_error(y_test, predictions)))\n",
    "print(\"R^2 test: \", r2_score(y_test, predictions))\n",
    "    \n",
    "\n"
   ]
  },
  {
   "cell_type": "code",
   "execution_count": null,
   "metadata": {},
   "outputs": [],
   "source": [
    "inputt = house_test_data[['bathrooms', 'sqft_living','grade','sqft_above', 'sqft_living15']]\n",
    "\n",
    "output = house_test_data['price']\n",
    "plt.plot(inputt,output,'.',\n",
    "         inputt, lmmodel.predict(inputt),'-')\n"
   ]
  },
  {
   "cell_type": "code",
   "execution_count": null,
   "metadata": {},
   "outputs": [],
   "source": []
  },
  {
   "cell_type": "code",
   "execution_count": null,
   "metadata": {},
   "outputs": [],
   "source": [
    "\n",
    "#concatenating Training & Validation data\n",
    "X1 = pd.concat([house_train_data,house_valid_data])\n",
    "y1 = pd.concat([house_train_data,house_valid_data])\n",
    "\n",
    "#X1=X1[['bathrooms', 'sqft_living','grade','sqft_above', 'sqft_living15']]\n",
    "#y1=y1[['price']]\n"
   ]
  },
  {
   "cell_type": "markdown",
   "metadata": {},
   "source": [
    "## Highest R2 Training:\n",
    "\n",
    "8th split   0.704177  0.540413\n",
    "\n",
    "(After split X1_test has 98 rows & X1_train has 9663 rows. Split starts at 1112)\n",
    "\n",
    "\n",
    "## Highest R2 in Training+Validation\n",
    "139th split  0.701195  0.540268\n",
    "( After split X1_Test has 75 rows & X1_Train has 19321 rows. Split starts at 19321)\n"
   ]
  },
  {
   "cell_type": "code",
   "execution_count": null,
   "metadata": {},
   "outputs": [],
   "source": [
    "#model[3].coefficients\n",
    "# print the coefficients\n",
    "print(model[139].intercept_)\n",
    "print(model[139].coef_)"
   ]
  },
  {
   "cell_type": "code",
   "execution_count": null,
   "metadata": {},
   "outputs": [],
   "source": [
    " print(\"RMSE :\", np.sqrt(mean_squared_error(y_test, predictions)))\n",
    "    print(\"R^2 test: \", r2_score(y_test, predictions))\n",
    "    r2_test=r2_score(y_test, predictions)\n",
    "    R2_testt.append(r2_test)"
   ]
  },
  {
   "cell_type": "code",
   "execution_count": null,
   "metadata": {},
   "outputs": [],
   "source": [
    "X1_train, X1_test, y1_train, y1_test = split_data(19321,X1,y1)"
   ]
  },
  {
   "cell_type": "code",
   "execution_count": null,
   "metadata": {},
   "outputs": [],
   "source": [
    "import numpy as np\n",
    "\n",
    "y_test= np.array(y_test).reshape(2217,)\n"
   ]
  },
  {
   "cell_type": "code",
   "execution_count": null,
   "metadata": {},
   "outputs": [],
   "source": [
    " "
   ]
  },
  {
   "cell_type": "code",
   "execution_count": null,
   "metadata": {},
   "outputs": [],
   "source": []
  },
  {
   "cell_type": "code",
   "execution_count": null,
   "metadata": {},
   "outputs": [],
   "source": []
  },
  {
   "cell_type": "code",
   "execution_count": null,
   "metadata": {},
   "outputs": [],
   "source": [
    "from sklearn.linear_model import LinearRegression\n",
    "\n",
    "from sklearn.model_selection import train_test_split\n",
    "from sklearn.metrics import mean_squared_error\n",
    "# create X and y\n",
    "#feature_cols =[ 'sqft_living']\n",
    "feature_cols=['bathrooms', 'sqft_living','grade','sqft_above', 'sqft_living15']\n",
    "#X = house_train_data[feature_cols]\n",
    "#y = house_train_data.price\n",
    "\n",
    "X=combined_training_validate[['bathrooms', 'sqft_living','grade','sqft_above', 'sqft_living15']]\n",
    "y=combined_training_validate[['price']]\n",
    "\n",
    "#X_test=house_test_data[['bathrooms', 'sqft_living','grade','sqft_above', 'sqft_living15']]\n",
    "#y_test=house_test_data[['price']]\n",
    "\n",
    "\n",
    "# instantiate and fit\n",
    "#X_train = house_train_data[feature_cols]\n",
    "#X_test  = house_test_data[feature_cols]\n",
    "#y_train = house_train_data.price\n",
    "#y_test  = house_test_data.price\n",
    "\n",
    "X_train, X_test, y_train, y_test = split_data(19321,X,y)\n",
    "\n",
    "lm0 = LinearRegression()\n",
    "lm0.fit(X_train, y_train)\n",
    "lm0_preds = lm0.predict(X_test)\n",
    "\n",
    "print(\"RMSE :\", np.sqrt(mean_squared_error(y_test, lm0_preds)))\n",
    "print(\"R^2: \", r2_score(y_test, lm0_preds))\n",
    "y_train= np.array(y_train).reshape(y_train.shape[0],)\n",
    "y_test= np.array(y_test).reshape(y_test.shape[0],)\n",
    "print(X_train.shape, X_test.shape, y_train.shape, y_test.shape)"
   ]
  },
  {
   "cell_type": "code",
   "execution_count": null,
   "metadata": {},
   "outputs": [],
   "source": [
    "inputt = house_test_data[['bathrooms', 'sqft_living','grade','sqft_above', 'sqft_living15']]\n",
    "\n",
    "output = house_test_data['price']\n",
    "plt.plot(inputt,output,'.',\n",
    "         inputt, lm0.predict(inputt),'-')"
   ]
  },
  {
   "cell_type": "code",
   "execution_count": null,
   "metadata": {},
   "outputs": [],
   "source": []
  },
  {
   "cell_type": "code",
   "execution_count": null,
   "metadata": {},
   "outputs": [],
   "source": [
    "\n",
    "X=combined_training_validate[['bathrooms', 'sqft_living','grade','sqft_above', 'sqft_living15']]\n",
    "y=combined_training_validate[['price']]\n",
    "\n",
    "X_train, X_test, y_train, y_test = split_data(19321,X,y)\n",
    "\n",
    "#X_train, X_test, y_train, y_test = train_test_split(X, y, random_state = 1)\n",
    "\n",
    "lm5 = LinearRegression()\n",
    "lm5.fit(X_train, y_train)\n",
    "lm5_preds = lm5.predict(X_test)\n",
    "\n",
    "print(\"RMSE :\", np.sqrt(mean_squared_error(y_test, lm5_preds)))\n",
    "print(\"R^2: \", r2_score(y_test, lm5_preds))"
   ]
  },
  {
   "cell_type": "code",
   "execution_count": null,
   "metadata": {},
   "outputs": [],
   "source": []
  },
  {
   "cell_type": "code",
   "execution_count": null,
   "metadata": {},
   "outputs": [],
   "source": []
  },
  {
   "cell_type": "code",
   "execution_count": null,
   "metadata": {},
   "outputs": [],
   "source": [
    "\n",
    "house_train_data['interaction'] = house_train_data['bedrooms'] * house_train_data['bathrooms']\n",
    "\n",
    "house_test_data['interaction'] = house_test_data['bedrooms'] * house_test_data['bathrooms']"
   ]
  },
  {
   "cell_type": "code",
   "execution_count": null,
   "metadata": {},
   "outputs": [],
   "source": [
    "from sklearn.linear_model import LinearRegression\n",
    "\n",
    "from sklearn.model_selection import train_test_split\n",
    "from sklearn.metrics import mean_squared_error\n",
    "# create X and y\n",
    "#feature_cols =[ 'sqft_living']\n",
    "feature_cols=['sqft_living','interaction']\n",
    "X = house_train_data[feature_cols]\n",
    "y = house_train_data.price\n",
    "\n",
    "\n",
    "# instantiate and fit\n",
    "X_train = house_train_data[feature_cols]\n",
    "X_test  = house_test_data[feature_cols]\n",
    "y_train = house_train_data.price\n",
    "y_test  = house_test_data.price\n",
    "\n",
    "\n",
    "lm0 = LinearRegression()\n",
    "lm0.fit(X_train, y_train)\n",
    "lm0_preds = lm0.predict(X_test)\n",
    "\n",
    "print(\"RMSE :\", np.sqrt(mean_squared_error(y_test, lm0_preds)))\n",
    "print(\"R^2: \", r2_score(y_test, lm0_preds))"
   ]
  },
  {
   "cell_type": "code",
   "execution_count": null,
   "metadata": {},
   "outputs": [],
   "source": [
    "from yellowbrick.regressor import PredictionError, ResidualsPlot\n",
    "visualizer = PredictionError(lm0)\n",
    "\n",
    "visualizer.fit(X_train, y_train)  # Fit the training data to the visualizer\n",
    "visualizer.score(X_test, y_test)  # Evaluate the model on the test data\n",
    "visualizer.poof() "
   ]
  },
  {
   "cell_type": "code",
   "execution_count": 11,
   "metadata": {},
   "outputs": [],
   "source": [
    "#For linear Regression using the statsmodels package\n",
    "import statsmodels.api as stm"
   ]
  },
  {
   "cell_type": "code",
   "execution_count": 12,
   "metadata": {},
   "outputs": [],
   "source": [
    "#Separating out the predictors and the response\n",
    "\n",
    "X = house_train_data[['bathrooms', 'sqft_living','grade','sqft_above', 'sqft_living15']]\n",
    "\n",
    "Y = house_train_data['price']\n"
   ]
  },
  {
   "cell_type": "code",
   "execution_count": 13,
   "metadata": {},
   "outputs": [
    {
     "data": {
      "text/html": [
       "<div>\n",
       "<style scoped>\n",
       "    .dataframe tbody tr th:only-of-type {\n",
       "        vertical-align: middle;\n",
       "    }\n",
       "\n",
       "    .dataframe tbody tr th {\n",
       "        vertical-align: top;\n",
       "    }\n",
       "\n",
       "    .dataframe thead th {\n",
       "        text-align: right;\n",
       "    }\n",
       "</style>\n",
       "<table border=\"1\" class=\"dataframe\">\n",
       "  <thead>\n",
       "    <tr style=\"text-align: right;\">\n",
       "      <th></th>\n",
       "      <th>const</th>\n",
       "      <th>bathrooms</th>\n",
       "      <th>sqft_living</th>\n",
       "      <th>grade</th>\n",
       "      <th>sqft_above</th>\n",
       "      <th>sqft_living15</th>\n",
       "    </tr>\n",
       "  </thead>\n",
       "  <tbody>\n",
       "    <tr>\n",
       "      <td>0</td>\n",
       "      <td>1.0</td>\n",
       "      <td>3.00</td>\n",
       "      <td>1960</td>\n",
       "      <td>7</td>\n",
       "      <td>1050</td>\n",
       "      <td>1360</td>\n",
       "    </tr>\n",
       "    <tr>\n",
       "      <td>1</td>\n",
       "      <td>1.0</td>\n",
       "      <td>4.50</td>\n",
       "      <td>5420</td>\n",
       "      <td>11</td>\n",
       "      <td>3890</td>\n",
       "      <td>4760</td>\n",
       "    </tr>\n",
       "    <tr>\n",
       "      <td>2</td>\n",
       "      <td>1.0</td>\n",
       "      <td>1.00</td>\n",
       "      <td>1160</td>\n",
       "      <td>7</td>\n",
       "      <td>860</td>\n",
       "      <td>1330</td>\n",
       "    </tr>\n",
       "    <tr>\n",
       "      <td>3</td>\n",
       "      <td>1.0</td>\n",
       "      <td>1.00</td>\n",
       "      <td>1430</td>\n",
       "      <td>7</td>\n",
       "      <td>1430</td>\n",
       "      <td>1780</td>\n",
       "    </tr>\n",
       "    <tr>\n",
       "      <td>4</td>\n",
       "      <td>1.0</td>\n",
       "      <td>1.75</td>\n",
       "      <td>1370</td>\n",
       "      <td>7</td>\n",
       "      <td>1370</td>\n",
       "      <td>1370</td>\n",
       "    </tr>\n",
       "  </tbody>\n",
       "</table>\n",
       "</div>"
      ],
      "text/plain": [
       "   const  bathrooms  sqft_living  grade  sqft_above  sqft_living15\n",
       "0    1.0       3.00         1960      7        1050           1360\n",
       "1    1.0       4.50         5420     11        3890           4760\n",
       "2    1.0       1.00         1160      7         860           1330\n",
       "3    1.0       1.00         1430      7        1430           1780\n",
       "4    1.0       1.75         1370      7        1370           1370"
      ]
     },
     "execution_count": 13,
     "metadata": {},
     "output_type": "execute_result"
    }
   ],
   "source": [
    "#Adding a column of constant (=1) in X\n",
    "X = stm.add_constant(X)\n",
    "X.head()"
   ]
  },
  {
   "cell_type": "code",
   "execution_count": null,
   "metadata": {},
   "outputs": [],
   "source": []
  },
  {
   "cell_type": "code",
   "execution_count": 14,
   "metadata": {},
   "outputs": [
    {
     "data": {
      "text/plain": [
       "const           -650702.394702\n",
       "bathrooms        -35379.136789\n",
       "sqft_living         253.422090\n",
       "grade            109602.621566\n",
       "sqft_above          -73.546787\n",
       "sqft_living15        15.903690\n",
       "dtype: float64"
      ]
     },
     "execution_count": 14,
     "metadata": {},
     "output_type": "execute_result"
    }
   ],
   "source": [
    "#Fitting Linear Regression model using the Statsmodels.api package\n",
    "mod = stm.OLS(Y,X).fit()\n",
    "mod.params #coefficient estimate"
   ]
  },
  {
   "cell_type": "code",
   "execution_count": 15,
   "metadata": {},
   "outputs": [
    {
     "name": "stdout",
     "output_type": "stream",
     "text": [
      "                            OLS Regression Results                            \n",
      "==============================================================================\n",
      "Dep. Variable:                  price   R-squared:                       0.544\n",
      "Model:                            OLS   Adj. R-squared:                  0.543\n",
      "Method:                 Least Squares   F-statistic:                     2324.\n",
      "Date:                Thu, 14 May 2020   Prob (F-statistic):               0.00\n",
      "Time:                        21:32:19   Log-Likelihood:            -1.3542e+05\n",
      "No. Observations:                9761   AIC:                         2.708e+05\n",
      "Df Residuals:                    9755   BIC:                         2.709e+05\n",
      "Df Model:                           5                                         \n",
      "Covariance Type:            nonrobust                                         \n",
      "=================================================================================\n",
      "                    coef    std err          t      P>|t|      [0.025      0.975]\n",
      "---------------------------------------------------------------------------------\n",
      "const         -6.507e+05   2.07e+04    -31.379      0.000   -6.91e+05    -6.1e+05\n",
      "bathrooms     -3.538e+04   5275.577     -6.706      0.000   -4.57e+04    -2.5e+04\n",
      "sqft_living     253.4221      7.003     36.185      0.000     239.694     267.150\n",
      "grade          1.096e+05   3777.141     29.017      0.000    1.02e+05    1.17e+05\n",
      "sqft_above      -73.5468      6.823    -10.779      0.000     -86.921     -60.173\n",
      "sqft_living15    15.9037      6.201      2.565      0.010       3.749      28.059\n",
      "==============================================================================\n",
      "Omnibus:                     8121.529   Durbin-Watson:                   1.968\n",
      "Prob(Omnibus):                  0.000   Jarque-Bera (JB):           575681.310\n",
      "Skew:                           3.549   Prob(JB):                         0.00\n",
      "Kurtosis:                      39.947   Cond. No.                     2.95e+04\n",
      "==============================================================================\n",
      "\n",
      "Warnings:\n",
      "[1] Standard Errors assume that the covariance matrix of the errors is correctly specified.\n",
      "[2] The condition number is large, 2.95e+04. This might indicate that there are\n",
      "strong multicollinearity or other numerical problems.\n"
     ]
    }
   ],
   "source": [
    "olsmod = stm.OLS(Y, X)\n",
    "olsres = olsmod.fit()\n",
    "print(olsres.summary())"
   ]
  },
  {
   "cell_type": "markdown",
   "metadata": {},
   "source": [
    "## Running with more features"
   ]
  },
  {
   "cell_type": "code",
   "execution_count": 4,
   "metadata": {},
   "outputs": [],
   "source": [
    "X1= combined_training_validate[['bedrooms', 'bathrooms', 'sqft_living',\n",
    "       'sqft_lot', 'floors', 'waterfront', 'view', 'condition', 'grade',\n",
    "       'sqft_above', 'sqft_basement', 'yr_built', 'yr_renovated', 'zipcode',\n",
    "        'sqft_living15', 'sqft_lot15']]\n",
    "Y1 = combined_training_validate['price']"
   ]
  },
  {
   "cell_type": "code",
   "execution_count": 5,
   "metadata": {},
   "outputs": [
    {
     "name": "stderr",
     "output_type": "stream",
     "text": [
      "C:\\Users\\hp\\Anaconda3\\lib\\site-packages\\numpy\\core\\fromnumeric.py:2389: FutureWarning: Method .ptp is deprecated and will be removed in a future version. Use numpy.ptp instead.\n",
      "  return ptp(axis=axis, out=out, **kwargs)\n"
     ]
    },
    {
     "data": {
      "text/html": [
       "<div>\n",
       "<style scoped>\n",
       "    .dataframe tbody tr th:only-of-type {\n",
       "        vertical-align: middle;\n",
       "    }\n",
       "\n",
       "    .dataframe tbody tr th {\n",
       "        vertical-align: top;\n",
       "    }\n",
       "\n",
       "    .dataframe thead th {\n",
       "        text-align: right;\n",
       "    }\n",
       "</style>\n",
       "<table border=\"1\" class=\"dataframe\">\n",
       "  <thead>\n",
       "    <tr style=\"text-align: right;\">\n",
       "      <th></th>\n",
       "      <th>const</th>\n",
       "      <th>bedrooms</th>\n",
       "      <th>bathrooms</th>\n",
       "      <th>sqft_living</th>\n",
       "      <th>sqft_lot</th>\n",
       "      <th>floors</th>\n",
       "      <th>waterfront</th>\n",
       "      <th>view</th>\n",
       "      <th>condition</th>\n",
       "      <th>grade</th>\n",
       "      <th>sqft_above</th>\n",
       "      <th>sqft_basement</th>\n",
       "      <th>yr_built</th>\n",
       "      <th>yr_renovated</th>\n",
       "      <th>zipcode</th>\n",
       "      <th>sqft_living15</th>\n",
       "      <th>sqft_lot15</th>\n",
       "    </tr>\n",
       "  </thead>\n",
       "  <tbody>\n",
       "    <tr>\n",
       "      <td>0</td>\n",
       "      <td>1.0</td>\n",
       "      <td>4</td>\n",
       "      <td>3.00</td>\n",
       "      <td>1960</td>\n",
       "      <td>5000</td>\n",
       "      <td>1.0</td>\n",
       "      <td>0</td>\n",
       "      <td>0</td>\n",
       "      <td>5</td>\n",
       "      <td>7</td>\n",
       "      <td>1050</td>\n",
       "      <td>910</td>\n",
       "      <td>1965</td>\n",
       "      <td>0</td>\n",
       "      <td>98136</td>\n",
       "      <td>1360</td>\n",
       "      <td>5000</td>\n",
       "    </tr>\n",
       "    <tr>\n",
       "      <td>1</td>\n",
       "      <td>1.0</td>\n",
       "      <td>4</td>\n",
       "      <td>4.50</td>\n",
       "      <td>5420</td>\n",
       "      <td>101930</td>\n",
       "      <td>1.0</td>\n",
       "      <td>0</td>\n",
       "      <td>0</td>\n",
       "      <td>3</td>\n",
       "      <td>11</td>\n",
       "      <td>3890</td>\n",
       "      <td>1530</td>\n",
       "      <td>2001</td>\n",
       "      <td>0</td>\n",
       "      <td>98053</td>\n",
       "      <td>4760</td>\n",
       "      <td>101930</td>\n",
       "    </tr>\n",
       "    <tr>\n",
       "      <td>2</td>\n",
       "      <td>1.0</td>\n",
       "      <td>2</td>\n",
       "      <td>1.00</td>\n",
       "      <td>1160</td>\n",
       "      <td>6000</td>\n",
       "      <td>1.0</td>\n",
       "      <td>0</td>\n",
       "      <td>0</td>\n",
       "      <td>4</td>\n",
       "      <td>7</td>\n",
       "      <td>860</td>\n",
       "      <td>300</td>\n",
       "      <td>1942</td>\n",
       "      <td>0</td>\n",
       "      <td>98115</td>\n",
       "      <td>1330</td>\n",
       "      <td>6000</td>\n",
       "    </tr>\n",
       "    <tr>\n",
       "      <td>3</td>\n",
       "      <td>1.0</td>\n",
       "      <td>3</td>\n",
       "      <td>1.00</td>\n",
       "      <td>1430</td>\n",
       "      <td>19901</td>\n",
       "      <td>1.5</td>\n",
       "      <td>0</td>\n",
       "      <td>0</td>\n",
       "      <td>4</td>\n",
       "      <td>7</td>\n",
       "      <td>1430</td>\n",
       "      <td>0</td>\n",
       "      <td>1927</td>\n",
       "      <td>0</td>\n",
       "      <td>98028</td>\n",
       "      <td>1780</td>\n",
       "      <td>12697</td>\n",
       "    </tr>\n",
       "    <tr>\n",
       "      <td>4</td>\n",
       "      <td>1.0</td>\n",
       "      <td>3</td>\n",
       "      <td>1.75</td>\n",
       "      <td>1370</td>\n",
       "      <td>9680</td>\n",
       "      <td>1.0</td>\n",
       "      <td>0</td>\n",
       "      <td>0</td>\n",
       "      <td>4</td>\n",
       "      <td>7</td>\n",
       "      <td>1370</td>\n",
       "      <td>0</td>\n",
       "      <td>1977</td>\n",
       "      <td>0</td>\n",
       "      <td>98074</td>\n",
       "      <td>1370</td>\n",
       "      <td>10208</td>\n",
       "    </tr>\n",
       "  </tbody>\n",
       "</table>\n",
       "</div>"
      ],
      "text/plain": [
       "   const  bedrooms  bathrooms  sqft_living  sqft_lot  floors  waterfront  \\\n",
       "0    1.0         4       3.00         1960      5000     1.0           0   \n",
       "1    1.0         4       4.50         5420    101930     1.0           0   \n",
       "2    1.0         2       1.00         1160      6000     1.0           0   \n",
       "3    1.0         3       1.00         1430     19901     1.5           0   \n",
       "4    1.0         3       1.75         1370      9680     1.0           0   \n",
       "\n",
       "   view  condition  grade  sqft_above  sqft_basement  yr_built  yr_renovated  \\\n",
       "0     0          5      7        1050            910      1965             0   \n",
       "1     0          3     11        3890           1530      2001             0   \n",
       "2     0          4      7         860            300      1942             0   \n",
       "3     0          4      7        1430              0      1927             0   \n",
       "4     0          4      7        1370              0      1977             0   \n",
       "\n",
       "   zipcode  sqft_living15  sqft_lot15  \n",
       "0    98136           1360        5000  \n",
       "1    98053           4760      101930  \n",
       "2    98115           1330        6000  \n",
       "3    98028           1780       12697  \n",
       "4    98074           1370       10208  "
      ]
     },
     "execution_count": 5,
     "metadata": {},
     "output_type": "execute_result"
    }
   ],
   "source": [
    "#Adding a column of constant (=1) in X\n",
    "X1 = stm.add_constant(X1)\n",
    "X1.head()"
   ]
  },
  {
   "cell_type": "code",
   "execution_count": 6,
   "metadata": {},
   "outputs": [
    {
     "data": {
      "text/plain": [
       "const            7.696679e+06\n",
       "bedrooms        -3.949495e+04\n",
       "bathrooms        4.514945e+04\n",
       "sqft_living      1.096212e+02\n",
       "sqft_lot         1.093079e-03\n",
       "floors           2.714543e+04\n",
       "waterfront       5.891673e+05\n",
       "view             4.363762e+04\n",
       "condition        1.765335e+04\n",
       "grade            1.200896e+05\n",
       "sqft_above       5.048583e+01\n",
       "sqft_basement    5.913554e+01\n",
       "yr_built        -3.598990e+03\n",
       "yr_renovated     1.156866e+01\n",
       "zipcode         -1.466153e+01\n",
       "sqft_living15    2.406560e+01\n",
       "sqft_lot15      -5.251780e-01\n",
       "dtype: float64"
      ]
     },
     "execution_count": 6,
     "metadata": {},
     "output_type": "execute_result"
    }
   ],
   "source": [
    "#Fitting Linear Regression model using the Statsmodels.api package\n",
    "mod2 = stm.OLS(Y1,X1).fit()\n",
    "mod2.params #coefficient estimate"
   ]
  },
  {
   "cell_type": "code",
   "execution_count": 8,
   "metadata": {},
   "outputs": [
    {
     "name": "stdout",
     "output_type": "stream",
     "text": [
      "                            OLS Regression Results                            \n",
      "==============================================================================\n",
      "Dep. Variable:                  price   R-squared:                       0.656\n",
      "Model:                            OLS   Adj. R-squared:                  0.656\n",
      "Method:                 Least Squares   F-statistic:                     2467.\n",
      "Date:                Thu, 14 May 2020   Prob (F-statistic):               0.00\n",
      "Time:                        21:20:00   Log-Likelihood:            -2.6576e+05\n",
      "No. Observations:               19396   AIC:                         5.316e+05\n",
      "Df Residuals:                   19380   BIC:                         5.317e+05\n",
      "Df Model:                          15                                         \n",
      "Covariance Type:            nonrobust                                         \n",
      "=================================================================================\n",
      "                    coef    std err          t      P>|t|      [0.025      0.975]\n",
      "---------------------------------------------------------------------------------\n",
      "const          7.697e+06    3.3e+06      2.334      0.020    1.23e+06    1.42e+07\n",
      "bedrooms      -3.949e+04   2123.727    -18.597      0.000   -4.37e+04   -3.53e+04\n",
      "bathrooms      4.515e+04   3661.641     12.330      0.000     3.8e+04    5.23e+04\n",
      "sqft_living     109.6212      2.555     42.905      0.000     104.613     114.629\n",
      "sqft_lot          0.0011      0.053      0.021      0.983      -0.102       0.104\n",
      "floors         2.715e+04   4051.021      6.701      0.000    1.92e+04    3.51e+04\n",
      "waterfront     5.892e+05   1.95e+04     30.291      0.000    5.51e+05    6.27e+05\n",
      "view           4.364e+04   2413.505     18.081      0.000    3.89e+04    4.84e+04\n",
      "condition      1.765e+04   2671.126      6.609      0.000    1.24e+04    2.29e+04\n",
      "grade          1.201e+05   2366.884     50.737      0.000    1.15e+05    1.25e+05\n",
      "sqft_above       50.4858      2.503     20.169      0.000      45.580      55.392\n",
      "sqft_basement    59.1355      2.946     20.073      0.000      53.361      64.910\n",
      "yr_built      -3598.9896     78.552    -45.817      0.000   -3752.958   -3445.022\n",
      "yr_renovated     11.5687      4.139      2.795      0.005       3.456      19.682\n",
      "zipcode         -14.6615     33.095     -0.443      0.658     -79.530      50.207\n",
      "sqft_living15    24.0656      3.863      6.231      0.000      16.495      31.637\n",
      "sqft_lot15       -0.5252      0.081     -6.477      0.000      -0.684      -0.366\n",
      "==============================================================================\n",
      "Omnibus:                    15086.464   Durbin-Watson:                   1.995\n",
      "Prob(Omnibus):                  0.000   Jarque-Bera (JB):          1223377.543\n",
      "Skew:                           3.140   Prob(JB):                         0.00\n",
      "Kurtosis:                      41.397   Cond. No.                     3.35e+17\n",
      "==============================================================================\n",
      "\n",
      "Warnings:\n",
      "[1] Standard Errors assume that the covariance matrix of the errors is correctly specified.\n",
      "[2] The smallest eigenvalue is 1.76e-21. This might indicate that there are\n",
      "strong multicollinearity problems or that the design matrix is singular.\n"
     ]
    }
   ],
   "source": [
    "olsmod2 = stm.OLS(Y1, X1)\n",
    "olsres2 = olsmod2.fit()\n",
    "print(olsres2.summary())"
   ]
  },
  {
   "cell_type": "code",
   "execution_count": null,
   "metadata": {},
   "outputs": [],
   "source": []
  },
  {
   "cell_type": "code",
   "execution_count": 9,
   "metadata": {},
   "outputs": [],
   "source": []
  },
  {
   "cell_type": "code",
   "execution_count": 10,
   "metadata": {},
   "outputs": [],
   "source": []
  },
  {
   "cell_type": "code",
   "execution_count": null,
   "metadata": {},
   "outputs": [],
   "source": []
  }
 ],
 "metadata": {
  "kernelspec": {
   "display_name": "Python 3",
   "language": "python",
   "name": "python3"
  },
  "language_info": {
   "codemirror_mode": {
    "name": "ipython",
    "version": 3
   },
   "file_extension": ".py",
   "mimetype": "text/x-python",
   "name": "python",
   "nbconvert_exporter": "python",
   "pygments_lexer": "ipython3",
   "version": "3.7.4"
  }
 },
 "nbformat": 4,
 "nbformat_minor": 2
}
