{
 "cells": [
  {
   "cell_type": "markdown",
   "metadata": {},
   "source": [
    "## K - Nearest Neighbour Classification "
   ]
  },
  {
   "cell_type": "code",
   "execution_count": 1,
   "metadata": {},
   "outputs": [],
   "source": [
    "#Required Libraries\n",
    "import numpy as np\n",
    "import pandas as pd\n",
    "import os\n",
    "from sklearn.model_selection import train_test_split\n",
    "\n",
    "#note sklearn.cross_validation is depreciated."
   ]
  },
  {
   "cell_type": "code",
   "execution_count": 2,
   "metadata": {},
   "outputs": [
    {
     "data": {
      "text/html": [
       "<div>\n",
       "<style scoped>\n",
       "    .dataframe tbody tr th:only-of-type {\n",
       "        vertical-align: middle;\n",
       "    }\n",
       "\n",
       "    .dataframe tbody tr th {\n",
       "        vertical-align: top;\n",
       "    }\n",
       "\n",
       "    .dataframe thead th {\n",
       "        text-align: right;\n",
       "    }\n",
       "</style>\n",
       "<table border=\"1\" class=\"dataframe\">\n",
       "  <thead>\n",
       "    <tr style=\"text-align: right;\">\n",
       "      <th></th>\n",
       "      <th>Unnamed: 0</th>\n",
       "      <th>Sepal.Length</th>\n",
       "      <th>Sepal.Width</th>\n",
       "      <th>Petal.Length</th>\n",
       "      <th>Petal.Width</th>\n",
       "      <th>Species</th>\n",
       "    </tr>\n",
       "  </thead>\n",
       "  <tbody>\n",
       "    <tr>\n",
       "      <th>121</th>\n",
       "      <td>122</td>\n",
       "      <td>5.6</td>\n",
       "      <td>2.8</td>\n",
       "      <td>4.9</td>\n",
       "      <td>2.0</td>\n",
       "      <td>virginica</td>\n",
       "    </tr>\n",
       "    <tr>\n",
       "      <th>147</th>\n",
       "      <td>148</td>\n",
       "      <td>6.5</td>\n",
       "      <td>3.0</td>\n",
       "      <td>5.2</td>\n",
       "      <td>2.0</td>\n",
       "      <td>virginica</td>\n",
       "    </tr>\n",
       "    <tr>\n",
       "      <th>47</th>\n",
       "      <td>48</td>\n",
       "      <td>4.6</td>\n",
       "      <td>3.2</td>\n",
       "      <td>1.4</td>\n",
       "      <td>0.2</td>\n",
       "      <td>setosa</td>\n",
       "    </tr>\n",
       "    <tr>\n",
       "      <th>18</th>\n",
       "      <td>19</td>\n",
       "      <td>5.7</td>\n",
       "      <td>3.8</td>\n",
       "      <td>1.7</td>\n",
       "      <td>0.3</td>\n",
       "      <td>setosa</td>\n",
       "    </tr>\n",
       "    <tr>\n",
       "      <th>141</th>\n",
       "      <td>142</td>\n",
       "      <td>6.9</td>\n",
       "      <td>3.1</td>\n",
       "      <td>5.1</td>\n",
       "      <td>2.3</td>\n",
       "      <td>virginica</td>\n",
       "    </tr>\n",
       "    <tr>\n",
       "      <th>54</th>\n",
       "      <td>55</td>\n",
       "      <td>6.5</td>\n",
       "      <td>2.8</td>\n",
       "      <td>4.6</td>\n",
       "      <td>1.5</td>\n",
       "      <td>versicolor</td>\n",
       "    </tr>\n",
       "    <tr>\n",
       "      <th>117</th>\n",
       "      <td>118</td>\n",
       "      <td>7.7</td>\n",
       "      <td>3.8</td>\n",
       "      <td>6.7</td>\n",
       "      <td>2.2</td>\n",
       "      <td>virginica</td>\n",
       "    </tr>\n",
       "    <tr>\n",
       "      <th>42</th>\n",
       "      <td>43</td>\n",
       "      <td>4.4</td>\n",
       "      <td>3.2</td>\n",
       "      <td>1.3</td>\n",
       "      <td>0.2</td>\n",
       "      <td>setosa</td>\n",
       "    </tr>\n",
       "    <tr>\n",
       "      <th>46</th>\n",
       "      <td>47</td>\n",
       "      <td>5.1</td>\n",
       "      <td>3.8</td>\n",
       "      <td>1.6</td>\n",
       "      <td>0.2</td>\n",
       "      <td>setosa</td>\n",
       "    </tr>\n",
       "    <tr>\n",
       "      <th>27</th>\n",
       "      <td>28</td>\n",
       "      <td>5.2</td>\n",
       "      <td>3.5</td>\n",
       "      <td>1.5</td>\n",
       "      <td>0.2</td>\n",
       "      <td>setosa</td>\n",
       "    </tr>\n",
       "  </tbody>\n",
       "</table>\n",
       "</div>"
      ],
      "text/plain": [
       "     Unnamed: 0  Sepal.Length  Sepal.Width  Petal.Length  Petal.Width  \\\n",
       "121         122           5.6          2.8           4.9          2.0   \n",
       "147         148           6.5          3.0           5.2          2.0   \n",
       "47           48           4.6          3.2           1.4          0.2   \n",
       "18           19           5.7          3.8           1.7          0.3   \n",
       "141         142           6.9          3.1           5.1          2.3   \n",
       "54           55           6.5          2.8           4.6          1.5   \n",
       "117         118           7.7          3.8           6.7          2.2   \n",
       "42           43           4.4          3.2           1.3          0.2   \n",
       "46           47           5.1          3.8           1.6          0.2   \n",
       "27           28           5.2          3.5           1.5          0.2   \n",
       "\n",
       "        Species  \n",
       "121   virginica  \n",
       "147   virginica  \n",
       "47       setosa  \n",
       "18       setosa  \n",
       "141   virginica  \n",
       "54   versicolor  \n",
       "117   virginica  \n",
       "42       setosa  \n",
       "46       setosa  \n",
       "27       setosa  "
      ]
     },
     "execution_count": 2,
     "metadata": {},
     "output_type": "execute_result"
    }
   ],
   "source": [
    "#DATA\n",
    "#Setting the working directory\n",
    "os.chdir(\"C:/Users/Gourab/Documents\")\n",
    "#Reading the data\n",
    "iris = pd.read_csv(\"iris.csv\")\n",
    "iris.sample(10)"
   ]
  },
  {
   "cell_type": "code",
   "execution_count": 3,
   "metadata": {},
   "outputs": [],
   "source": [
    "X = iris[['Sepal.Length', 'Sepal.Width', 'Petal.Length', 'Petal.Width']]\n",
    "y = iris['Species']"
   ]
  },
  {
   "cell_type": "code",
   "execution_count": 4,
   "metadata": {},
   "outputs": [],
   "source": [
    "X_train, X_test, y_train, y_test = train_test_split( X, y, test_size = 0.3, stratify=y, random_state = 100)"
   ]
  },
  {
   "cell_type": "markdown",
   "metadata": {},
   "source": [
    "### Understanding 1-NN - Step by Step "
   ]
  },
  {
   "cell_type": "code",
   "execution_count": 5,
   "metadata": {},
   "outputs": [],
   "source": [
    "test = X_test.iloc[0,]"
   ]
  },
  {
   "cell_type": "code",
   "execution_count": 6,
   "metadata": {},
   "outputs": [
    {
     "data": {
      "text/plain": [
       "Sepal.Length    4.9\n",
       "Sepal.Width     3.1\n",
       "Petal.Length    1.5\n",
       "Petal.Width     0.2\n",
       "Name: 34, dtype: float64"
      ]
     },
     "execution_count": 6,
     "metadata": {},
     "output_type": "execute_result"
    }
   ],
   "source": [
    "test"
   ]
  },
  {
   "cell_type": "code",
   "execution_count": null,
   "metadata": {},
   "outputs": [],
   "source": [
    "#Find the nearest neighbour to test"
   ]
  },
  {
   "cell_type": "code",
   "execution_count": null,
   "metadata": {},
   "outputs": [],
   "source": [
    "#Eiclidean distance between the test vector and the obs. 1 of the training data\n",
    "np.sqrt(np.sum((test - X_train.iloc[1,])**2))"
   ]
  },
  {
   "cell_type": "code",
   "execution_count": null,
   "metadata": {},
   "outputs": [],
   "source": [
    "dist = []\n",
    "\n",
    "for i in range(len(X_train)):\n",
    "    \n",
    "    #Calculate the distance of test from the ith observation in X_train\n",
    "    distance = np.sqrt(np.sum((test - X_train.iloc[i,])**2))\n",
    "    \n",
    "    #Append the distance and the index as a tuple in the list 'dist'\n",
    "    dist.append((distance, i))\n",
    "    "
   ]
  },
  {
   "cell_type": "code",
   "execution_count": null,
   "metadata": {},
   "outputs": [],
   "source": [
    "#This is how the 'dist' list will look like\n",
    "dist[:10]"
   ]
  },
  {
   "cell_type": "code",
   "execution_count": null,
   "metadata": {},
   "outputs": [],
   "source": [
    "#Sort the list by distance\n",
    "dist.sort()\n",
    "dist[:10]"
   ]
  },
  {
   "cell_type": "code",
   "execution_count": null,
   "metadata": {},
   "outputs": [],
   "source": [
    "dist[0][1]"
   ]
  },
  {
   "cell_type": "code",
   "execution_count": null,
   "metadata": {},
   "outputs": [],
   "source": [
    "#Note that the nearest observation from test is the 87th obs\n",
    "#Let's get the index\n",
    "\n",
    "neighbour = dist[0][1]\n",
    "neighbour"
   ]
  },
  {
   "cell_type": "code",
   "execution_count": null,
   "metadata": {},
   "outputs": [],
   "source": [
    "#Get the nearest obs\n",
    "X_train.iloc[neighbour,]"
   ]
  },
  {
   "cell_type": "code",
   "execution_count": null,
   "metadata": {},
   "outputs": [],
   "source": [
    "#Our test observation\n",
    "X_test.iloc[0,]"
   ]
  },
  {
   "cell_type": "code",
   "execution_count": null,
   "metadata": {},
   "outputs": [],
   "source": [
    "#Get the predicted value of target\n",
    "np.array(y_train)[87]"
   ]
  },
  {
   "cell_type": "code",
   "execution_count": null,
   "metadata": {},
   "outputs": [],
   "source": [
    "#The actual value is\n",
    "np.array(y_test)[0]"
   ]
  },
  {
   "cell_type": "markdown",
   "metadata": {},
   "source": [
    "### Aside (Tuples)"
   ]
  },
  {
   "cell_type": "code",
   "execution_count": null,
   "metadata": {},
   "outputs": [],
   "source": [
    "#Similarityies between tuples and strings\n",
    "s = 'abc'\n",
    "t = (1,2,3)"
   ]
  },
  {
   "cell_type": "code",
   "execution_count": null,
   "metadata": {},
   "outputs": [],
   "source": [
    "t[1]=20 #like strings we cannot do this"
   ]
  },
  {
   "cell_type": "code",
   "execution_count": null,
   "metadata": {},
   "outputs": [],
   "source": [
    "s[:1]+'e'+s[2:]"
   ]
  },
  {
   "cell_type": "code",
   "execution_count": null,
   "metadata": {},
   "outputs": [],
   "source": [
    "t[:1]+ (20,) + t[2:]"
   ]
  },
  {
   "cell_type": "code",
   "execution_count": null,
   "metadata": {},
   "outputs": [],
   "source": [
    "#Empty tuple\n",
    "(20,)\n",
    "type((20,))"
   ]
  },
  {
   "cell_type": "code",
   "execution_count": null,
   "metadata": {},
   "outputs": [],
   "source": [
    "'abc' < 'pqr'"
   ]
  },
  {
   "cell_type": "code",
   "execution_count": null,
   "metadata": {},
   "outputs": [],
   "source": [
    "(1,2,3) < (0,100,200)"
   ]
  },
  {
   "cell_type": "code",
   "execution_count": null,
   "metadata": {},
   "outputs": [],
   "source": [
    "(1,2,3) < (1,2,0)"
   ]
  },
  {
   "cell_type": "code",
   "execution_count": null,
   "metadata": {},
   "outputs": [],
   "source": []
  },
  {
   "cell_type": "code",
   "execution_count": null,
   "metadata": {},
   "outputs": [],
   "source": [
    "#OR THIS WAY (1NN Alternative Approach)\n",
    "dist1 = []\n",
    "\n",
    "for i in range(len(X_train)):\n",
    "    #Calculate the distance of test from the ith observation in X_train\n",
    "    distance = np.sqrt(np.sum((test - X_train.iloc[i,])**2))\n",
    "    #Append the distance and the index as a tuple in the list 'dist'\n",
    "    dist1.append(distance)\n",
    "\n",
    "#dist1 = np.array(dist1)"
   ]
  },
  {
   "cell_type": "code",
   "execution_count": null,
   "metadata": {},
   "outputs": [],
   "source": [
    "min_dist = min(dist1)\n",
    "min_dist"
   ]
  },
  {
   "cell_type": "code",
   "execution_count": null,
   "metadata": {},
   "outputs": [],
   "source": [
    "type(dist1)"
   ]
  },
  {
   "cell_type": "code",
   "execution_count": null,
   "metadata": {},
   "outputs": [],
   "source": [
    "dist1.index(min_dist)"
   ]
  },
  {
   "cell_type": "code",
   "execution_count": null,
   "metadata": {},
   "outputs": [],
   "source": [
    "#OR THIS WAY (the simplest way)\n",
    "import math\n",
    "min_dist = math.inf\n",
    "\n",
    "for i in range(len(X_train)):\n",
    "    #Calculate the distance of test from the ith observation in X_train\n",
    "    distance = np.sqrt(np.sum((test - X_train.iloc[i,])**2))\n",
    "\n",
    "    if distance < min_dist:\n",
    "        min_dist = distance #Updating the min_dist \n",
    "        index = i\n",
    "\n",
    "index"
   ]
  },
  {
   "cell_type": "markdown",
   "metadata": {},
   "source": [
    "### Creating a function for 1NN for a single test observation"
   ]
  },
  {
   "cell_type": "code",
   "execution_count": 7,
   "metadata": {},
   "outputs": [],
   "source": [
    "def predict_1nn(X_train, y_train, test):\n",
    "    dist = []\n",
    "\n",
    "    for i in range(len(X_train)):\n",
    "        \n",
    "        #Calculate the distance of test from the ith observation in X_train\n",
    "        distance = np.sqrt(np.sum((test - X_train.iloc[i,])**2))\n",
    "        #Append the distance and the index as a tuple in the list 'dist'\n",
    "        dist.append((distance, i))\n",
    "            \n",
    "    #Sort the list by distance\n",
    "    dist.sort()\n",
    "    \n",
    "    #Get the row index of its nearest neighbour\n",
    "    neighbour = dist[0][1]\n",
    "    \n",
    "    #Print the test observation\n",
    "    print(\"The test observation is:\\n\")\n",
    "    print(test)\n",
    "    print(\"\\n\")\n",
    "    \n",
    "    #Print the nearest neighbour\n",
    "    print(\"The nearest observation is:\\n\")\n",
    "    print(X_train.iloc[neighbour, ])\n",
    "    \n",
    "    #Print the predicted value of the target\n",
    "    print(\"\\n\")\n",
    "    print(\"The predicted value is:\")\n",
    "    print(np.array(y_train)[neighbour])\n",
    "        "
   ]
  },
  {
   "cell_type": "code",
   "execution_count": 8,
   "metadata": {},
   "outputs": [
    {
     "name": "stdout",
     "output_type": "stream",
     "text": [
      "The test observation is:\n",
      "\n",
      "Sepal.Length    4.9\n",
      "Sepal.Width     3.1\n",
      "Petal.Length    1.5\n",
      "Petal.Width     0.2\n",
      "Name: 34, dtype: float64\n",
      "\n",
      "\n",
      "The nearest observation is:\n",
      "\n",
      "Sepal.Length    4.9\n",
      "Sepal.Width     3.1\n",
      "Petal.Length    1.5\n",
      "Petal.Width     0.1\n",
      "Name: 9, dtype: float64\n",
      "\n",
      "\n",
      "The predicted value is:\n",
      "setosa\n"
     ]
    }
   ],
   "source": [
    "predict_1nn(X_train, y_train, test)"
   ]
  },
  {
   "cell_type": "markdown",
   "metadata": {},
   "source": [
    "### Extend the above function for 3-NN"
   ]
  },
  {
   "cell_type": "code",
   "execution_count": 9,
   "metadata": {},
   "outputs": [],
   "source": [
    "def predict_knn(X_train, y_train, test, k=3):\n",
    "    dist = []\n",
    "\n",
    "    for i in range(len(X_train)):\n",
    "        #Calculate the distance of test from the ith observation in X_train\n",
    "        distance = np.sqrt(np.sum((test - X_train.iloc[i,])**2))\n",
    "        #Append the distance and the index as a tuple in the list 'dist'\n",
    "        dist.append((distance, i))\n",
    "        \n",
    "    #Sort the list by distance\n",
    "    dist.sort()    #Tuples contains [(distance, i)]\n",
    "    \n",
    "    #Get the row index of its nearest neighbour\n",
    "    neighbours = []\n",
    "    \n",
    "    for j in range(k):\n",
    "        neighbours.append(dist[j][1])\n",
    "    \n",
    "    \n",
    "    #Print the test observation\n",
    "    print(\"The test observation is:\\n\")\n",
    "    print(test)\n",
    "    print(\"\\n\")\n",
    "    \n",
    "    #Print the nearest neighbour and their actual values\n",
    "    #Append the actual target in a list\n",
    "    target = []\n",
    "    print(\"The nearest observations are:\\n\")\n",
    "    for l in range(k):\n",
    "        print(X_train.iloc[neighbours[l], ])\n",
    "        print(\"Actual Target: \", np.array(y_train)[neighbours[l]])\n",
    "        print(\"\\n\")\n",
    "        target.append(np.array(y_train)[neighbours[l]])\n",
    "    \n",
    "    #Create a function for counting\n",
    "    count = {}\n",
    "    for t in target:\n",
    "        count[t] = count.get(t,0) + 1\n",
    "    \n",
    "    #Create a list with (value, key) pair \n",
    "    pair = []\n",
    "    for key in count:\n",
    "        pair.append((count[key], key))\n",
    "\n",
    "    #Sort the pair and get the most occurring word\n",
    "    pair.sort(reverse=True)\n",
    "    pred = pair[0][1]\n",
    "    \n",
    "    print(\"The predicted value is:\", pred)\n",
    "    print(pair)\n",
    "    return(pred)\n",
    "    "
   ]
  },
  {
   "cell_type": "code",
   "execution_count": 11,
   "metadata": {},
   "outputs": [
    {
     "name": "stdout",
     "output_type": "stream",
     "text": [
      "The test observation is:\n",
      "\n",
      "Sepal.Length    5.6\n",
      "Sepal.Width     2.7\n",
      "Petal.Length    4.2\n",
      "Petal.Width     1.3\n",
      "Name: 94, dtype: float64\n",
      "\n",
      "\n",
      "The nearest observations are:\n",
      "\n",
      "Sepal.Length    5.7\n",
      "Sepal.Width     2.9\n",
      "Petal.Length    4.2\n",
      "Petal.Width     1.3\n",
      "Name: 96, dtype: float64\n",
      "Actual Target:  versicolor\n",
      "\n",
      "\n",
      "Sepal.Length    5.5\n",
      "Sepal.Width     2.6\n",
      "Petal.Length    4.4\n",
      "Petal.Width     1.2\n",
      "Name: 90, dtype: float64\n",
      "Actual Target:  versicolor\n",
      "\n",
      "\n",
      "Sepal.Length    5.8\n",
      "Sepal.Width     2.6\n",
      "Petal.Length    4.0\n",
      "Petal.Width     1.2\n",
      "Name: 92, dtype: float64\n",
      "Actual Target:  versicolor\n",
      "\n",
      "\n",
      "The predicted value is: versicolor\n",
      "[(3, 'versicolor')]\n"
     ]
    },
    {
     "data": {
      "text/plain": [
       "'versicolor'"
      ]
     },
     "execution_count": 11,
     "metadata": {},
     "output_type": "execute_result"
    }
   ],
   "source": [
    "predict_knn(X_train, y_train, X_test.iloc[3,], k=3)"
   ]
  },
  {
   "cell_type": "markdown",
   "metadata": {},
   "source": [
    "### Modify the algorithm for kNN prediction only"
   ]
  },
  {
   "cell_type": "code",
   "execution_count": 12,
   "metadata": {},
   "outputs": [],
   "source": [
    "def NN(X_train, y_train, test, k):\n",
    "    dist = []\n",
    "\n",
    "    for i in range(len(X_train)):\n",
    "        #Calculate the distance of test from the ith observation in X_train\n",
    "        distance = np.sqrt(np.sum((test - X_train.iloc[i,])**2))\n",
    "        #Append the distance and the index as a tuple in the list 'dist'\n",
    "        dist.append((distance, i))\n",
    "        \n",
    "    #Sort the list by distance\n",
    "    dist.sort()\n",
    "    \n",
    "    #Get the row index of its nearest neighbour\n",
    "    neighbours = []\n",
    "    \n",
    "    for j in range(k):\n",
    "        neighbours.append(dist[j][1])\n",
    "    \n",
    "    #Append the actual target in a list\n",
    "    target = []\n",
    "    for l in range(k):\n",
    "        target.append(np.array(y_train)[neighbours[l]])\n",
    "    \n",
    "    #Create a function for counting\n",
    "    count = {}\n",
    "    for t in target:\n",
    "        count[t] = count.get(t,0) + 1\n",
    "    \n",
    "    #Create a list with (value, key) pair \n",
    "    pairs = []\n",
    "    for key in count:\n",
    "        pairs.append((count[key], key))\n",
    "\n",
    "    #Sort the pair and get the most occurring word\n",
    "    pairs.sort(reverse=True)\n",
    "    pred = pairs[0][1]\n",
    "    \n",
    "    return(pred)\n",
    "    "
   ]
  },
  {
   "cell_type": "code",
   "execution_count": 13,
   "metadata": {},
   "outputs": [
    {
     "data": {
      "text/plain": [
       "'setosa'"
      ]
     },
     "execution_count": 13,
     "metadata": {},
     "output_type": "execute_result"
    }
   ],
   "source": [
    "NN(X_train, y_train, test, k=5)"
   ]
  },
  {
   "cell_type": "markdown",
   "metadata": {},
   "source": [
    "### Modify the function to predict multiple test observations"
   ]
  },
  {
   "cell_type": "code",
   "execution_count": 14,
   "metadata": {},
   "outputs": [],
   "source": [
    "def KNN_Classifier(X_train, y_train, X_test, k=3):\n",
    "    \n",
    "    pred = []\n",
    "    for i in range(len(X_test)):\n",
    "        pred.append(NN(X_train, y_train, X_test.iloc[i,], k))\n",
    "\n",
    "    return(pred)"
   ]
  },
  {
   "cell_type": "code",
   "execution_count": 15,
   "metadata": {},
   "outputs": [],
   "source": [
    "pred1 = KNN_Classifier(X_train, y_train, X_test, k=10)"
   ]
  },
  {
   "cell_type": "code",
   "execution_count": 16,
   "metadata": {},
   "outputs": [
    {
     "data": {
      "text/plain": [
       "['setosa',\n",
       " 'versicolor',\n",
       " 'virginica',\n",
       " 'versicolor',\n",
       " 'virginica',\n",
       " 'setosa',\n",
       " 'versicolor',\n",
       " 'setosa',\n",
       " 'setosa',\n",
       " 'setosa',\n",
       " 'versicolor',\n",
       " 'versicolor',\n",
       " 'versicolor',\n",
       " 'setosa',\n",
       " 'versicolor',\n",
       " 'virginica',\n",
       " 'virginica',\n",
       " 'virginica',\n",
       " 'versicolor',\n",
       " 'versicolor',\n",
       " 'virginica',\n",
       " 'versicolor',\n",
       " 'versicolor',\n",
       " 'virginica',\n",
       " 'versicolor',\n",
       " 'setosa',\n",
       " 'virginica',\n",
       " 'versicolor',\n",
       " 'setosa',\n",
       " 'versicolor',\n",
       " 'virginica',\n",
       " 'virginica',\n",
       " 'virginica',\n",
       " 'setosa',\n",
       " 'virginica',\n",
       " 'virginica',\n",
       " 'setosa',\n",
       " 'setosa',\n",
       " 'setosa',\n",
       " 'versicolor',\n",
       " 'setosa',\n",
       " 'setosa',\n",
       " 'setosa',\n",
       " 'versicolor',\n",
       " 'virginica']"
      ]
     },
     "execution_count": 16,
     "metadata": {},
     "output_type": "execute_result"
    }
   ],
   "source": [
    "pred1"
   ]
  },
  {
   "cell_type": "markdown",
   "metadata": {},
   "source": [
    "### Evaluating our Algorithm"
   ]
  },
  {
   "cell_type": "code",
   "execution_count": null,
   "metadata": {},
   "outputs": [],
   "source": [
    "from sklearn.metrics import confusion_matrix\n",
    "\n",
    "c = confusion_matrix(y_test, pred1)\n",
    "c"
   ]
  },
  {
   "cell_type": "code",
   "execution_count": null,
   "metadata": {},
   "outputs": [],
   "source": [
    "confusion_matrix(pred, pred1)"
   ]
  },
  {
   "cell_type": "code",
   "execution_count": null,
   "metadata": {},
   "outputs": [],
   "source": []
  },
  {
   "cell_type": "markdown",
   "metadata": {},
   "source": [
    "### Appendix"
   ]
  },
  {
   "cell_type": "markdown",
   "metadata": {},
   "source": [
    "#### Checking the speed of the approaches"
   ]
  },
  {
   "cell_type": "code",
   "execution_count": null,
   "metadata": {},
   "outputs": [],
   "source": [
    "import time"
   ]
  },
  {
   "cell_type": "code",
   "execution_count": null,
   "metadata": {},
   "outputs": [],
   "source": [
    "#APPROACH 1\n",
    "\n",
    "time1 = time.time()\n",
    "\n",
    "dist = []\n",
    "\n",
    "for i in range(len(X_train)):\n",
    "    #Calculate the distance of test from the ith observation in X_train\n",
    "    distance = np.sqrt(np.sum((test - X_train.iloc[i,])**2))\n",
    "    #Append the distance and the index as a tuple in the list 'dist'\n",
    "    dist.append((distance, i))\n",
    "dist.sort()\n",
    "neighbour = dist[0][1]\n",
    "print(neighbour)\n",
    "\n",
    "time2 = time.time()\n",
    "print(\"\\nTime taken = \", (time2-time1)*1000)"
   ]
  },
  {
   "cell_type": "code",
   "execution_count": null,
   "metadata": {},
   "outputs": [],
   "source": [
    "#APPROACH 2\n",
    "\n",
    "time1 = time.time()\n",
    "\n",
    "dist1 = []\n",
    "\n",
    "for i in range(len(X_train)):\n",
    "    #Calculate the distance of test from the ith observation in X_train\n",
    "    distance = np.sqrt(np.sum((test - X_train.iloc[i,])**2))\n",
    "    #Append the distance and the index as a tuple in the list 'dist'\n",
    "    dist1.append(distance)\n",
    "\n",
    "min_dist = min(dist1)\n",
    "min_dist\n",
    "print(dist1.index(min_dist))\n",
    "\n",
    "time2 = time.time()\n",
    "print(\"\\nTime taken = \", (time2-time1)*1000)"
   ]
  },
  {
   "cell_type": "code",
   "execution_count": null,
   "metadata": {},
   "outputs": [],
   "source": [
    "import math"
   ]
  },
  {
   "cell_type": "code",
   "execution_count": null,
   "metadata": {},
   "outputs": [],
   "source": [
    "#APPROACH 3\n",
    "time1 = time.time()\n",
    "min_dist = math.inf\n",
    "\n",
    "for i in range(len(X_train)):\n",
    "    #Calculate the distance of test from the ith observation in X_train\n",
    "    distance = np.sqrt(np.sum((test - X_train.iloc[i,])**2))\n",
    "\n",
    "    if distance < min_dist:\n",
    "        min_dist = distance\n",
    "        index = i\n",
    "\n",
    "print(index)\n",
    "time2 = time.time()\n",
    "print(\"\\nTime taken = \", (time2-time1)*1000)"
   ]
  },
  {
   "cell_type": "code",
   "execution_count": null,
   "metadata": {},
   "outputs": [],
   "source": []
  }
 ],
 "metadata": {
  "kernelspec": {
   "display_name": "Python 3",
   "language": "python",
   "name": "python3"
  },
  "language_info": {
   "codemirror_mode": {
    "name": "ipython",
    "version": 3
   },
   "file_extension": ".py",
   "mimetype": "text/x-python",
   "name": "python",
   "nbconvert_exporter": "python",
   "pygments_lexer": "ipython3",
   "version": "3.7.3"
  }
 },
 "nbformat": 4,
 "nbformat_minor": 2
}
