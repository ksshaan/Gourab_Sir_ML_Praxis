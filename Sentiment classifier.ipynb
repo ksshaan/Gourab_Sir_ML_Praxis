{
 "cells": [
  {
   "cell_type": "code",
   "execution_count": 2,
   "metadata": {},
   "outputs": [],
   "source": [
    "import pandas as pd\n",
    "import numpy as np"
   ]
  },
  {
   "cell_type": "code",
   "execution_count": 3,
   "metadata": {},
   "outputs": [
    {
     "data": {
      "text/plain": [
       "12"
      ]
     },
     "execution_count": 3,
     "metadata": {},
     "output_type": "execute_result"
    }
   ],
   "source": [
    "pproducts=pd.read_csv('amazon_baby.csv')\n",
    "k=9+3\n",
    "k"
   ]
  },
  {
   "cell_type": "code",
   "execution_count": 4,
   "metadata": {},
   "outputs": [
    {
     "data": {
      "text/html": [
       "<div>\n",
       "<style scoped>\n",
       "    .dataframe tbody tr th:only-of-type {\n",
       "        vertical-align: middle;\n",
       "    }\n",
       "\n",
       "    .dataframe tbody tr th {\n",
       "        vertical-align: top;\n",
       "    }\n",
       "\n",
       "    .dataframe thead th {\n",
       "        text-align: right;\n",
       "    }\n",
       "</style>\n",
       "<table border=\"1\" class=\"dataframe\">\n",
       "  <thead>\n",
       "    <tr style=\"text-align: right;\">\n",
       "      <th></th>\n",
       "      <th>name</th>\n",
       "      <th>review</th>\n",
       "      <th>rating</th>\n",
       "    </tr>\n",
       "  </thead>\n",
       "  <tbody>\n",
       "    <tr>\n",
       "      <td>0</td>\n",
       "      <td>Planetwise Flannel Wipes</td>\n",
       "      <td>These flannel wipes are OK, but in my opinion ...</td>\n",
       "      <td>3</td>\n",
       "    </tr>\n",
       "    <tr>\n",
       "      <td>1</td>\n",
       "      <td>Planetwise Wipe Pouch</td>\n",
       "      <td>it came early and was not disappointed. i love...</td>\n",
       "      <td>5</td>\n",
       "    </tr>\n",
       "    <tr>\n",
       "      <td>2</td>\n",
       "      <td>Annas Dream Full Quilt with 2 Shams</td>\n",
       "      <td>Very soft and comfortable and warmer than it l...</td>\n",
       "      <td>5</td>\n",
       "    </tr>\n",
       "    <tr>\n",
       "      <td>3</td>\n",
       "      <td>Stop Pacifier Sucking without tears with Thumb...</td>\n",
       "      <td>This is a product well worth the purchase.  I ...</td>\n",
       "      <td>5</td>\n",
       "    </tr>\n",
       "    <tr>\n",
       "      <td>4</td>\n",
       "      <td>Stop Pacifier Sucking without tears with Thumb...</td>\n",
       "      <td>All of my kids have cried non-stop when I trie...</td>\n",
       "      <td>5</td>\n",
       "    </tr>\n",
       "  </tbody>\n",
       "</table>\n",
       "</div>"
      ],
      "text/plain": [
       "                                                name  \\\n",
       "0                           Planetwise Flannel Wipes   \n",
       "1                              Planetwise Wipe Pouch   \n",
       "2                Annas Dream Full Quilt with 2 Shams   \n",
       "3  Stop Pacifier Sucking without tears with Thumb...   \n",
       "4  Stop Pacifier Sucking without tears with Thumb...   \n",
       "\n",
       "                                              review  rating  \n",
       "0  These flannel wipes are OK, but in my opinion ...       3  \n",
       "1  it came early and was not disappointed. i love...       5  \n",
       "2  Very soft and comfortable and warmer than it l...       5  \n",
       "3  This is a product well worth the purchase.  I ...       5  \n",
       "4  All of my kids have cried non-stop when I trie...       5  "
      ]
     },
     "execution_count": 4,
     "metadata": {},
     "output_type": "execute_result"
    }
   ],
   "source": [
    "pproducts.head()"
   ]
  },
  {
   "cell_type": "code",
   "execution_count": 46,
   "metadata": {},
   "outputs": [],
   "source": [
    "selected_words = ['awesome', 'great', 'fantastic', 'amazing', 'love', 'horrible', 'bad', 'terrible', 'awful', 'wow', 'hate']"
   ]
  },
  {
   "cell_type": "code",
   "execution_count": 31,
   "metadata": {},
   "outputs": [
    {
     "data": {
      "text/plain": [
       "90"
      ]
     },
     "execution_count": 31,
     "metadata": {},
     "output_type": "execute_result"
    }
   ],
   "source": [
    "def awesome_count(words):\n",
    "    selected_words = ['awesome']\n",
    "    count={}\n",
    "    #print(words,type(words))\n",
    "    line1=str(words)\n",
    "    \n",
    "    \n",
    "    words = line1.split()\n",
    "    for word in selected_words:\n",
    "        count[word]=0\n",
    "        \n",
    "    for word in words:\n",
    "        if word not in count:\n",
    "            count[word]=1\n",
    "            #print(word)\n",
    "        else:\n",
    "            count[word]=count[word]+1\n",
    "    \n",
    "        if word not in selected_words:\n",
    "            removed_value = count.pop(word)\n",
    "            \n",
    "            \n",
    "    return count\n",
    "k=90\n",
    "k"
   ]
  },
  {
   "cell_type": "code",
   "execution_count": 32,
   "metadata": {},
   "outputs": [
    {
     "data": {
      "text/plain": [
       "{'awesome': 1}"
      ]
     },
     "execution_count": 32,
     "metadata": {},
     "output_type": "execute_result"
    }
   ],
   "source": [
    "words='bad am bad awesome'\n",
    "select = ['awesome']\n",
    "awesome_count(words)"
   ]
  },
  {
   "cell_type": "code",
   "execution_count": 33,
   "metadata": {},
   "outputs": [],
   "source": [
    "pproducts['awesome_count']=pproducts['review'].apply(awesome_count)"
   ]
  },
  {
   "cell_type": "code",
   "execution_count": 34,
   "metadata": {},
   "outputs": [
    {
     "data": {
      "text/html": [
       "<div>\n",
       "<style scoped>\n",
       "    .dataframe tbody tr th:only-of-type {\n",
       "        vertical-align: middle;\n",
       "    }\n",
       "\n",
       "    .dataframe tbody tr th {\n",
       "        vertical-align: top;\n",
       "    }\n",
       "\n",
       "    .dataframe thead th {\n",
       "        text-align: right;\n",
       "    }\n",
       "</style>\n",
       "<table border=\"1\" class=\"dataframe\">\n",
       "  <thead>\n",
       "    <tr style=\"text-align: right;\">\n",
       "      <th></th>\n",
       "      <th>name</th>\n",
       "      <th>review</th>\n",
       "      <th>rating</th>\n",
       "      <th>awesome_count</th>\n",
       "    </tr>\n",
       "  </thead>\n",
       "  <tbody>\n",
       "    <tr>\n",
       "      <td>0</td>\n",
       "      <td>Planetwise Flannel Wipes</td>\n",
       "      <td>These flannel wipes are OK, but in my opinion ...</td>\n",
       "      <td>3</td>\n",
       "      <td>{'awesome': 0}</td>\n",
       "    </tr>\n",
       "    <tr>\n",
       "      <td>1</td>\n",
       "      <td>Planetwise Wipe Pouch</td>\n",
       "      <td>it came early and was not disappointed. i love...</td>\n",
       "      <td>5</td>\n",
       "      <td>{'awesome': 0}</td>\n",
       "    </tr>\n",
       "    <tr>\n",
       "      <td>2</td>\n",
       "      <td>Annas Dream Full Quilt with 2 Shams</td>\n",
       "      <td>Very soft and comfortable and warmer than it l...</td>\n",
       "      <td>5</td>\n",
       "      <td>{'awesome': 0}</td>\n",
       "    </tr>\n",
       "    <tr>\n",
       "      <td>3</td>\n",
       "      <td>Stop Pacifier Sucking without tears with Thumb...</td>\n",
       "      <td>This is a product well worth the purchase.  I ...</td>\n",
       "      <td>5</td>\n",
       "      <td>{'awesome': 0}</td>\n",
       "    </tr>\n",
       "    <tr>\n",
       "      <td>4</td>\n",
       "      <td>Stop Pacifier Sucking without tears with Thumb...</td>\n",
       "      <td>All of my kids have cried non-stop when I trie...</td>\n",
       "      <td>5</td>\n",
       "      <td>{'awesome': 0}</td>\n",
       "    </tr>\n",
       "  </tbody>\n",
       "</table>\n",
       "</div>"
      ],
      "text/plain": [
       "                                                name  \\\n",
       "0                           Planetwise Flannel Wipes   \n",
       "1                              Planetwise Wipe Pouch   \n",
       "2                Annas Dream Full Quilt with 2 Shams   \n",
       "3  Stop Pacifier Sucking without tears with Thumb...   \n",
       "4  Stop Pacifier Sucking without tears with Thumb...   \n",
       "\n",
       "                                              review  rating   awesome_count  \n",
       "0  These flannel wipes are OK, but in my opinion ...       3  {'awesome': 0}  \n",
       "1  it came early and was not disappointed. i love...       5  {'awesome': 0}  \n",
       "2  Very soft and comfortable and warmer than it l...       5  {'awesome': 0}  \n",
       "3  This is a product well worth the purchase.  I ...       5  {'awesome': 0}  \n",
       "4  All of my kids have cried non-stop when I trie...       5  {'awesome': 0}  "
      ]
     },
     "execution_count": 34,
     "metadata": {},
     "output_type": "execute_result"
    }
   ],
   "source": [
    "pproducts.head()"
   ]
  },
  {
   "cell_type": "code",
   "execution_count": 45,
   "metadata": {},
   "outputs": [
    {
     "data": {
      "text/plain": [
       "1683"
      ]
     },
     "execution_count": 45,
     "metadata": {},
     "output_type": "execute_result"
    }
   ],
   "source": [
    "awesome = pproducts['awesome_count'].apply(lambda x: x['awesome'])\n",
    "\n",
    "awesome.sum()"
   ]
  },
  {
   "cell_type": "code",
   "execution_count": 44,
   "metadata": {},
   "outputs": [
    {
     "data": {
      "text/plain": [
       "0         0\n",
       "1         0\n",
       "2         0\n",
       "3         0\n",
       "4         0\n",
       "         ..\n",
       "183526    0\n",
       "183527    0\n",
       "183528    0\n",
       "183529    0\n",
       "183530    0\n",
       "Name: awesome_count, Length: 183531, dtype: int64"
      ]
     },
     "execution_count": 44,
     "metadata": {},
     "output_type": "execute_result"
    }
   ],
   "source": [
    "awesome"
   ]
  },
  {
   "cell_type": "code",
   "execution_count": 52,
   "metadata": {},
   "outputs": [],
   "source": [
    "def fantastic_count(words):\n",
    "    selected_words = ['fantastic']\n",
    "    count={}\n",
    "    #print(words,type(words))\n",
    "    line1=str(words)\n",
    "    \n",
    "    \n",
    "    words = line1.split()\n",
    "    for word in selected_words:\n",
    "        count[word]=0\n",
    "        \n",
    "    for word in words:\n",
    "        if word not in count:\n",
    "            count[word]=1\n",
    "            #print(word)\n",
    "        else:\n",
    "            count[word]=count[word]+1\n",
    "    \n",
    "        if word not in selected_words:\n",
    "            removed_value = count.pop(word)\n",
    "            \n",
    "            \n",
    "    return count"
   ]
  },
  {
   "cell_type": "code",
   "execution_count": 53,
   "metadata": {},
   "outputs": [
    {
     "data": {
      "text/plain": [
       "807"
      ]
     },
     "execution_count": 53,
     "metadata": {},
     "output_type": "execute_result"
    }
   ],
   "source": [
    "pproducts['fantastic_count']=pproducts['review'].apply(fantastic_count)\n",
    "fantastic = pproducts['fantastic_count'].apply(lambda x: x['fantastic'])\n",
    "\n",
    "fantastic.sum()"
   ]
  },
  {
   "cell_type": "code",
   "execution_count": 54,
   "metadata": {},
   "outputs": [],
   "source": [
    "def great_count(words):\n",
    "    selected_words = ['great']\n",
    "    count={}\n",
    "    #print(words,type(words))\n",
    "    line1=str(words)\n",
    "    \n",
    "    \n",
    "    words = line1.split()\n",
    "    for word in selected_words:\n",
    "        count[word]=0\n",
    "        \n",
    "    for word in words:\n",
    "        if word not in count:\n",
    "            count[word]=1\n",
    "            #print(word)\n",
    "        else:\n",
    "            count[word]=count[word]+1\n",
    "    \n",
    "        if word not in selected_words:\n",
    "            removed_value = count.pop(word)\n",
    "            \n",
    "            \n",
    "    return count"
   ]
  },
  {
   "cell_type": "code",
   "execution_count": 55,
   "metadata": {},
   "outputs": [
    {
     "data": {
      "text/plain": [
       "37056"
      ]
     },
     "execution_count": 55,
     "metadata": {},
     "output_type": "execute_result"
    }
   ],
   "source": [
    "pproducts['great_count']=pproducts['review'].apply(great_count)\n",
    "great = pproducts['great_count'].apply(lambda x: x['great'])\n",
    "\n",
    "great.sum()"
   ]
  },
  {
   "cell_type": "code",
   "execution_count": 56,
   "metadata": {},
   "outputs": [],
   "source": [
    "def amazing_count(words):\n",
    "    selected_words = ['amazing']\n",
    "    count={}\n",
    "    #print(words,type(words))\n",
    "    line1=str(words)\n",
    "    \n",
    "    \n",
    "    words = line1.split()\n",
    "    for word in selected_words:\n",
    "        count[word]=0\n",
    "        \n",
    "    for word in words:\n",
    "        if word not in count:\n",
    "            count[word]=1\n",
    "            #print(word)\n",
    "        else:\n",
    "            count[word]=count[word]+1\n",
    "    \n",
    "        if word not in selected_words:\n",
    "            removed_value = count.pop(word)\n",
    "            \n",
    "            \n",
    "    return count"
   ]
  },
  {
   "cell_type": "code",
   "execution_count": 57,
   "metadata": {},
   "outputs": [
    {
     "data": {
      "text/plain": [
       "1164"
      ]
     },
     "execution_count": 57,
     "metadata": {},
     "output_type": "execute_result"
    }
   ],
   "source": [
    "pproducts['amazing_count']=pproducts['review'].apply(amazing_count)\n",
    "amazing = pproducts['amazing_count'].apply(lambda x: x['amazing'])\n",
    "\n",
    "amazing.sum()"
   ]
  },
  {
   "cell_type": "code",
   "execution_count": 58,
   "metadata": {},
   "outputs": [],
   "source": [
    "def love_count(words):\n",
    "    selected_words = ['love']\n",
    "    count={}\n",
    "    #print(words,type(words))\n",
    "    line1=str(words)\n",
    "    \n",
    "    \n",
    "    words = line1.split()\n",
    "    for word in selected_words:\n",
    "        count[word]=0\n",
    "        \n",
    "    for word in words:\n",
    "        if word not in count:\n",
    "            count[word]=1\n",
    "            #print(word)\n",
    "        else:\n",
    "            count[word]=count[word]+1\n",
    "    \n",
    "        if word not in selected_words:\n",
    "            removed_value = count.pop(word)\n",
    "            \n",
    "            \n",
    "    return count"
   ]
  },
  {
   "cell_type": "code",
   "execution_count": 59,
   "metadata": {},
   "outputs": [
    {
     "data": {
      "text/plain": [
       "33667"
      ]
     },
     "execution_count": 59,
     "metadata": {},
     "output_type": "execute_result"
    }
   ],
   "source": [
    "pproducts['love_count']=pproducts['review'].apply(love_count)\n",
    "love = pproducts['love_count'].apply(lambda x: x['love'])\n",
    "\n",
    "love.sum()"
   ]
  },
  {
   "cell_type": "code",
   "execution_count": 60,
   "metadata": {},
   "outputs": [],
   "source": [
    "def horrible_count(words):\n",
    "    selected_words = ['horrible']\n",
    "    count={}\n",
    "    #print(words,type(words))\n",
    "    line1=str(words)\n",
    "    \n",
    "    \n",
    "    words = line1.split()\n",
    "    for word in selected_words:\n",
    "        count[word]=0\n",
    "        \n",
    "    for word in words:\n",
    "        if word not in count:\n",
    "            count[word]=1\n",
    "            #print(word)\n",
    "        else:\n",
    "            count[word]=count[word]+1\n",
    "    \n",
    "        if word not in selected_words:\n",
    "            removed_value = count.pop(word)\n",
    "            \n",
    "            \n",
    "    return count"
   ]
  },
  {
   "cell_type": "code",
   "execution_count": 80,
   "metadata": {},
   "outputs": [
    {
     "data": {
      "text/plain": [
       "637"
      ]
     },
     "execution_count": 80,
     "metadata": {},
     "output_type": "execute_result"
    }
   ],
   "source": [
    "\n",
    "pproducts['horrible_count']=pproducts['review'].apply(horrible_count)\n",
    "horrible = pproducts['horrible_count'].apply(lambda x: x['horrible'])\n",
    "\n",
    "horrible.sum()"
   ]
  },
  {
   "cell_type": "code",
   "execution_count": 84,
   "metadata": {},
   "outputs": [],
   "source": [
    "def bad_count(words):\n",
    "    selected_words = ['bad']\n",
    "    count={}\n",
    "    #print(words,type(words))\n",
    "    line1=str(words)\n",
    "    \n",
    "    \n",
    "    words = line1.split()\n",
    "    for word in selected_words:\n",
    "        count[word]=0\n",
    "        \n",
    "    for word in words:\n",
    "        if word not in count:\n",
    "            count[word]=1\n",
    "            #print(word)\n",
    "        else:\n",
    "            count[word]=count[word]+1\n",
    "    \n",
    "        if word not in selected_words:\n",
    "            removed_value = count.pop(word)\n",
    "            \n",
    "            \n",
    "    return count"
   ]
  },
  {
   "cell_type": "code",
   "execution_count": 86,
   "metadata": {},
   "outputs": [
    {
     "data": {
      "text/plain": [
       "3599"
      ]
     },
     "execution_count": 86,
     "metadata": {},
     "output_type": "execute_result"
    }
   ],
   "source": [
    "\n",
    "pproducts['bad_count']=pproducts['review'].apply(bad_count)\n",
    "bad = pproducts['bad_count'].apply(lambda x: x['bad'])\n",
    "\n",
    "bad.sum()"
   ]
  },
  {
   "cell_type": "code",
   "execution_count": 87,
   "metadata": {},
   "outputs": [],
   "source": [
    "\n",
    "def terrible_count(words):\n",
    "    selected_words = ['terrible']\n",
    "    count={}\n",
    "    #print(words,type(words))\n",
    "    line1=str(words)\n",
    "    \n",
    "    \n",
    "    words = line1.split()\n",
    "    for word in selected_words:\n",
    "        count[word]=0\n",
    "        \n",
    "    for word in words:\n",
    "        if word not in count:\n",
    "            count[word]=1\n",
    "            #print(word)\n",
    "        else:\n",
    "            count[word]=count[word]+1\n",
    "    \n",
    "        if word not in selected_words:\n",
    "            removed_value = count.pop(word)\n",
    "            \n",
    "            \n",
    "    return count"
   ]
  },
  {
   "cell_type": "code",
   "execution_count": 88,
   "metadata": {},
   "outputs": [
    {
     "data": {
      "text/plain": [
       "659"
      ]
     },
     "execution_count": 88,
     "metadata": {},
     "output_type": "execute_result"
    }
   ],
   "source": [
    "pproducts['terrible_count']=pproducts['review'].apply(terrible_count)\n",
    "terrible = pproducts['terrible_count'].apply(lambda x: x['terrible'])\n",
    "\n",
    "terrible.sum()"
   ]
  },
  {
   "cell_type": "code",
   "execution_count": 89,
   "metadata": {},
   "outputs": [],
   "source": [
    "\n",
    "\n",
    "def awful_count(words):\n",
    "    selected_words = ['awful']\n",
    "    count={}\n",
    "    #print(words,type(words))\n",
    "    line1=str(words)\n",
    "    \n",
    "    \n",
    "    words = line1.split()\n",
    "    for word in selected_words:\n",
    "        count[word]=0\n",
    "        \n",
    "    for word in words:\n",
    "        if word not in count:\n",
    "            count[word]=1\n",
    "            #print(word)\n",
    "        else:\n",
    "            count[word]=count[word]+1\n",
    "    \n",
    "        if word not in selected_words:\n",
    "            removed_value = count.pop(word)\n",
    "            \n",
    "            \n",
    "    return count"
   ]
  },
  {
   "cell_type": "code",
   "execution_count": 90,
   "metadata": {},
   "outputs": [
    {
     "data": {
      "text/plain": [
       "337"
      ]
     },
     "execution_count": 90,
     "metadata": {},
     "output_type": "execute_result"
    }
   ],
   "source": [
    "pproducts['awful_count']=pproducts['review'].apply(awful_count)\n",
    "awful = pproducts['awful_count'].apply(lambda x: x['awful'])\n",
    "\n",
    "awful.sum()"
   ]
  },
  {
   "cell_type": "code",
   "execution_count": 91,
   "metadata": {},
   "outputs": [],
   "source": [
    "\n",
    "\n",
    "\n",
    "def wow_count(words):\n",
    "    selected_words = ['wow']\n",
    "    count={}\n",
    "    #print(words,type(words))\n",
    "    line1=str(words)\n",
    "    \n",
    "    \n",
    "    words = line1.split()\n",
    "    for word in selected_words:\n",
    "        count[word]=0\n",
    "        \n",
    "    for word in words:\n",
    "        if word not in count:\n",
    "            count[word]=1\n",
    "            #print(word)\n",
    "        else:\n",
    "            count[word]=count[word]+1\n",
    "    \n",
    "        if word not in selected_words:\n",
    "            removed_value = count.pop(word)\n",
    "            \n",
    "            \n",
    "    return count"
   ]
  },
  {
   "cell_type": "code",
   "execution_count": 92,
   "metadata": {},
   "outputs": [
    {
     "data": {
      "text/plain": [
       "54"
      ]
     },
     "execution_count": 92,
     "metadata": {},
     "output_type": "execute_result"
    }
   ],
   "source": [
    "pproducts['wow_count']=pproducts['review'].apply(wow_count)\n",
    "wow = pproducts['wow_count'].apply(lambda x: x['wow'])\n",
    "\n",
    "wow.sum()"
   ]
  },
  {
   "cell_type": "code",
   "execution_count": 93,
   "metadata": {},
   "outputs": [],
   "source": [
    "\n",
    "\n",
    "\n",
    "\n",
    "def hate_count(words):\n",
    "    selected_words = ['hate']\n",
    "    count={}\n",
    "    #print(words,type(words))\n",
    "    line1=str(words)\n",
    "    \n",
    "    \n",
    "    words = line1.split()\n",
    "    for word in selected_words:\n",
    "        count[word]=0\n",
    "        \n",
    "    for word in words:\n",
    "        if word not in count:\n",
    "            count[word]=1\n",
    "            #print(word)\n",
    "        else:\n",
    "            count[word]=count[word]+1\n",
    "    \n",
    "        if word not in selected_words:\n",
    "            removed_value = count.pop(word)\n",
    "            \n",
    "            \n",
    "    return count"
   ]
  },
  {
   "cell_type": "code",
   "execution_count": 94,
   "metadata": {},
   "outputs": [
    {
     "data": {
      "text/plain": [
       "1089"
      ]
     },
     "execution_count": 94,
     "metadata": {},
     "output_type": "execute_result"
    }
   ],
   "source": [
    "pproducts['hate_count']=pproducts['review'].apply(hate_count)\n",
    "hate = pproducts['hate_count'].apply(lambda x: x['hate'])\n",
    "\n",
    "hate.sum()"
   ]
  },
  {
   "cell_type": "code",
   "execution_count": 97,
   "metadata": {},
   "outputs": [],
   "source": [
    "selected_words = ['awesome', 'great', 'fantastic', 'amazing', 'love', 'horrible', 'bad', 'terrible', 'awful', 'wow', 'hate']\n",
    "selected_words_count = []\n",
    "awesome.sum()\n",
    "selected_words_count.append(awesome.sum())\n",
    "selected_words_count.append(great.sum())\n",
    "selected_words_count.append(fantastic.sum())\n",
    "selected_words_count.append(amazing.sum())\n",
    "selected_words_count.append(love.sum()) \n",
    "selected_words_count.append(horrible.sum()) \n",
    "selected_words_count.append(bad.sum()) \n",
    "selected_words_count.append(terrible.sum()) \n",
    "selected_words_count.append(awful.sum()) \n",
    "selected_words_count.append(wow.sum()) \n",
    "selected_words_count.append(hate.sum())"
   ]
  },
  {
   "cell_type": "code",
   "execution_count": 99,
   "metadata": {},
   "outputs": [
    {
     "data": {
      "text/plain": [
       "[1683, 37056, 807, 1164, 33667, 637, 3599, 659, 337, 54, 1089]"
      ]
     },
     "execution_count": 99,
     "metadata": {},
     "output_type": "execute_result"
    }
   ],
   "source": [
    "selected_words = ['awesome', 'great', 'fantastic', 'amazing', 'love', 'horrible', 'bad', 'terrible', 'awful', 'wow', 'hate']\n",
    "selected_words_count"
   ]
  },
  {
   "cell_type": "code",
   "execution_count": 101,
   "metadata": {},
   "outputs": [
    {
     "data": {
      "text/html": [
       "<div>\n",
       "<style scoped>\n",
       "    .dataframe tbody tr th:only-of-type {\n",
       "        vertical-align: middle;\n",
       "    }\n",
       "\n",
       "    .dataframe tbody tr th {\n",
       "        vertical-align: top;\n",
       "    }\n",
       "\n",
       "    .dataframe thead th {\n",
       "        text-align: right;\n",
       "    }\n",
       "</style>\n",
       "<table border=\"1\" class=\"dataframe\">\n",
       "  <thead>\n",
       "    <tr style=\"text-align: right;\">\n",
       "      <th></th>\n",
       "      <th>name</th>\n",
       "      <th>review</th>\n",
       "      <th>rating</th>\n",
       "      <th>awesome_count</th>\n",
       "      <th>great_count</th>\n",
       "      <th>fantastic_count</th>\n",
       "      <th>amazing_count</th>\n",
       "      <th>love_count</th>\n",
       "      <th>horrible_count</th>\n",
       "      <th>bad_count</th>\n",
       "      <th>terrible_count</th>\n",
       "      <th>awful_count</th>\n",
       "      <th>wow_count</th>\n",
       "      <th>hate_count</th>\n",
       "    </tr>\n",
       "  </thead>\n",
       "  <tbody>\n",
       "    <tr>\n",
       "      <td>0</td>\n",
       "      <td>Planetwise Flannel Wipes</td>\n",
       "      <td>These flannel wipes are OK, but in my opinion ...</td>\n",
       "      <td>3</td>\n",
       "      <td>{'awesome': 0}</td>\n",
       "      <td>{'great': 0}</td>\n",
       "      <td>{'fantastic': 0}</td>\n",
       "      <td>{'amazing': 0}</td>\n",
       "      <td>{'love': 0}</td>\n",
       "      <td>{'horrible': 0}</td>\n",
       "      <td>{'bad': 0}</td>\n",
       "      <td>{'terrible': 0}</td>\n",
       "      <td>{'awful': 0}</td>\n",
       "      <td>{'wow': 0}</td>\n",
       "      <td>{'hate': 0}</td>\n",
       "    </tr>\n",
       "    <tr>\n",
       "      <td>1</td>\n",
       "      <td>Planetwise Wipe Pouch</td>\n",
       "      <td>it came early and was not disappointed. i love...</td>\n",
       "      <td>5</td>\n",
       "      <td>{'awesome': 0}</td>\n",
       "      <td>{'great': 0}</td>\n",
       "      <td>{'fantastic': 0}</td>\n",
       "      <td>{'amazing': 0}</td>\n",
       "      <td>{'love': 1}</td>\n",
       "      <td>{'horrible': 0}</td>\n",
       "      <td>{'bad': 0}</td>\n",
       "      <td>{'terrible': 0}</td>\n",
       "      <td>{'awful': 0}</td>\n",
       "      <td>{'wow': 0}</td>\n",
       "      <td>{'hate': 0}</td>\n",
       "    </tr>\n",
       "    <tr>\n",
       "      <td>2</td>\n",
       "      <td>Annas Dream Full Quilt with 2 Shams</td>\n",
       "      <td>Very soft and comfortable and warmer than it l...</td>\n",
       "      <td>5</td>\n",
       "      <td>{'awesome': 0}</td>\n",
       "      <td>{'great': 0}</td>\n",
       "      <td>{'fantastic': 0}</td>\n",
       "      <td>{'amazing': 0}</td>\n",
       "      <td>{'love': 0}</td>\n",
       "      <td>{'horrible': 0}</td>\n",
       "      <td>{'bad': 0}</td>\n",
       "      <td>{'terrible': 0}</td>\n",
       "      <td>{'awful': 0}</td>\n",
       "      <td>{'wow': 0}</td>\n",
       "      <td>{'hate': 0}</td>\n",
       "    </tr>\n",
       "    <tr>\n",
       "      <td>3</td>\n",
       "      <td>Stop Pacifier Sucking without tears with Thumb...</td>\n",
       "      <td>This is a product well worth the purchase.  I ...</td>\n",
       "      <td>5</td>\n",
       "      <td>{'awesome': 0}</td>\n",
       "      <td>{'great': 0}</td>\n",
       "      <td>{'fantastic': 0}</td>\n",
       "      <td>{'amazing': 0}</td>\n",
       "      <td>{'love': 2}</td>\n",
       "      <td>{'horrible': 0}</td>\n",
       "      <td>{'bad': 0}</td>\n",
       "      <td>{'terrible': 0}</td>\n",
       "      <td>{'awful': 0}</td>\n",
       "      <td>{'wow': 0}</td>\n",
       "      <td>{'hate': 0}</td>\n",
       "    </tr>\n",
       "    <tr>\n",
       "      <td>4</td>\n",
       "      <td>Stop Pacifier Sucking without tears with Thumb...</td>\n",
       "      <td>All of my kids have cried non-stop when I trie...</td>\n",
       "      <td>5</td>\n",
       "      <td>{'awesome': 0}</td>\n",
       "      <td>{'great': 1}</td>\n",
       "      <td>{'fantastic': 0}</td>\n",
       "      <td>{'amazing': 0}</td>\n",
       "      <td>{'love': 0}</td>\n",
       "      <td>{'horrible': 0}</td>\n",
       "      <td>{'bad': 0}</td>\n",
       "      <td>{'terrible': 0}</td>\n",
       "      <td>{'awful': 0}</td>\n",
       "      <td>{'wow': 0}</td>\n",
       "      <td>{'hate': 0}</td>\n",
       "    </tr>\n",
       "  </tbody>\n",
       "</table>\n",
       "</div>"
      ],
      "text/plain": [
       "                                                name  \\\n",
       "0                           Planetwise Flannel Wipes   \n",
       "1                              Planetwise Wipe Pouch   \n",
       "2                Annas Dream Full Quilt with 2 Shams   \n",
       "3  Stop Pacifier Sucking without tears with Thumb...   \n",
       "4  Stop Pacifier Sucking without tears with Thumb...   \n",
       "\n",
       "                                              review  rating   awesome_count  \\\n",
       "0  These flannel wipes are OK, but in my opinion ...       3  {'awesome': 0}   \n",
       "1  it came early and was not disappointed. i love...       5  {'awesome': 0}   \n",
       "2  Very soft and comfortable and warmer than it l...       5  {'awesome': 0}   \n",
       "3  This is a product well worth the purchase.  I ...       5  {'awesome': 0}   \n",
       "4  All of my kids have cried non-stop when I trie...       5  {'awesome': 0}   \n",
       "\n",
       "    great_count   fantastic_count   amazing_count   love_count  \\\n",
       "0  {'great': 0}  {'fantastic': 0}  {'amazing': 0}  {'love': 0}   \n",
       "1  {'great': 0}  {'fantastic': 0}  {'amazing': 0}  {'love': 1}   \n",
       "2  {'great': 0}  {'fantastic': 0}  {'amazing': 0}  {'love': 0}   \n",
       "3  {'great': 0}  {'fantastic': 0}  {'amazing': 0}  {'love': 2}   \n",
       "4  {'great': 1}  {'fantastic': 0}  {'amazing': 0}  {'love': 0}   \n",
       "\n",
       "    horrible_count   bad_count   terrible_count   awful_count   wow_count  \\\n",
       "0  {'horrible': 0}  {'bad': 0}  {'terrible': 0}  {'awful': 0}  {'wow': 0}   \n",
       "1  {'horrible': 0}  {'bad': 0}  {'terrible': 0}  {'awful': 0}  {'wow': 0}   \n",
       "2  {'horrible': 0}  {'bad': 0}  {'terrible': 0}  {'awful': 0}  {'wow': 0}   \n",
       "3  {'horrible': 0}  {'bad': 0}  {'terrible': 0}  {'awful': 0}  {'wow': 0}   \n",
       "4  {'horrible': 0}  {'bad': 0}  {'terrible': 0}  {'awful': 0}  {'wow': 0}   \n",
       "\n",
       "    hate_count  \n",
       "0  {'hate': 0}  \n",
       "1  {'hate': 0}  \n",
       "2  {'hate': 0}  \n",
       "3  {'hate': 0}  \n",
       "4  {'hate': 0}  "
      ]
     },
     "execution_count": 101,
     "metadata": {},
     "output_type": "execute_result"
    }
   ],
   "source": [
    "pproducts.head()"
   ]
  },
  {
   "cell_type": "code",
   "execution_count": 108,
   "metadata": {},
   "outputs": [],
   "source": [
    "\n",
    "\n",
    "\n",
    "\n",
    "def word_count(words):\n",
    "    #selected_words = ['hate']\n",
    "    count={}\n",
    "    #print(words,type(words))\n",
    "    line1=str(words)\n",
    "    \n",
    "    \n",
    "    words = line1.split()\n",
    "    for word in words:\n",
    "        count[word]=0\n",
    "        \n",
    "    for word in words:\n",
    "        if word not in count:\n",
    "            count[word]=1\n",
    "            #print(word)\n",
    "        else:\n",
    "            count[word]=count[word]+1\n",
    "    \n",
    "        #if word not in selected_words:\n",
    "        #    removed_value = count.pop(word)\n",
    "            \n",
    "            \n",
    "    return count"
   ]
  },
  {
   "cell_type": "code",
   "execution_count": 109,
   "metadata": {},
   "outputs": [],
   "source": [
    "pproducts['word_count']=pproducts['review'].apply(word_count)\n",
    "\n",
    "\n"
   ]
  },
  {
   "cell_type": "code",
   "execution_count": 110,
   "metadata": {},
   "outputs": [
    {
     "data": {
      "text/html": [
       "<div>\n",
       "<style scoped>\n",
       "    .dataframe tbody tr th:only-of-type {\n",
       "        vertical-align: middle;\n",
       "    }\n",
       "\n",
       "    .dataframe tbody tr th {\n",
       "        vertical-align: top;\n",
       "    }\n",
       "\n",
       "    .dataframe thead th {\n",
       "        text-align: right;\n",
       "    }\n",
       "</style>\n",
       "<table border=\"1\" class=\"dataframe\">\n",
       "  <thead>\n",
       "    <tr style=\"text-align: right;\">\n",
       "      <th></th>\n",
       "      <th>name</th>\n",
       "      <th>review</th>\n",
       "      <th>rating</th>\n",
       "      <th>awesome_count</th>\n",
       "      <th>great_count</th>\n",
       "      <th>fantastic_count</th>\n",
       "      <th>amazing_count</th>\n",
       "      <th>love_count</th>\n",
       "      <th>horrible_count</th>\n",
       "      <th>bad_count</th>\n",
       "      <th>terrible_count</th>\n",
       "      <th>awful_count</th>\n",
       "      <th>wow_count</th>\n",
       "      <th>hate_count</th>\n",
       "      <th>word_count</th>\n",
       "    </tr>\n",
       "  </thead>\n",
       "  <tbody>\n",
       "    <tr>\n",
       "      <td>0</td>\n",
       "      <td>Planetwise Flannel Wipes</td>\n",
       "      <td>These flannel wipes are OK, but in my opinion ...</td>\n",
       "      <td>3</td>\n",
       "      <td>{'awesome': 0}</td>\n",
       "      <td>{'great': 0}</td>\n",
       "      <td>{'fantastic': 0}</td>\n",
       "      <td>{'amazing': 0}</td>\n",
       "      <td>{'love': 0}</td>\n",
       "      <td>{'horrible': 0}</td>\n",
       "      <td>{'bad': 0}</td>\n",
       "      <td>{'terrible': 0}</td>\n",
       "      <td>{'awful': 0}</td>\n",
       "      <td>{'wow': 0}</td>\n",
       "      <td>{'hate': 0}</td>\n",
       "      <td>{'These': 1, 'flannel': 1, 'wipes': 2, 'are': ...</td>\n",
       "    </tr>\n",
       "    <tr>\n",
       "      <td>1</td>\n",
       "      <td>Planetwise Wipe Pouch</td>\n",
       "      <td>it came early and was not disappointed. i love...</td>\n",
       "      <td>5</td>\n",
       "      <td>{'awesome': 0}</td>\n",
       "      <td>{'great': 0}</td>\n",
       "      <td>{'fantastic': 0}</td>\n",
       "      <td>{'amazing': 0}</td>\n",
       "      <td>{'love': 1}</td>\n",
       "      <td>{'horrible': 0}</td>\n",
       "      <td>{'bad': 0}</td>\n",
       "      <td>{'terrible': 0}</td>\n",
       "      <td>{'awful': 0}</td>\n",
       "      <td>{'wow': 0}</td>\n",
       "      <td>{'hate': 0}</td>\n",
       "      <td>{'it': 2, 'came': 1, 'early': 1, 'and': 3, 'wa...</td>\n",
       "    </tr>\n",
       "    <tr>\n",
       "      <td>2</td>\n",
       "      <td>Annas Dream Full Quilt with 2 Shams</td>\n",
       "      <td>Very soft and comfortable and warmer than it l...</td>\n",
       "      <td>5</td>\n",
       "      <td>{'awesome': 0}</td>\n",
       "      <td>{'great': 0}</td>\n",
       "      <td>{'fantastic': 0}</td>\n",
       "      <td>{'amazing': 0}</td>\n",
       "      <td>{'love': 0}</td>\n",
       "      <td>{'horrible': 0}</td>\n",
       "      <td>{'bad': 0}</td>\n",
       "      <td>{'terrible': 0}</td>\n",
       "      <td>{'awful': 0}</td>\n",
       "      <td>{'wow': 0}</td>\n",
       "      <td>{'hate': 0}</td>\n",
       "      <td>{'Very': 1, 'soft': 1, 'and': 2, 'comfortable'...</td>\n",
       "    </tr>\n",
       "    <tr>\n",
       "      <td>3</td>\n",
       "      <td>Stop Pacifier Sucking without tears with Thumb...</td>\n",
       "      <td>This is a product well worth the purchase.  I ...</td>\n",
       "      <td>5</td>\n",
       "      <td>{'awesome': 0}</td>\n",
       "      <td>{'great': 0}</td>\n",
       "      <td>{'fantastic': 0}</td>\n",
       "      <td>{'amazing': 0}</td>\n",
       "      <td>{'love': 2}</td>\n",
       "      <td>{'horrible': 0}</td>\n",
       "      <td>{'bad': 0}</td>\n",
       "      <td>{'terrible': 0}</td>\n",
       "      <td>{'awful': 0}</td>\n",
       "      <td>{'wow': 0}</td>\n",
       "      <td>{'hate': 0}</td>\n",
       "      <td>{'This': 1, 'is': 4, 'a': 2, 'product': 2, 'we...</td>\n",
       "    </tr>\n",
       "    <tr>\n",
       "      <td>4</td>\n",
       "      <td>Stop Pacifier Sucking without tears with Thumb...</td>\n",
       "      <td>All of my kids have cried non-stop when I trie...</td>\n",
       "      <td>5</td>\n",
       "      <td>{'awesome': 0}</td>\n",
       "      <td>{'great': 1}</td>\n",
       "      <td>{'fantastic': 0}</td>\n",
       "      <td>{'amazing': 0}</td>\n",
       "      <td>{'love': 0}</td>\n",
       "      <td>{'horrible': 0}</td>\n",
       "      <td>{'bad': 0}</td>\n",
       "      <td>{'terrible': 0}</td>\n",
       "      <td>{'awful': 0}</td>\n",
       "      <td>{'wow': 0}</td>\n",
       "      <td>{'hate': 0}</td>\n",
       "      <td>{'All': 1, 'of': 1, 'my': 1, 'kids': 2, 'have'...</td>\n",
       "    </tr>\n",
       "  </tbody>\n",
       "</table>\n",
       "</div>"
      ],
      "text/plain": [
       "                                                name  \\\n",
       "0                           Planetwise Flannel Wipes   \n",
       "1                              Planetwise Wipe Pouch   \n",
       "2                Annas Dream Full Quilt with 2 Shams   \n",
       "3  Stop Pacifier Sucking without tears with Thumb...   \n",
       "4  Stop Pacifier Sucking without tears with Thumb...   \n",
       "\n",
       "                                              review  rating   awesome_count  \\\n",
       "0  These flannel wipes are OK, but in my opinion ...       3  {'awesome': 0}   \n",
       "1  it came early and was not disappointed. i love...       5  {'awesome': 0}   \n",
       "2  Very soft and comfortable and warmer than it l...       5  {'awesome': 0}   \n",
       "3  This is a product well worth the purchase.  I ...       5  {'awesome': 0}   \n",
       "4  All of my kids have cried non-stop when I trie...       5  {'awesome': 0}   \n",
       "\n",
       "    great_count   fantastic_count   amazing_count   love_count  \\\n",
       "0  {'great': 0}  {'fantastic': 0}  {'amazing': 0}  {'love': 0}   \n",
       "1  {'great': 0}  {'fantastic': 0}  {'amazing': 0}  {'love': 1}   \n",
       "2  {'great': 0}  {'fantastic': 0}  {'amazing': 0}  {'love': 0}   \n",
       "3  {'great': 0}  {'fantastic': 0}  {'amazing': 0}  {'love': 2}   \n",
       "4  {'great': 1}  {'fantastic': 0}  {'amazing': 0}  {'love': 0}   \n",
       "\n",
       "    horrible_count   bad_count   terrible_count   awful_count   wow_count  \\\n",
       "0  {'horrible': 0}  {'bad': 0}  {'terrible': 0}  {'awful': 0}  {'wow': 0}   \n",
       "1  {'horrible': 0}  {'bad': 0}  {'terrible': 0}  {'awful': 0}  {'wow': 0}   \n",
       "2  {'horrible': 0}  {'bad': 0}  {'terrible': 0}  {'awful': 0}  {'wow': 0}   \n",
       "3  {'horrible': 0}  {'bad': 0}  {'terrible': 0}  {'awful': 0}  {'wow': 0}   \n",
       "4  {'horrible': 0}  {'bad': 0}  {'terrible': 0}  {'awful': 0}  {'wow': 0}   \n",
       "\n",
       "    hate_count                                         word_count  \n",
       "0  {'hate': 0}  {'These': 1, 'flannel': 1, 'wipes': 2, 'are': ...  \n",
       "1  {'hate': 0}  {'it': 2, 'came': 1, 'early': 1, 'and': 3, 'wa...  \n",
       "2  {'hate': 0}  {'Very': 1, 'soft': 1, 'and': 2, 'comfortable'...  \n",
       "3  {'hate': 0}  {'This': 1, 'is': 4, 'a': 2, 'product': 2, 'we...  \n",
       "4  {'hate': 0}  {'All': 1, 'of': 1, 'my': 1, 'kids': 2, 'have'...  "
      ]
     },
     "execution_count": 110,
     "metadata": {},
     "output_type": "execute_result"
    }
   ],
   "source": [
    "pproducts.head()"
   ]
  },
  {
   "cell_type": "code",
   "execution_count": 112,
   "metadata": {},
   "outputs": [],
   "source": [
    "import numpy as np \n",
    "import pandas as pd \n",
    "import re\n",
    "import nltk \n",
    "import matplotlib.pyplot as plt\n",
    "%matplotlib inline\n"
   ]
  },
  {
   "cell_type": "code",
   "execution_count": 122,
   "metadata": {},
   "outputs": [],
   "source": [
    "import sklearn\n",
    "from sklearn.model_selection import train_test_split\n",
    "from sklearn.model_selection import train_test_split\n",
    "from sklearn.metrics import confusion_matrix\n",
    "from sklearn.linear_model import LogisticRegression\n"
   ]
  },
  {
   "cell_type": "code",
   "execution_count": 114,
   "metadata": {},
   "outputs": [],
   "source": [
    "#ignore all 3*  reviews\n",
    "pproducts = pproducts[pproducts['rating']!= 3]"
   ]
  },
  {
   "cell_type": "code",
   "execution_count": 117,
   "metadata": {},
   "outputs": [
    {
     "name": "stderr",
     "output_type": "stream",
     "text": [
      "C:\\Users\\hp\\Anaconda3\\lib\\site-packages\\ipykernel_launcher.py:2: SettingWithCopyWarning: \n",
      "A value is trying to be set on a copy of a slice from a DataFrame.\n",
      "Try using .loc[row_indexer,col_indexer] = value instead\n",
      "\n",
      "See the caveats in the documentation: http://pandas.pydata.org/pandas-docs/stable/user_guide/indexing.html#returning-a-view-versus-a-copy\n",
      "  \n"
     ]
    },
    {
     "data": {
      "text/plain": [
       "(166752, 16)"
      ]
     },
     "execution_count": 117,
     "metadata": {},
     "output_type": "execute_result"
    }
   ],
   "source": [
    "#positive sentiment = 4-star or 5-star reviews\n",
    "pproducts['sentiment'] = pproducts['rating'] >= 4\n",
    "pproducts.shape"
   ]
  },
  {
   "cell_type": "code",
   "execution_count": 118,
   "metadata": {},
   "outputs": [],
   "source": [
    "X = pproducts[['awesome_count', 'great_count', 'fantastic_count', 'amazing_count', 'love_count', 'horrible_count', 'bad_count', 'terrible_count', 'awful_count', 'wow_count', 'hate_count']]\n",
    "y=pproducts[['sentiment']]"
   ]
  },
  {
   "cell_type": "code",
   "execution_count": 121,
   "metadata": {},
   "outputs": [],
   "source": [
    "X_train,X_test,y_train,y_test=train_test_split(X,y,test_size=0.2,stratify=y,random_state =100)"
   ]
  },
  {
   "cell_type": "code",
   "execution_count": 123,
   "metadata": {},
   "outputs": [],
   "source": [
    "logreg = LogisticRegression(C=1e5)"
   ]
  },
  {
   "cell_type": "code",
   "execution_count": null,
   "metadata": {},
   "outputs": [],
   "source": []
  },
  {
   "cell_type": "code",
   "execution_count": null,
   "metadata": {},
   "outputs": [],
   "source": []
  }
 ],
 "metadata": {
  "kernelspec": {
   "display_name": "Python 3",
   "language": "python",
   "name": "python3"
  },
  "language_info": {
   "codemirror_mode": {
    "name": "ipython",
    "version": 3
   },
   "file_extension": ".py",
   "mimetype": "text/x-python",
   "name": "python",
   "nbconvert_exporter": "python",
   "pygments_lexer": "ipython3",
   "version": "3.7.4"
  }
 },
 "nbformat": 4,
 "nbformat_minor": 2
}
